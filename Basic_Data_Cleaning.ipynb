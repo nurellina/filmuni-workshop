{
 "cells": [
  {
   "cell_type": "markdown",
   "metadata": {},
   "source": [
    "## Data cleaning with pandas"
   ]
  },
  {
   "cell_type": "markdown",
   "metadata": {},
   "source": [
    "This is a work in progress notebook. The idea is to create a basic tutorial on data cleaning. I will use mainly python and eventually some library that allows me to get colors from images (since I have movie covers).\n",
    "\n",
    "**Possible tasks:**\n",
    "- Clean and consolidate data columns, remove % mark from score and strings from release date.\n",
    "- Get main colors from cover images\n",
    "- Create new column holding cover color information"
   ]
  },
  {
   "cell_type": "code",
   "execution_count": 117,
   "metadata": {},
   "outputs": [],
   "source": [
    "import pandas as pd\n",
    "import numpy as np\n",
    "from datetime import datetime"
   ]
  },
  {
   "cell_type": "code",
   "execution_count": 170,
   "metadata": {},
   "outputs": [],
   "source": [
    "allTitles = pd.read_csv('data/titlesDataRaw_extended.csv', sep=\",\")"
   ]
  },
  {
   "cell_type": "code",
   "execution_count": 171,
   "metadata": {},
   "outputs": [
    {
     "data": {
      "text/html": [
       "<div>\n",
       "<style scoped>\n",
       "    .dataframe tbody tr th:only-of-type {\n",
       "        vertical-align: middle;\n",
       "    }\n",
       "\n",
       "    .dataframe tbody tr th {\n",
       "        vertical-align: top;\n",
       "    }\n",
       "\n",
       "    .dataframe thead th {\n",
       "        text-align: right;\n",
       "    }\n",
       "</style>\n",
       "<table border=\"1\" class=\"dataframe\">\n",
       "  <thead>\n",
       "    <tr style=\"text-align: right;\">\n",
       "      <th></th>\n",
       "      <th>Unnamed: 0</th>\n",
       "      <th>title</th>\n",
       "      <th>rating</th>\n",
       "      <th>available</th>\n",
       "      <th>img</th>\n",
       "    </tr>\n",
       "  </thead>\n",
       "  <tbody>\n",
       "    <tr>\n",
       "      <th>221</th>\n",
       "      <td>221</td>\n",
       "      <td>Jazz On A Summer'S Day</td>\n",
       "      <td>100%</td>\n",
       "      <td>Available Aug 12</td>\n",
       "      <td>data/img/poster-222.jpg</td>\n",
       "    </tr>\n",
       "    <tr>\n",
       "      <th>151</th>\n",
       "      <td>151</td>\n",
       "      <td>Hosts</td>\n",
       "      <td>82%</td>\n",
       "      <td>Available Oct 2</td>\n",
       "      <td>data/img/poster-152.jpg</td>\n",
       "    </tr>\n",
       "    <tr>\n",
       "      <th>259</th>\n",
       "      <td>259</td>\n",
       "      <td>Waiting For The Barbarians</td>\n",
       "      <td>53%</td>\n",
       "      <td>Available Aug 7</td>\n",
       "      <td>data/img/poster-260.jpg</td>\n",
       "    </tr>\n",
       "    <tr>\n",
       "      <th>61</th>\n",
       "      <td>61</td>\n",
       "      <td>Elyse</td>\n",
       "      <td>50%</td>\n",
       "      <td>Available Dec 4</td>\n",
       "      <td>data/img/poster-62.jpg</td>\n",
       "    </tr>\n",
       "    <tr>\n",
       "      <th>256</th>\n",
       "      <td>256</td>\n",
       "      <td>Promare</td>\n",
       "      <td>97%</td>\n",
       "      <td>Available Aug 4</td>\n",
       "      <td>data/img/poster-257.jpg</td>\n",
       "    </tr>\n",
       "  </tbody>\n",
       "</table>\n",
       "</div>"
      ],
      "text/plain": [
       "     Unnamed: 0                       title rating         available  \\\n",
       "221         221      Jazz On A Summer'S Day   100%  Available Aug 12   \n",
       "151         151                       Hosts    82%   Available Oct 2   \n",
       "259         259  Waiting For The Barbarians    53%   Available Aug 7   \n",
       "61           61                       Elyse    50%   Available Dec 4   \n",
       "256         256                     Promare    97%   Available Aug 4   \n",
       "\n",
       "                         img  \n",
       "221  data/img/poster-222.jpg  \n",
       "151  data/img/poster-152.jpg  \n",
       "259  data/img/poster-260.jpg  \n",
       "61    data/img/poster-62.jpg  \n",
       "256  data/img/poster-257.jpg  "
      ]
     },
     "execution_count": 171,
     "metadata": {},
     "output_type": "execute_result"
    }
   ],
   "source": [
    "# Visualizing imported data\n",
    "allTitles.sample(5)"
   ]
  },
  {
   "cell_type": "code",
   "execution_count": 172,
   "metadata": {},
   "outputs": [
    {
     "data": {
      "text/html": [
       "<div>\n",
       "<style scoped>\n",
       "    .dataframe tbody tr th:only-of-type {\n",
       "        vertical-align: middle;\n",
       "    }\n",
       "\n",
       "    .dataframe tbody tr th {\n",
       "        vertical-align: top;\n",
       "    }\n",
       "\n",
       "    .dataframe thead th {\n",
       "        text-align: right;\n",
       "    }\n",
       "</style>\n",
       "<table border=\"1\" class=\"dataframe\">\n",
       "  <thead>\n",
       "    <tr style=\"text-align: right;\">\n",
       "      <th></th>\n",
       "      <th>Unnamed: 0</th>\n",
       "      <th>title</th>\n",
       "      <th>rating</th>\n",
       "      <th>available</th>\n",
       "      <th>img</th>\n",
       "    </tr>\n",
       "  </thead>\n",
       "  <tbody>\n",
       "    <tr>\n",
       "      <th>0</th>\n",
       "      <td>0</td>\n",
       "      <td>The Emoji Story (Picture Character)</td>\n",
       "      <td>91%</td>\n",
       "      <td>Available Dec 22</td>\n",
       "      <td>data/img/poster-1.jpg</td>\n",
       "    </tr>\n",
       "    <tr>\n",
       "      <th>1</th>\n",
       "      <td>1</td>\n",
       "      <td>Yellow Rose</td>\n",
       "      <td>86%</td>\n",
       "      <td>Available Jan 5</td>\n",
       "      <td>data/img/poster-2.jpg</td>\n",
       "    </tr>\n",
       "    <tr>\n",
       "      <th>2</th>\n",
       "      <td>2</td>\n",
       "      <td>Soul</td>\n",
       "      <td>96%</td>\n",
       "      <td>Available Dec 25</td>\n",
       "      <td>data/img/poster-3.jpg</td>\n",
       "    </tr>\n",
       "    <tr>\n",
       "      <th>3</th>\n",
       "      <td>3</td>\n",
       "      <td>Sing Me A Song</td>\n",
       "      <td>88%</td>\n",
       "      <td>Available Jan 1</td>\n",
       "      <td>data/img/poster-4.jpg</td>\n",
       "    </tr>\n",
       "    <tr>\n",
       "      <th>4</th>\n",
       "      <td>4</td>\n",
       "      <td>Pieces Of A Woman</td>\n",
       "      <td>77%</td>\n",
       "      <td>Available Jan 7</td>\n",
       "      <td>data/img/poster-5.jpg</td>\n",
       "    </tr>\n",
       "  </tbody>\n",
       "</table>\n",
       "</div>"
      ],
      "text/plain": [
       "   Unnamed: 0                                title rating         available  \\\n",
       "0           0  The Emoji Story (Picture Character)    91%  Available Dec 22   \n",
       "1           1                          Yellow Rose    86%   Available Jan 5   \n",
       "2           2                                 Soul    96%  Available Dec 25   \n",
       "3           3                       Sing Me A Song    88%   Available Jan 1   \n",
       "4           4                    Pieces Of A Woman    77%   Available Jan 7   \n",
       "\n",
       "                     img  \n",
       "0  data/img/poster-1.jpg  \n",
       "1  data/img/poster-2.jpg  \n",
       "2  data/img/poster-3.jpg  \n",
       "3  data/img/poster-4.jpg  \n",
       "4  data/img/poster-5.jpg  "
      ]
     },
     "execution_count": 172,
     "metadata": {},
     "output_type": "execute_result"
    }
   ],
   "source": [
    "allTitles.head(5)"
   ]
  },
  {
   "cell_type": "code",
   "execution_count": 173,
   "metadata": {},
   "outputs": [
    {
     "data": {
      "text/html": [
       "<div>\n",
       "<style scoped>\n",
       "    .dataframe tbody tr th:only-of-type {\n",
       "        vertical-align: middle;\n",
       "    }\n",
       "\n",
       "    .dataframe tbody tr th {\n",
       "        vertical-align: top;\n",
       "    }\n",
       "\n",
       "    .dataframe thead th {\n",
       "        text-align: right;\n",
       "    }\n",
       "</style>\n",
       "<table border=\"1\" class=\"dataframe\">\n",
       "  <thead>\n",
       "    <tr style=\"text-align: right;\">\n",
       "      <th></th>\n",
       "      <th>Unnamed: 0</th>\n",
       "      <th>title</th>\n",
       "      <th>rating</th>\n",
       "      <th>available</th>\n",
       "      <th>img</th>\n",
       "    </tr>\n",
       "  </thead>\n",
       "  <tbody>\n",
       "    <tr>\n",
       "      <th>309</th>\n",
       "      <td>309</td>\n",
       "      <td>The Silencing</td>\n",
       "      <td>17%</td>\n",
       "      <td>Available Jul 16</td>\n",
       "      <td>data/img/poster-310.jpg</td>\n",
       "    </tr>\n",
       "    <tr>\n",
       "      <th>310</th>\n",
       "      <td>310</td>\n",
       "      <td>Showbiz Kids</td>\n",
       "      <td>96%</td>\n",
       "      <td>Available Jul 14</td>\n",
       "      <td>data/img/poster-311.jpg</td>\n",
       "    </tr>\n",
       "    <tr>\n",
       "      <th>311</th>\n",
       "      <td>311</td>\n",
       "      <td>Deep Blue Sea 3</td>\n",
       "      <td>71%</td>\n",
       "      <td>Available Jul 28</td>\n",
       "      <td>data/img/poster-312.jpg</td>\n",
       "    </tr>\n",
       "    <tr>\n",
       "      <th>312</th>\n",
       "      <td>312</td>\n",
       "      <td>Helmut Newton: The Bad And The Beautiful</td>\n",
       "      <td>69%</td>\n",
       "      <td>Available Jul 24</td>\n",
       "      <td>data/img/poster-313.jpg</td>\n",
       "    </tr>\n",
       "    <tr>\n",
       "      <th>313</th>\n",
       "      <td>313</td>\n",
       "      <td>Host</td>\n",
       "      <td>100%</td>\n",
       "      <td>Available Jul 30</td>\n",
       "      <td>data/img/poster-314.jpg</td>\n",
       "    </tr>\n",
       "  </tbody>\n",
       "</table>\n",
       "</div>"
      ],
      "text/plain": [
       "     Unnamed: 0                                     title rating  \\\n",
       "309         309                             The Silencing    17%   \n",
       "310         310                              Showbiz Kids    96%   \n",
       "311         311                           Deep Blue Sea 3    71%   \n",
       "312         312  Helmut Newton: The Bad And The Beautiful    69%   \n",
       "313         313                                      Host   100%   \n",
       "\n",
       "            available                      img  \n",
       "309  Available Jul 16  data/img/poster-310.jpg  \n",
       "310  Available Jul 14  data/img/poster-311.jpg  \n",
       "311  Available Jul 28  data/img/poster-312.jpg  \n",
       "312  Available Jul 24  data/img/poster-313.jpg  \n",
       "313  Available Jul 30  data/img/poster-314.jpg  "
      ]
     },
     "execution_count": 173,
     "metadata": {},
     "output_type": "execute_result"
    }
   ],
   "source": [
    "allTitles.tail(5)"
   ]
  },
  {
   "cell_type": "code",
   "execution_count": 174,
   "metadata": {},
   "outputs": [],
   "source": [
    "# Simple reassignments, column dropping and so on.\n",
    "allTitles = allTitles.drop(['Unnamed: 0'], axis=1)"
   ]
  },
  {
   "cell_type": "code",
   "execution_count": 175,
   "metadata": {},
   "outputs": [],
   "source": [
    "allTitles.columns = ['title', 'rating_perc', 'available_date', 'img_path']"
   ]
  },
  {
   "cell_type": "code",
   "execution_count": 176,
   "metadata": {},
   "outputs": [],
   "source": [
    "# Good example to show how to iterate over rows without forcing for loops\n",
    "allTitles['rating_perc'] = allTitles['rating_perc'].map(lambda x: x.rstrip('%'))"
   ]
  },
  {
   "cell_type": "code",
   "execution_count": 177,
   "metadata": {},
   "outputs": [],
   "source": [
    "allTitles['available_date'] = allTitles['available_date'].map(lambda x: x.lstrip('Available '))"
   ]
  },
  {
   "cell_type": "code",
   "execution_count": 178,
   "metadata": {},
   "outputs": [],
   "source": [
    "allTitles['available_date'] = allTitles['available_date'].str.replace('ug','Aug')"
   ]
  },
  {
   "cell_type": "code",
   "execution_count": 179,
   "metadata": {},
   "outputs": [],
   "source": [
    "allTitles['available_date'] = allTitles['available_date'].map(lambda x: datetime.strptime(x, '%b %d'))"
   ]
  },
  {
   "cell_type": "code",
   "execution_count": 180,
   "metadata": {},
   "outputs": [
    {
     "data": {
      "text/plain": [
       "array(['1900-12-22T00:00:00.000000000', '1900-01-05T00:00:00.000000000',\n",
       "       '1900-12-25T00:00:00.000000000', '1900-01-01T00:00:00.000000000',\n",
       "       '1900-01-07T00:00:00.000000000', '1900-12-11T00:00:00.000000000',\n",
       "       '1900-12-15T00:00:00.000000000', '1900-12-23T00:00:00.000000000',\n",
       "       '1900-12-18T00:00:00.000000000', '1900-01-12T00:00:00.000000000',\n",
       "       '1900-12-30T00:00:00.000000000', '1900-12-29T00:00:00.000000000',\n",
       "       '1900-01-08T00:00:00.000000000', '1900-12-21T00:00:00.000000000',\n",
       "       '1900-11-27T00:00:00.000000000', '1900-11-20T00:00:00.000000000',\n",
       "       '1900-11-13T00:00:00.000000000', '1900-12-01T00:00:00.000000000',\n",
       "       '1900-11-17T00:00:00.000000000', '1900-11-24T00:00:00.000000000',\n",
       "       '1900-11-25T00:00:00.000000000', '1900-12-04T00:00:00.000000000',\n",
       "       '1900-11-03T00:00:00.000000000', '1900-10-27T00:00:00.000000000',\n",
       "       '1900-11-06T00:00:00.000000000', '1900-11-10T00:00:00.000000000',\n",
       "       '1900-10-23T00:00:00.000000000', '1900-10-30T00:00:00.000000000',\n",
       "       '1900-10-28T00:00:00.000000000', '1900-10-26T00:00:00.000000000',\n",
       "       '1900-11-11T00:00:00.000000000', '1900-11-01T00:00:00.000000000',\n",
       "       '1900-11-05T00:00:00.000000000', '1900-10-20T00:00:00.000000000',\n",
       "       '1900-10-13T00:00:00.000000000', '1900-10-16T00:00:00.000000000',\n",
       "       '1900-10-06T00:00:00.000000000', '1900-10-15T00:00:00.000000000',\n",
       "       '1900-10-09T00:00:00.000000000', '1900-10-21T00:00:00.000000000',\n",
       "       '1900-09-29T00:00:00.000000000', '1900-10-02T00:00:00.000000000',\n",
       "       '1900-09-22T00:00:00.000000000', '1900-09-18T00:00:00.000000000',\n",
       "       '1900-09-30T00:00:00.000000000', '1900-10-01T00:00:00.000000000',\n",
       "       '1900-09-25T00:00:00.000000000', '1900-09-20T00:00:00.000000000',\n",
       "       '1900-09-11T00:00:00.000000000', '1900-09-08T00:00:00.000000000',\n",
       "       '1900-09-04T00:00:00.000000000', '1900-09-15T00:00:00.000000000',\n",
       "       '1900-09-17T00:00:00.000000000', '1900-09-14T00:00:00.000000000',\n",
       "       '1900-08-21T00:00:00.000000000', '1900-08-28T00:00:00.000000000',\n",
       "       '1900-08-25T00:00:00.000000000', '1900-09-01T00:00:00.000000000',\n",
       "       '1900-08-12T00:00:00.000000000', '1900-08-14T00:00:00.000000000',\n",
       "       '1900-08-18T00:00:00.000000000', '1900-08-08T00:00:00.000000000',\n",
       "       '1900-08-11T00:00:00.000000000', '1900-08-20T00:00:00.000000000',\n",
       "       '1900-08-07T00:00:00.000000000', '1900-08-04T00:00:00.000000000',\n",
       "       '1900-08-03T00:00:00.000000000', '1900-07-31T00:00:00.000000000',\n",
       "       '1900-07-28T00:00:00.000000000', '1900-07-14T00:00:00.000000000',\n",
       "       '1900-07-24T00:00:00.000000000', '1900-07-17T00:00:00.000000000',\n",
       "       '1900-07-10T00:00:00.000000000', '1900-07-21T00:00:00.000000000',\n",
       "       '1900-07-16T00:00:00.000000000', '1900-07-30T00:00:00.000000000'],\n",
       "      dtype='datetime64[ns]')"
      ]
     },
     "execution_count": 180,
     "metadata": {},
     "output_type": "execute_result"
    }
   ],
   "source": [
    "allTitles['available_date'].unique()"
   ]
  },
  {
   "cell_type": "code",
   "execution_count": 181,
   "metadata": {},
   "outputs": [],
   "source": [
    "allTitles['available_date'] = allTitles['available_date'].apply(lambda dt: dt.replace(year=2020))"
   ]
  },
  {
   "cell_type": "code",
   "execution_count": 182,
   "metadata": {},
   "outputs": [],
   "source": [
    "condition = (allTitles['available_date'] < '2020-02-01')\n",
    "allTitles['available_date'] = np.where(condition, allTitles['available_date'].apply(lambda dt: dt.replace(year=2021)), allTitles['available_date'].apply(lambda dt: dt.replace(year=2020)))"
   ]
  },
  {
   "cell_type": "code",
   "execution_count": 183,
   "metadata": {},
   "outputs": [
    {
     "data": {
      "text/html": [
       "<div>\n",
       "<style scoped>\n",
       "    .dataframe tbody tr th:only-of-type {\n",
       "        vertical-align: middle;\n",
       "    }\n",
       "\n",
       "    .dataframe tbody tr th {\n",
       "        vertical-align: top;\n",
       "    }\n",
       "\n",
       "    .dataframe thead th {\n",
       "        text-align: right;\n",
       "    }\n",
       "</style>\n",
       "<table border=\"1\" class=\"dataframe\">\n",
       "  <thead>\n",
       "    <tr style=\"text-align: right;\">\n",
       "      <th></th>\n",
       "      <th>title</th>\n",
       "      <th>rating_perc</th>\n",
       "      <th>available_date</th>\n",
       "      <th>img_path</th>\n",
       "    </tr>\n",
       "  </thead>\n",
       "  <tbody>\n",
       "    <tr>\n",
       "      <th>0</th>\n",
       "      <td>The Emoji Story (Picture Character)</td>\n",
       "      <td>91</td>\n",
       "      <td>2020-12-22</td>\n",
       "      <td>data/img/poster-1.jpg</td>\n",
       "    </tr>\n",
       "    <tr>\n",
       "      <th>1</th>\n",
       "      <td>Yellow Rose</td>\n",
       "      <td>86</td>\n",
       "      <td>2021-01-05</td>\n",
       "      <td>data/img/poster-2.jpg</td>\n",
       "    </tr>\n",
       "    <tr>\n",
       "      <th>2</th>\n",
       "      <td>Soul</td>\n",
       "      <td>96</td>\n",
       "      <td>2020-12-25</td>\n",
       "      <td>data/img/poster-3.jpg</td>\n",
       "    </tr>\n",
       "    <tr>\n",
       "      <th>3</th>\n",
       "      <td>Sing Me A Song</td>\n",
       "      <td>88</td>\n",
       "      <td>2021-01-01</td>\n",
       "      <td>data/img/poster-4.jpg</td>\n",
       "    </tr>\n",
       "    <tr>\n",
       "      <th>4</th>\n",
       "      <td>Pieces Of A Woman</td>\n",
       "      <td>77</td>\n",
       "      <td>2021-01-07</td>\n",
       "      <td>data/img/poster-5.jpg</td>\n",
       "    </tr>\n",
       "    <tr>\n",
       "      <th>...</th>\n",
       "      <td>...</td>\n",
       "      <td>...</td>\n",
       "      <td>...</td>\n",
       "      <td>...</td>\n",
       "    </tr>\n",
       "    <tr>\n",
       "      <th>309</th>\n",
       "      <td>The Silencing</td>\n",
       "      <td>17</td>\n",
       "      <td>2020-07-16</td>\n",
       "      <td>data/img/poster-310.jpg</td>\n",
       "    </tr>\n",
       "    <tr>\n",
       "      <th>310</th>\n",
       "      <td>Showbiz Kids</td>\n",
       "      <td>96</td>\n",
       "      <td>2020-07-14</td>\n",
       "      <td>data/img/poster-311.jpg</td>\n",
       "    </tr>\n",
       "    <tr>\n",
       "      <th>311</th>\n",
       "      <td>Deep Blue Sea 3</td>\n",
       "      <td>71</td>\n",
       "      <td>2020-07-28</td>\n",
       "      <td>data/img/poster-312.jpg</td>\n",
       "    </tr>\n",
       "    <tr>\n",
       "      <th>312</th>\n",
       "      <td>Helmut Newton: The Bad And The Beautiful</td>\n",
       "      <td>69</td>\n",
       "      <td>2020-07-24</td>\n",
       "      <td>data/img/poster-313.jpg</td>\n",
       "    </tr>\n",
       "    <tr>\n",
       "      <th>313</th>\n",
       "      <td>Host</td>\n",
       "      <td>100</td>\n",
       "      <td>2020-07-30</td>\n",
       "      <td>data/img/poster-314.jpg</td>\n",
       "    </tr>\n",
       "  </tbody>\n",
       "</table>\n",
       "<p>314 rows × 4 columns</p>\n",
       "</div>"
      ],
      "text/plain": [
       "                                        title rating_perc available_date  \\\n",
       "0         The Emoji Story (Picture Character)          91     2020-12-22   \n",
       "1                                 Yellow Rose          86     2021-01-05   \n",
       "2                                        Soul          96     2020-12-25   \n",
       "3                              Sing Me A Song          88     2021-01-01   \n",
       "4                           Pieces Of A Woman          77     2021-01-07   \n",
       "..                                        ...         ...            ...   \n",
       "309                             The Silencing          17     2020-07-16   \n",
       "310                              Showbiz Kids          96     2020-07-14   \n",
       "311                           Deep Blue Sea 3          71     2020-07-28   \n",
       "312  Helmut Newton: The Bad And The Beautiful          69     2020-07-24   \n",
       "313                                      Host         100     2020-07-30   \n",
       "\n",
       "                    img_path  \n",
       "0      data/img/poster-1.jpg  \n",
       "1      data/img/poster-2.jpg  \n",
       "2      data/img/poster-3.jpg  \n",
       "3      data/img/poster-4.jpg  \n",
       "4      data/img/poster-5.jpg  \n",
       "..                       ...  \n",
       "309  data/img/poster-310.jpg  \n",
       "310  data/img/poster-311.jpg  \n",
       "311  data/img/poster-312.jpg  \n",
       "312  data/img/poster-313.jpg  \n",
       "313  data/img/poster-314.jpg  \n",
       "\n",
       "[314 rows x 4 columns]"
      ]
     },
     "execution_count": 183,
     "metadata": {},
     "output_type": "execute_result"
    }
   ],
   "source": [
    "allTitles"
   ]
  },
  {
   "cell_type": "code",
   "execution_count": 184,
   "metadata": {},
   "outputs": [],
   "source": [
    "allTitles.to_csv('data/titlesDataClean_extended.csv', sep=\",\", index=False)"
   ]
  },
  {
   "cell_type": "code",
   "execution_count": null,
   "metadata": {},
   "outputs": [],
   "source": []
  }
 ],
 "metadata": {
  "kernelspec": {
   "display_name": "my_env",
   "language": "python",
   "name": "my_env"
  },
  "language_info": {
   "codemirror_mode": {
    "name": "ipython",
    "version": 3
   },
   "file_extension": ".py",
   "mimetype": "text/x-python",
   "name": "python",
   "nbconvert_exporter": "python",
   "pygments_lexer": "ipython3",
   "version": "3.8.5"
  }
 },
 "nbformat": 4,
 "nbformat_minor": 4
}
