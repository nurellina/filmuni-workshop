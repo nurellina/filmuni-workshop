{
 "cells": [
  {
   "cell_type": "markdown",
   "metadata": {},
   "source": [
    "## Data cleaning with pandas"
   ]
  },
  {
   "cell_type": "markdown",
   "metadata": {},
   "source": [
    "This is a work in progress notebook. The idea is to create a basic tutorial on data cleaning. I will use mainly python and eventually some library that allows me to get colors from images (since I have movie covers).\n",
    "\n",
    "**Possible tasks:**\n",
    "- Clean and consolidate data columns, remove % mark from score and strings from release date.\n",
    "- Get main colors from cover images\n",
    "- Create new column holding cover color information"
   ]
  },
  {
   "cell_type": "code",
   "execution_count": 1,
   "metadata": {},
   "outputs": [],
   "source": [
    "import pandas as pd\n",
    "import numpy as np\n",
    "from datetime import datetime"
   ]
  },
  {
   "cell_type": "markdown",
   "metadata": {},
   "source": [
    "#### Load and preview data"
   ]
  },
  {
   "cell_type": "markdown",
   "metadata": {},
   "source": [
    "We can easily open a csv file by specifying its directory. If we use `pd.read_csv` we also automatically convert our file into a Dataframe that can be later manipulated. We can also display data very conveniently by using `.sample()`, `.head()` or `.tail()`."
   ]
  },
  {
   "cell_type": "code",
   "execution_count": 19,
   "metadata": {},
   "outputs": [
    {
     "data": {
      "text/html": [
       "<div>\n",
       "<style scoped>\n",
       "    .dataframe tbody tr th:only-of-type {\n",
       "        vertical-align: middle;\n",
       "    }\n",
       "\n",
       "    .dataframe tbody tr th {\n",
       "        vertical-align: top;\n",
       "    }\n",
       "\n",
       "    .dataframe thead th {\n",
       "        text-align: right;\n",
       "    }\n",
       "</style>\n",
       "<table border=\"1\" class=\"dataframe\">\n",
       "  <thead>\n",
       "    <tr style=\"text-align: right;\">\n",
       "      <th></th>\n",
       "      <th>Unnamed: 0</th>\n",
       "      <th>title</th>\n",
       "      <th>rating</th>\n",
       "      <th>available</th>\n",
       "      <th>img</th>\n",
       "    </tr>\n",
       "  </thead>\n",
       "  <tbody>\n",
       "    <tr>\n",
       "      <th>48</th>\n",
       "      <td>48</td>\n",
       "      <td>A Chef'S Voyage</td>\n",
       "      <td>67%</td>\n",
       "      <td>Available Nov 24</td>\n",
       "      <td>data/img/poster-49.jpg</td>\n",
       "    </tr>\n",
       "    <tr>\n",
       "      <th>17</th>\n",
       "      <td>17</td>\n",
       "      <td>The Prom</td>\n",
       "      <td>57%</td>\n",
       "      <td>Available Dec 11</td>\n",
       "      <td>data/img/poster-18.jpg</td>\n",
       "    </tr>\n",
       "    <tr>\n",
       "      <th>66</th>\n",
       "      <td>66</td>\n",
       "      <td>Wolfman'S Got Nards</td>\n",
       "      <td>100%</td>\n",
       "      <td>Available Oct 27</td>\n",
       "      <td>data/img/poster-67.jpg</td>\n",
       "    </tr>\n",
       "    <tr>\n",
       "      <th>267</th>\n",
       "      <td>267</td>\n",
       "      <td>I Used To Go Here</td>\n",
       "      <td>85%</td>\n",
       "      <td>Available Aug 7</td>\n",
       "      <td>data/img/poster-268.jpg</td>\n",
       "    </tr>\n",
       "    <tr>\n",
       "      <th>21</th>\n",
       "      <td>21</td>\n",
       "      <td>Max Cloud</td>\n",
       "      <td>50%</td>\n",
       "      <td>Available Dec 18</td>\n",
       "      <td>data/img/poster-22.jpg</td>\n",
       "    </tr>\n",
       "  </tbody>\n",
       "</table>\n",
       "</div>"
      ],
      "text/plain": [
       "     Unnamed: 0                title rating         available  \\\n",
       "48           48      A Chef'S Voyage    67%  Available Nov 24   \n",
       "17           17             The Prom    57%  Available Dec 11   \n",
       "66           66  Wolfman'S Got Nards   100%  Available Oct 27   \n",
       "267         267    I Used To Go Here    85%   Available Aug 7   \n",
       "21           21            Max Cloud    50%  Available Dec 18   \n",
       "\n",
       "                         img  \n",
       "48    data/img/poster-49.jpg  \n",
       "17    data/img/poster-18.jpg  \n",
       "66    data/img/poster-67.jpg  \n",
       "267  data/img/poster-268.jpg  \n",
       "21    data/img/poster-22.jpg  "
      ]
     },
     "execution_count": 19,
     "metadata": {},
     "output_type": "execute_result"
    }
   ],
   "source": [
    "#Reading files\n",
    "allTitles = pd.read_csv('data/titlesDataRaw_extended.csv', sep=\",\")\n",
    "\n",
    "# Print a sample of rows\n",
    "allTitles.sample(5)"
   ]
  },
  {
   "cell_type": "code",
   "execution_count": 20,
   "metadata": {},
   "outputs": [
    {
     "data": {
      "text/html": [
       "<div>\n",
       "<style scoped>\n",
       "    .dataframe tbody tr th:only-of-type {\n",
       "        vertical-align: middle;\n",
       "    }\n",
       "\n",
       "    .dataframe tbody tr th {\n",
       "        vertical-align: top;\n",
       "    }\n",
       "\n",
       "    .dataframe thead th {\n",
       "        text-align: right;\n",
       "    }\n",
       "</style>\n",
       "<table border=\"1\" class=\"dataframe\">\n",
       "  <thead>\n",
       "    <tr style=\"text-align: right;\">\n",
       "      <th></th>\n",
       "      <th>Unnamed: 0</th>\n",
       "      <th>title</th>\n",
       "      <th>rating</th>\n",
       "      <th>available</th>\n",
       "      <th>img</th>\n",
       "    </tr>\n",
       "  </thead>\n",
       "  <tbody>\n",
       "    <tr>\n",
       "      <th>0</th>\n",
       "      <td>0</td>\n",
       "      <td>The Emoji Story (Picture Character)</td>\n",
       "      <td>91%</td>\n",
       "      <td>Available Dec 22</td>\n",
       "      <td>data/img/poster-1.jpg</td>\n",
       "    </tr>\n",
       "    <tr>\n",
       "      <th>1</th>\n",
       "      <td>1</td>\n",
       "      <td>Yellow Rose</td>\n",
       "      <td>86%</td>\n",
       "      <td>Available Jan 5</td>\n",
       "      <td>data/img/poster-2.jpg</td>\n",
       "    </tr>\n",
       "    <tr>\n",
       "      <th>2</th>\n",
       "      <td>2</td>\n",
       "      <td>Soul</td>\n",
       "      <td>96%</td>\n",
       "      <td>Available Dec 25</td>\n",
       "      <td>data/img/poster-3.jpg</td>\n",
       "    </tr>\n",
       "    <tr>\n",
       "      <th>3</th>\n",
       "      <td>3</td>\n",
       "      <td>Sing Me A Song</td>\n",
       "      <td>88%</td>\n",
       "      <td>Available Jan 1</td>\n",
       "      <td>data/img/poster-4.jpg</td>\n",
       "    </tr>\n",
       "    <tr>\n",
       "      <th>4</th>\n",
       "      <td>4</td>\n",
       "      <td>Pieces Of A Woman</td>\n",
       "      <td>77%</td>\n",
       "      <td>Available Jan 7</td>\n",
       "      <td>data/img/poster-5.jpg</td>\n",
       "    </tr>\n",
       "  </tbody>\n",
       "</table>\n",
       "</div>"
      ],
      "text/plain": [
       "   Unnamed: 0                                title rating         available  \\\n",
       "0           0  The Emoji Story (Picture Character)    91%  Available Dec 22   \n",
       "1           1                          Yellow Rose    86%   Available Jan 5   \n",
       "2           2                                 Soul    96%  Available Dec 25   \n",
       "3           3                       Sing Me A Song    88%   Available Jan 1   \n",
       "4           4                    Pieces Of A Woman    77%   Available Jan 7   \n",
       "\n",
       "                     img  \n",
       "0  data/img/poster-1.jpg  \n",
       "1  data/img/poster-2.jpg  \n",
       "2  data/img/poster-3.jpg  \n",
       "3  data/img/poster-4.jpg  \n",
       "4  data/img/poster-5.jpg  "
      ]
     },
     "execution_count": 20,
     "metadata": {},
     "output_type": "execute_result"
    }
   ],
   "source": [
    "# Print the first 5 rows in the dataframe\n",
    "allTitles.head(5)"
   ]
  },
  {
   "cell_type": "code",
   "execution_count": 21,
   "metadata": {},
   "outputs": [
    {
     "data": {
      "text/html": [
       "<div>\n",
       "<style scoped>\n",
       "    .dataframe tbody tr th:only-of-type {\n",
       "        vertical-align: middle;\n",
       "    }\n",
       "\n",
       "    .dataframe tbody tr th {\n",
       "        vertical-align: top;\n",
       "    }\n",
       "\n",
       "    .dataframe thead th {\n",
       "        text-align: right;\n",
       "    }\n",
       "</style>\n",
       "<table border=\"1\" class=\"dataframe\">\n",
       "  <thead>\n",
       "    <tr style=\"text-align: right;\">\n",
       "      <th></th>\n",
       "      <th>Unnamed: 0</th>\n",
       "      <th>title</th>\n",
       "      <th>rating</th>\n",
       "      <th>available</th>\n",
       "      <th>img</th>\n",
       "    </tr>\n",
       "  </thead>\n",
       "  <tbody>\n",
       "    <tr>\n",
       "      <th>309</th>\n",
       "      <td>309</td>\n",
       "      <td>The Silencing</td>\n",
       "      <td>17%</td>\n",
       "      <td>Available Jul 16</td>\n",
       "      <td>data/img/poster-310.jpg</td>\n",
       "    </tr>\n",
       "    <tr>\n",
       "      <th>310</th>\n",
       "      <td>310</td>\n",
       "      <td>Showbiz Kids</td>\n",
       "      <td>96%</td>\n",
       "      <td>Available Jul 14</td>\n",
       "      <td>data/img/poster-311.jpg</td>\n",
       "    </tr>\n",
       "    <tr>\n",
       "      <th>311</th>\n",
       "      <td>311</td>\n",
       "      <td>Deep Blue Sea 3</td>\n",
       "      <td>71%</td>\n",
       "      <td>Available Jul 28</td>\n",
       "      <td>data/img/poster-312.jpg</td>\n",
       "    </tr>\n",
       "    <tr>\n",
       "      <th>312</th>\n",
       "      <td>312</td>\n",
       "      <td>Helmut Newton: The Bad And The Beautiful</td>\n",
       "      <td>69%</td>\n",
       "      <td>Available Jul 24</td>\n",
       "      <td>data/img/poster-313.jpg</td>\n",
       "    </tr>\n",
       "    <tr>\n",
       "      <th>313</th>\n",
       "      <td>313</td>\n",
       "      <td>Host</td>\n",
       "      <td>100%</td>\n",
       "      <td>Available Jul 30</td>\n",
       "      <td>data/img/poster-314.jpg</td>\n",
       "    </tr>\n",
       "  </tbody>\n",
       "</table>\n",
       "</div>"
      ],
      "text/plain": [
       "     Unnamed: 0                                     title rating  \\\n",
       "309         309                             The Silencing    17%   \n",
       "310         310                              Showbiz Kids    96%   \n",
       "311         311                           Deep Blue Sea 3    71%   \n",
       "312         312  Helmut Newton: The Bad And The Beautiful    69%   \n",
       "313         313                                      Host   100%   \n",
       "\n",
       "            available                      img  \n",
       "309  Available Jul 16  data/img/poster-310.jpg  \n",
       "310  Available Jul 14  data/img/poster-311.jpg  \n",
       "311  Available Jul 28  data/img/poster-312.jpg  \n",
       "312  Available Jul 24  data/img/poster-313.jpg  \n",
       "313  Available Jul 30  data/img/poster-314.jpg  "
      ]
     },
     "execution_count": 21,
     "metadata": {},
     "output_type": "execute_result"
    }
   ],
   "source": [
    "# Print the last 5 rows in the dataframe\n",
    "allTitles.tail(5)"
   ]
  },
  {
   "cell_type": "markdown",
   "metadata": {},
   "source": [
    "#### Adapt data structure"
   ]
  },
  {
   "cell_type": "markdown",
   "metadata": {},
   "source": [
    "We can drop, sort, replace, create or rename columns very easily."
   ]
  },
  {
   "cell_type": "code",
   "execution_count": 22,
   "metadata": {},
   "outputs": [],
   "source": [
    "# Drop the index column that I accidentally exported when scraping \n",
    "#(it can be easily avoided by setting Index=False when exporting the csv)\n",
    "allTitles = allTitles.drop(['Unnamed: 0'], axis=1)"
   ]
  },
  {
   "cell_type": "code",
   "execution_count": 23,
   "metadata": {},
   "outputs": [
    {
     "data": {
      "text/plain": [
       "Index(['title', 'rating', 'available', 'img'], dtype='object')"
      ]
     },
     "execution_count": 23,
     "metadata": {},
     "output_type": "execute_result"
    }
   ],
   "source": [
    "# Print column names\n",
    "allTitles.columns"
   ]
  },
  {
   "cell_type": "code",
   "execution_count": 24,
   "metadata": {},
   "outputs": [],
   "source": [
    "# Rename columns\n",
    "allTitles.columns = ['title', 'rating_perc', 'available_date', 'img_path']"
   ]
  },
  {
   "cell_type": "code",
   "execution_count": 25,
   "metadata": {},
   "outputs": [],
   "source": [
    "# Reorder columns\n",
    "allTitles = allTitles[['title', 'available_date', 'rating_perc', 'img_path']]"
   ]
  },
  {
   "cell_type": "code",
   "execution_count": 26,
   "metadata": {},
   "outputs": [
    {
     "data": {
      "text/plain": [
       "Index(['title', 'available_date', 'rating_perc', 'img_path'], dtype='object')"
      ]
     },
     "execution_count": 26,
     "metadata": {},
     "output_type": "execute_result"
    }
   ],
   "source": [
    "allTitles.columns"
   ]
  },
  {
   "cell_type": "markdown",
   "metadata": {},
   "source": [
    "#### Remove pieces of strings"
   ]
  },
  {
   "cell_type": "markdown",
   "metadata": {},
   "source": [
    "Lots of pandas methods automatically iterate over rows without using for loops (which is possible using `.iterrows()`, but not reccommended). This method is called `.apply()` and allows us to pass anonymous or lambda functions to each row in our DataFrame. In most of the cases `.apply()` is comparable to the python native `.map()`. Compact iterations are useful in data cleaning operations, especially when we have big DataFrames."
   ]
  },
  {
   "cell_type": "code",
   "execution_count": 31,
   "metadata": {},
   "outputs": [],
   "source": [
    "# Right strip all the rows for the column 'rating_perc' (using .apply())\n",
    "allTitles['rating_perc'] = allTitles['rating_perc'].apply(lambda x: x.rstrip('%'))"
   ]
  },
  {
   "cell_type": "code",
   "execution_count": 32,
   "metadata": {},
   "outputs": [],
   "source": [
    "# Left strip all the rows for the column 'available_date' (using .map())\n",
    "allTitles['available_date'] = allTitles['available_date'].map(lambda x: x.lstrip('Available '))"
   ]
  },
  {
   "cell_type": "code",
   "execution_count": 33,
   "metadata": {},
   "outputs": [
    {
     "data": {
      "text/plain": [
       "array(['Dec 22', 'Jan 5', 'Dec 25', 'Jan 1', 'Jan 7', 'Dec 11', 'Dec 15',\n",
       "       'Dec 23', 'Dec 18', 'Jan 12', 'Dec 30', 'Dec 29', 'Jan 8',\n",
       "       'Dec 21', 'Nov 27', 'Nov 20', 'Nov 13', 'Dec 1', 'Nov 17',\n",
       "       'Nov 24', 'Nov 25', 'Dec 4', 'Nov 3', 'Oct 27', 'Nov 6', 'Nov 10',\n",
       "       'Oct 23', 'Oct 30', 'Oct 28', 'Oct 26', 'Nov 11', 'Nov 1', 'Nov 5',\n",
       "       'Oct 20', 'Oct 13', 'Oct 16', 'Oct 6', 'Oct 15', 'Oct 9', 'Oct 21',\n",
       "       'Sep 29', 'Oct 2', 'Sep 22', 'Sep 18', 'Sep 30', 'Oct 1', 'Sep 25',\n",
       "       'Sep 20', 'Sep 11', 'Sep 8', 'Sep 4', 'Sep 15', 'Sep 17', 'Sep 14',\n",
       "       'ug 21', 'ug 28', 'ug 25', 'Sep 1', 'ug 12', 'ug 14', 'ug 18',\n",
       "       'ug 8', 'ug 11', 'ug 20', 'ug 7', 'ug 4', 'ug 3', 'Jul 31',\n",
       "       'Jul 28', 'Jul 14', 'Jul 24', 'Jul 17', 'Jul 10', 'Jul 21',\n",
       "       'Jul 16', 'Jul 30'], dtype=object)"
      ]
     },
     "execution_count": 33,
     "metadata": {},
     "output_type": "execute_result"
    }
   ],
   "source": [
    "# We can check our result by printing the unique values for a particular column.\n",
    "allTitles['available_date'].unique()"
   ]
  },
  {
   "cell_type": "code",
   "execution_count": 10,
   "metadata": {},
   "outputs": [],
   "source": [
    "# We can replace parts of strings if we notice that something went wrong in our cleaning.\n",
    "allTitles['available_date'] = allTitles['available_date'].str.replace('ug','Aug')"
   ]
  },
  {
   "cell_type": "markdown",
   "metadata": {},
   "source": [
    "#### Change data format"
   ]
  },
  {
   "cell_type": "markdown",
   "metadata": {},
   "source": [
    "Another annoying task is changing data format. We have at our disposal a series of methods to do that, not only for standard formats such as strings or integers, but also for \"special\" ones like datetime."
   ]
  },
  {
   "cell_type": "code",
   "execution_count": 29,
   "metadata": {},
   "outputs": [
    {
     "data": {
      "text/plain": [
       "title             object\n",
       "available_date    object\n",
       "rating_perc       object\n",
       "img_path          object\n",
       "dtype: object"
      ]
     },
     "execution_count": 29,
     "metadata": {},
     "output_type": "execute_result"
    }
   ],
   "source": [
    "# We can check data format by using .dtypes\n",
    "allTitles.dtypes"
   ]
  },
  {
   "cell_type": "code",
   "execution_count": 11,
   "metadata": {},
   "outputs": [],
   "source": [
    "# Use the datetime module to convert dates from strings to datetime objects\n",
    "allTitles['available_date'] = allTitles['available_date'].map(lambda x: datetime.strptime(x, '%b %d'))"
   ]
  },
  {
   "cell_type": "code",
   "execution_count": 12,
   "metadata": {
    "collapsed": true
   },
   "outputs": [
    {
     "data": {
      "text/plain": [
       "array(['1900-12-22T00:00:00.000000000', '1900-01-05T00:00:00.000000000',\n",
       "       '1900-12-25T00:00:00.000000000', '1900-01-01T00:00:00.000000000',\n",
       "       '1900-01-07T00:00:00.000000000', '1900-12-11T00:00:00.000000000',\n",
       "       '1900-12-15T00:00:00.000000000', '1900-12-23T00:00:00.000000000',\n",
       "       '1900-12-18T00:00:00.000000000', '1900-01-12T00:00:00.000000000',\n",
       "       '1900-12-30T00:00:00.000000000', '1900-12-29T00:00:00.000000000',\n",
       "       '1900-01-08T00:00:00.000000000', '1900-12-21T00:00:00.000000000',\n",
       "       '1900-11-27T00:00:00.000000000', '1900-11-20T00:00:00.000000000',\n",
       "       '1900-11-13T00:00:00.000000000', '1900-12-01T00:00:00.000000000',\n",
       "       '1900-11-17T00:00:00.000000000', '1900-11-24T00:00:00.000000000',\n",
       "       '1900-11-25T00:00:00.000000000', '1900-12-04T00:00:00.000000000',\n",
       "       '1900-11-03T00:00:00.000000000', '1900-10-27T00:00:00.000000000',\n",
       "       '1900-11-06T00:00:00.000000000', '1900-11-10T00:00:00.000000000',\n",
       "       '1900-10-23T00:00:00.000000000', '1900-10-30T00:00:00.000000000',\n",
       "       '1900-10-28T00:00:00.000000000', '1900-10-26T00:00:00.000000000',\n",
       "       '1900-11-11T00:00:00.000000000', '1900-11-01T00:00:00.000000000',\n",
       "       '1900-11-05T00:00:00.000000000', '1900-10-20T00:00:00.000000000',\n",
       "       '1900-10-13T00:00:00.000000000', '1900-10-16T00:00:00.000000000',\n",
       "       '1900-10-06T00:00:00.000000000', '1900-10-15T00:00:00.000000000',\n",
       "       '1900-10-09T00:00:00.000000000', '1900-10-21T00:00:00.000000000',\n",
       "       '1900-09-29T00:00:00.000000000', '1900-10-02T00:00:00.000000000',\n",
       "       '1900-09-22T00:00:00.000000000', '1900-09-18T00:00:00.000000000',\n",
       "       '1900-09-30T00:00:00.000000000', '1900-10-01T00:00:00.000000000',\n",
       "       '1900-09-25T00:00:00.000000000', '1900-09-20T00:00:00.000000000',\n",
       "       '1900-09-11T00:00:00.000000000', '1900-09-08T00:00:00.000000000',\n",
       "       '1900-09-04T00:00:00.000000000', '1900-09-15T00:00:00.000000000',\n",
       "       '1900-09-17T00:00:00.000000000', '1900-09-14T00:00:00.000000000',\n",
       "       '1900-08-21T00:00:00.000000000', '1900-08-28T00:00:00.000000000',\n",
       "       '1900-08-25T00:00:00.000000000', '1900-09-01T00:00:00.000000000',\n",
       "       '1900-08-12T00:00:00.000000000', '1900-08-14T00:00:00.000000000',\n",
       "       '1900-08-18T00:00:00.000000000', '1900-08-08T00:00:00.000000000',\n",
       "       '1900-08-11T00:00:00.000000000', '1900-08-20T00:00:00.000000000',\n",
       "       '1900-08-07T00:00:00.000000000', '1900-08-04T00:00:00.000000000',\n",
       "       '1900-08-03T00:00:00.000000000', '1900-07-31T00:00:00.000000000',\n",
       "       '1900-07-28T00:00:00.000000000', '1900-07-14T00:00:00.000000000',\n",
       "       '1900-07-24T00:00:00.000000000', '1900-07-17T00:00:00.000000000',\n",
       "       '1900-07-10T00:00:00.000000000', '1900-07-21T00:00:00.000000000',\n",
       "       '1900-07-16T00:00:00.000000000', '1900-07-30T00:00:00.000000000'],\n",
       "      dtype='datetime64[ns]')"
      ]
     },
     "execution_count": 12,
     "metadata": {},
     "output_type": "execute_result"
    }
   ],
   "source": [
    "# Sometimes we encounter hiccups, for example here the year assignes id totally random, since we didn't have it\n",
    "# when scraping.\n",
    "allTitles['available_date'].unique()"
   ]
  },
  {
   "cell_type": "code",
   "execution_count": 13,
   "metadata": {},
   "outputs": [],
   "source": [
    "# We cheat a bit ;), using the datetime method to replace parts of our dates we assign the year 2020 to every row\n",
    "allTitles['available_date'] = allTitles['available_date'].apply(lambda dt: dt.replace(year=2020))"
   ]
  },
  {
   "cell_type": "code",
   "execution_count": 14,
   "metadata": {},
   "outputs": [],
   "source": [
    "# However since we scraped from July 2020 until today we change year to January entries\n",
    "\n",
    "# Define our condition\n",
    "condition = (allTitles['available_date'] < '2020-02-01')\n",
    "\n",
    "# We use numpy to selectively change rows that match our initial condition, other rows will remain unchanged\n",
    "allTitles['available_date'] = np.where(condition, allTitles['available_date'].apply(lambda dt: dt.replace(year=2021)), allTitles['available_date'].apply(lambda dt: dt.replace(year=2020)))"
   ]
  },
  {
   "cell_type": "code",
   "execution_count": 16,
   "metadata": {
    "scrolled": false
   },
   "outputs": [
    {
     "data": {
      "text/html": [
       "<div>\n",
       "<style scoped>\n",
       "    .dataframe tbody tr th:only-of-type {\n",
       "        vertical-align: middle;\n",
       "    }\n",
       "\n",
       "    .dataframe tbody tr th {\n",
       "        vertical-align: top;\n",
       "    }\n",
       "\n",
       "    .dataframe thead th {\n",
       "        text-align: right;\n",
       "    }\n",
       "</style>\n",
       "<table border=\"1\" class=\"dataframe\">\n",
       "  <thead>\n",
       "    <tr style=\"text-align: right;\">\n",
       "      <th></th>\n",
       "      <th>title</th>\n",
       "      <th>rating_perc</th>\n",
       "      <th>available_date</th>\n",
       "      <th>img_path</th>\n",
       "    </tr>\n",
       "  </thead>\n",
       "  <tbody>\n",
       "    <tr>\n",
       "      <th>0</th>\n",
       "      <td>The Emoji Story (Picture Character)</td>\n",
       "      <td>91</td>\n",
       "      <td>2020-12-22</td>\n",
       "      <td>data/img/poster-1.jpg</td>\n",
       "    </tr>\n",
       "    <tr>\n",
       "      <th>1</th>\n",
       "      <td>Yellow Rose</td>\n",
       "      <td>86</td>\n",
       "      <td>2021-01-05</td>\n",
       "      <td>data/img/poster-2.jpg</td>\n",
       "    </tr>\n",
       "    <tr>\n",
       "      <th>2</th>\n",
       "      <td>Soul</td>\n",
       "      <td>96</td>\n",
       "      <td>2020-12-25</td>\n",
       "      <td>data/img/poster-3.jpg</td>\n",
       "    </tr>\n",
       "    <tr>\n",
       "      <th>3</th>\n",
       "      <td>Sing Me A Song</td>\n",
       "      <td>88</td>\n",
       "      <td>2021-01-01</td>\n",
       "      <td>data/img/poster-4.jpg</td>\n",
       "    </tr>\n",
       "    <tr>\n",
       "      <th>4</th>\n",
       "      <td>Pieces Of A Woman</td>\n",
       "      <td>77</td>\n",
       "      <td>2021-01-07</td>\n",
       "      <td>data/img/poster-5.jpg</td>\n",
       "    </tr>\n",
       "  </tbody>\n",
       "</table>\n",
       "</div>"
      ],
      "text/plain": [
       "                                 title rating_perc available_date  \\\n",
       "0  The Emoji Story (Picture Character)          91     2020-12-22   \n",
       "1                          Yellow Rose          86     2021-01-05   \n",
       "2                                 Soul          96     2020-12-25   \n",
       "3                       Sing Me A Song          88     2021-01-01   \n",
       "4                    Pieces Of A Woman          77     2021-01-07   \n",
       "\n",
       "                img_path  \n",
       "0  data/img/poster-1.jpg  \n",
       "1  data/img/poster-2.jpg  \n",
       "2  data/img/poster-3.jpg  \n",
       "3  data/img/poster-4.jpg  \n",
       "4  data/img/poster-5.jpg  "
      ]
     },
     "execution_count": 16,
     "metadata": {},
     "output_type": "execute_result"
    }
   ],
   "source": [
    "allTitles.head(5)"
   ]
  },
  {
   "cell_type": "markdown",
   "metadata": {},
   "source": [
    "#### How to visualize"
   ]
  },
  {
   "cell_type": "markdown",
   "metadata": {},
   "source": [
    "Once we have cleaned data – be them definitive or intermediate results – we can use python libraries for data visualization such as [mathplot lib](https://matplotlib.org/) or [seaborn](https://seaborn.pydata.org/) or we can export our data to use them in other softwares. For the purpose of this exercise we will show you how to use RawGraph, an open source platform to create simple graphs."
   ]
  },
  {
   "cell_type": "code",
   "execution_count": 184,
   "metadata": {},
   "outputs": [],
   "source": [
    "\n",
    "# Export data\n",
    "allTitles.to_csv('data/titlesDataClean_extended.csv', sep=\",\", index=False)"
   ]
  },
  {
   "cell_type": "markdown",
   "metadata": {},
   "source": [
    "#### Movies rating distribution between July 2020 and January 2021"
   ]
  },
  {
   "cell_type": "markdown",
   "metadata": {},
   "source": [
    "![movies-distribution](visualizations/movies-distribution.png)"
   ]
  },
  {
   "cell_type": "code",
   "execution_count": null,
   "metadata": {},
   "outputs": [],
   "source": []
  }
 ],
 "metadata": {
  "kernelspec": {
   "display_name": "my_env",
   "language": "python",
   "name": "my_env"
  },
  "language_info": {
   "codemirror_mode": {
    "name": "ipython",
    "version": 3
   },
   "file_extension": ".py",
   "mimetype": "text/x-python",
   "name": "python",
   "nbconvert_exporter": "python",
   "pygments_lexer": "ipython3",
   "version": "3.8.5"
  }
 },
 "nbformat": 4,
 "nbformat_minor": 4
}
