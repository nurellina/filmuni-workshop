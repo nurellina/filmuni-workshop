{
 "cells": [
  {
   "cell_type": "markdown",
   "metadata": {},
   "source": [
    "## Dynamic Scraping with Selenium and Chrome webdriver"
   ]
  },
  {
   "cell_type": "markdown",
   "metadata": {},
   "source": [
    "#### Approx execution time: 1h 30min"
   ]
  },
  {
   "cell_type": "markdown",
   "metadata": {},
   "source": [
    "This is a simple notebook to work with Selenium and Chrome Webdriver in order to scrape a dynamic website. While for static websites we can use [Beautiful Soup](https://pypi.org/project/beautifulsoup4/), when we are working with dynamic ones we need Selenium. The key aspect of [Selenium](https://pypi.org/project/selenium/) is that it executes javascript when loading a page request, this allows for dynamic websites to be scraped easily. For the purpose of this exercise we will use [Chrome WebDriver](https://chromedriver.chromium.org/), a tool for automated testing of web apps. To complete our exercise we will also use [pandas](https://pypi.org/project/pandas/), the data science and data analysis library, in order to create a dataframe and export our data to our local machine.\n",
    "\n",
    "**Tutorial sections:**\n",
    "- **Start a Headless session**: Start a WebDriver session with Selenium. It will be headless since we won't open a visual browser window and our script will \"drive\" it across the pages we need.\n",
    "- **One page simple scraping**: retrieve all the content from one page and create a dataframe\n",
    "- **Scraping across pages**: Continously load new content, then create a dataframe"
   ]
  },
  {
   "cell_type": "markdown",
   "metadata": {},
   "source": [
    "**Step 1: import**"
   ]
  },
  {
   "cell_type": "code",
   "execution_count": 1,
   "metadata": {},
   "outputs": [],
   "source": [
    "# Will make scraping possible by importing our webdriver and relevant options. This import section can be easily\n",
    "#costumized based on your needs (for example to add particular options to your browser or to catch common errors)\n",
    "from selenium import webdriver\n",
    "from selenium.webdriver.chrome.options import Options\n",
    "from webdriver_manager.chrome import ChromeDriverManager\n",
    "from selenium.common.exceptions import NoSuchElementException\n",
    "import time\n",
    "\n",
    "# Will allow to request, access and write urls of images and other links\n",
    "import urllib.request\n",
    "import requests\n",
    "\n",
    "# Will allow us to move the data we scrape within tables and then export them to csv\n",
    "import pandas as pd"
   ]
  },
  {
   "cell_type": "markdown",
   "metadata": {},
   "source": [
    "Initialize Selenium and driver instance using Chrome WebDriver. To properly install ChromeDriver you can manually set the path following [this guide](https://www.kenst.com/2015/03/including-the-chromedriver-location-in-macos-system-path/) or use `pip install webdriver-manager` to manage it."
   ]
  },
  {
   "cell_type": "markdown",
   "metadata": {},
   "source": [
    "**Step 2: start Chrome webdriver session**"
   ]
  },
  {
   "cell_type": "markdown",
   "metadata": {},
   "source": [
    "For the purpose of this exercise we will get some movies from [Rotten Tomatoes](https://www.rottentomatoes.com/browse/dvd-streaming-all). We are interested in creating a dataset of titles with their ranking, date of release and cover."
   ]
  },
  {
   "cell_type": "code",
   "execution_count": 13,
   "metadata": {
    "scrolled": true
   },
   "outputs": [
    {
     "name": "stderr",
     "output_type": "stream",
     "text": [
      "[WDM] - Current google-chrome version is 88.0.4324\n",
      "[WDM] - Get LATEST driver version for 88.0.4324\n"
     ]
    },
    {
     "name": "stdout",
     "output_type": "stream",
     "text": [
      " \n"
     ]
    },
    {
     "name": "stderr",
     "output_type": "stream",
     "text": [
      "[WDM] - Driver [/Users/francescamorini/.wdm/drivers/chromedriver/mac64/88.0.4324.96/chromedriver] found in cache\n"
     ]
    }
   ],
   "source": [
    "# We start an headless Chrome session. (Headless means that we don't open a visual browser window)\n",
    "options = Options()\n",
    "#If you comment out this option below you will be able to see Chrome opening and performing operations!\n",
    "options.headless = True\n",
    "options.add_argument(\"--window-size=1920,1200\")\n",
    "options.add_argument(\"--disable-gpu\");\n",
    "\n",
    "# instead of setting path manually (still possible but a bit annoying) we use DriverManager\n",
    "driver = webdriver.Chrome(executable_path=ChromeDriverManager().install(), options=options)"
   ]
  },
  {
   "cell_type": "code",
   "execution_count": 14,
   "metadata": {},
   "outputs": [
    {
     "name": "stdout",
     "output_type": "stream",
     "text": [
      "done\n"
     ]
    }
   ],
   "source": [
    "driver.get(\"https://www.rottentomatoes.com/browse/dvd-streaming-all\")\n",
    "\n",
    "# print(driver.page_source)\n",
    "# remove the comment above to print the result of our driver.get()\n",
    "print('done')"
   ]
  },
  {
   "cell_type": "markdown",
   "metadata": {},
   "source": [
    "### One time simple scraping"
   ]
  },
  {
   "cell_type": "markdown",
   "metadata": {},
   "source": [
    "The concept behind scraping is quite easy to grasp. We are creating a script that behaves like a human. By using the correct methods we can fake human interactions on webpage. While usually scripts \"see\" different things than us, Selenium, Beautiful Soup and WebDrivers are built to see pages as we would do. Scripts are obviously faster, they don't get to go to the toilet and they do everything very enthusiastically."
   ]
  },
  {
   "cell_type": "markdown",
   "metadata": {},
   "source": [
    "**Step 3: Get movies**"
   ]
  },
  {
   "cell_type": "markdown",
   "metadata": {},
   "source": [
    "Now we will select specific elements we are interested in. To do so we can instruct our script to look for them on the page. Selenium provides a series of methods to do so: we can select elements according to their class name, html tag, css selector, attribute and so on. Please go to https://www.rottentomatoes.com/browse/dvd-streaming-all, right-click on any part of the screen and then select \"Inspect Element\" to activate the source inspector. Here you can check the page structure and select the elements you want to obtain. In our case each movie preview is wrapper in a container with class `mb-movie`. To get all the movies we will tell Selenium to collect only elements with this specific class name."
   ]
  },
  {
   "cell_type": "code",
   "execution_count": 4,
   "metadata": {},
   "outputs": [
    {
     "name": "stdout",
     "output_type": "stream",
     "text": [
      "32\n"
     ]
    }
   ],
   "source": [
    "# Only getting first page results\n",
    "movies = driver.find_elements_by_class_name('mb-movie')\n",
    "# Check how many elements we obtained. It should be 32, the number of results for the first page.\n",
    "print(len(movies))"
   ]
  },
  {
   "cell_type": "markdown",
   "metadata": {},
   "source": [
    "**Step 4: loop through movies and build a list of lists containing our data**"
   ]
  },
  {
   "cell_type": "markdown",
   "metadata": {},
   "source": [
    "Now that we have a list of elements we can loop over it and replicate our pattern in a more structured way. We will ask Selenium to look for text and images of movies. Again we have a wide range of opportunities. We can use the `.text` method to obtain the content of an HTML tag or we can get attributes from links, it really depends on the website structure and the information we are interested in."
   ]
  },
  {
   "cell_type": "code",
   "execution_count": 5,
   "metadata": {},
   "outputs": [
    {
     "name": "stdout",
     "output_type": "stream",
     "text": [
      "1 / Promising Young Woman\n",
      "2 / Yellow Rose\n",
      "3 / American Skin\n",
      "4 / Sing Me A Song\n",
      "5 / The Changin' Times Of Ike White\n",
      "6 / Born To Be\n",
      "7 / Savage\n",
      "8 / The Delivered (Fanny Lye Deliver'D)\n",
      "9 / Pieces Of A Woman\n",
      "10 / Assassins\n",
      "11 / Love Sarah\n",
      "12 / One Night In Miami\n",
      "13 / Notturno\n",
      "14 / MLK/FBI\n",
      "15 / Shadow In The Cloud\n",
      "16 / Ten Minutes To Midnight\n",
      "17 / I Am Lisa\n",
      "18 / PG: Psycho Goreman\n",
      "19 / Baby, Done\n",
      "20 / We Can Be Heroes\n",
      "21 / Don'T Tell A Soul\n",
      "22 / Redemption Day\n",
      "23 / Yearly Departed\n",
      "24 / The One You Feed\n",
      "25 / Stallone: Frank, That Is\n",
      "26 / Stars Fell On Alabama\n",
      "27 / Gun And A Hotel Bible\n",
      "28 / If Not Now, When?\n",
      "29 / Caged\n",
      "30 / Finding 'Ohana\n",
      "31 / Locked Down\n",
      "32 / The Dig\n",
      "[['Promising Young Woman', ' 91%', 'Available Jan 15', 'data/img_basic/poster-1.jpg'], ['Yellow Rose', ' 87%', 'Available Jan 5', 'data/img_basic/poster-2.jpg'], ['American Skin', ' 29%', 'Available Jan 15', 'data/img_basic/poster-3.jpg'], ['Sing Me A Song', ' 89%', 'Available Jan 1', 'data/img_basic/poster-4.jpg'], [\"The Changin' Times Of Ike White\", ' 100%', 'Available Jan 26', 'data/img_basic/poster-5.jpg'], ['Born To Be', ' 100%', 'Available Jan 19', 'data/img_basic/poster-6.jpg'], ['Savage', ' 74%', 'Available Jan 29', 'data/img_basic/poster-7.jpg'], [\"The Delivered (Fanny Lye Deliver'D)\", ' 93%', 'Available Jan 15', 'data/img_basic/poster-8.jpg'], ['Pieces Of A Woman', ' 76%', 'Available Jan 7', 'data/img_basic/poster-9.jpg'], ['Assassins', ' 97%', 'Available Jan 15', 'data/img_basic/poster-10.jpg'], ['Love Sarah', ' 56%', 'Available Jan 15', 'data/img_basic/poster-11.jpg'], ['One Night In Miami', ' 98%', 'Available Jan 15', 'data/img_basic/poster-12.jpg'], ['Notturno', ' 80%', 'Available Jan 29', 'data/img_basic/poster-13.jpg'], ['MLK/FBI', ' 99%', 'Available Jan 15', 'data/img_basic/poster-14.jpg'], ['Shadow In The Cloud', ' 77%', 'Available Jan 1', 'data/img_basic/poster-15.jpg'], ['Ten Minutes To Midnight', ' 82%', 'Available Jan 19', 'data/img_basic/poster-16.jpg'], ['I Am Lisa', ' 91%', 'Available Jan 5', 'data/img_basic/poster-17.jpg'], ['PG: Psycho Goreman', ' 90%', 'Available Jan 22', 'data/img_basic/poster-18.jpg'], ['Baby, Done', ' 93%', 'Available Jan 21', 'data/img_basic/poster-19.jpg'], ['We Can Be Heroes', ' 73%', 'Available Jan 1', 'data/img_basic/poster-20.jpg'], [\"Don'T Tell A Soul\", ' 69%', 'Available Jan 15', 'data/img_basic/poster-21.jpg'], ['Redemption Day', ' 15%', 'Available Jan 12', 'data/img_basic/poster-22.jpg'], ['Yearly Departed', ' 80%', 'Available Dec 30', 'data/img_basic/poster-23.jpg'], ['The One You Feed', ' 33%', 'Available Dec 29', 'data/img_basic/poster-24.jpg'], ['Stallone: Frank, That Is', ' 50%', 'Available Jan 19', 'data/img_basic/poster-25.jpg'], ['Stars Fell On Alabama', ' 64%', 'Available Jan 8', 'data/img_basic/poster-26.jpg'], ['Gun And A Hotel Bible', ' 60%', 'Available Jan 5', 'data/img_basic/poster-27.jpg'], ['If Not Now, When?', ' 53%', 'Available Jan 8', 'data/img_basic/poster-28.jpg'], ['Caged', ' 40%', 'Available Jan 26', 'data/img_basic/poster-29.jpg'], [\"Finding 'Ohana\", ' 81%', 'Available Jan 29', 'data/img_basic/poster-30.jpg'], ['Locked Down', ' 44%', 'Available Jan 14', 'data/img_basic/poster-31.jpg'], ['The Dig', ' 87%', 'Available Jan 29', 'data/img_basic/poster-32.jpg']]\n"
     ]
    }
   ],
   "source": [
    "# This empty list will later contain my precious data\n",
    "moviesData = []\n",
    "# I am creating a counter, this will print the parser status and generate filenames for images\n",
    "count = 0\n",
    "for movie in movies:\n",
    "    \n",
    "    count = count + 1\n",
    "    \n",
    "    # we can get precise elements by using css selectors, classes, tag names and xpaths\n",
    "    title = movie.find_element_by_class_name('movieTitle').text\n",
    "    rating = movie.find_element_by_class_name('tMeterIcon').text\n",
    "    available = movie.find_element_by_class_name('release-date').text\n",
    "    image = movie.find_element_by_tag_name('img')\n",
    "    print(count, '/', title)\n",
    "    \n",
    "    # it is also possible to get accessory information from collected elements, \n",
    "    # in this case we want to get the url of the poster images, we can retrieve it from the src attribute\n",
    "    source = image.get_attribute(\"src\")\n",
    "    \n",
    "    # We use urllib to read the poster images and save them locally in a special folder. In order to avoid\n",
    "    # overwriting we use the {0}.format('dynamic variable') to save all of them\n",
    "    imgdestination = \"data/img_basic/poster-{0}.jpg\".format(count)\n",
    "    urllib.request.urlretrieve(source, imgdestination)\n",
    "    \n",
    "    # We append a shorter list to the initial list\n",
    "    moviesData.append([title, rating, available, imgdestination])\n",
    "\n",
    "# Safety print to check everything is fine!\n",
    "print(moviesData)"
   ]
  },
  {
   "cell_type": "markdown",
   "metadata": {},
   "source": [
    "**Step 5: Move list of lists content to a pandas dataframe**"
   ]
  },
  {
   "cell_type": "markdown",
   "metadata": {},
   "source": [
    "We use pandas to create a dataframe holding the information we gathered from Rotten Tomatoes. This is the gateway to data analysis and data cleaning. From pandas we can export a `.csv` file that can later be cleaned, loaded in various applications and finally used to code our prototype."
   ]
  },
  {
   "cell_type": "code",
   "execution_count": 6,
   "metadata": {},
   "outputs": [],
   "source": [
    "AllStreamingTitles = pd.DataFrame(moviesData, columns=[\"title\", \"rating\", \"available\", \"img\"])"
   ]
  },
  {
   "cell_type": "code",
   "execution_count": 7,
   "metadata": {},
   "outputs": [
    {
     "data": {
      "text/html": [
       "<div>\n",
       "<style scoped>\n",
       "    .dataframe tbody tr th:only-of-type {\n",
       "        vertical-align: middle;\n",
       "    }\n",
       "\n",
       "    .dataframe tbody tr th {\n",
       "        vertical-align: top;\n",
       "    }\n",
       "\n",
       "    .dataframe thead th {\n",
       "        text-align: right;\n",
       "    }\n",
       "</style>\n",
       "<table border=\"1\" class=\"dataframe\">\n",
       "  <thead>\n",
       "    <tr style=\"text-align: right;\">\n",
       "      <th></th>\n",
       "      <th>title</th>\n",
       "      <th>rating</th>\n",
       "      <th>available</th>\n",
       "      <th>img</th>\n",
       "    </tr>\n",
       "  </thead>\n",
       "  <tbody>\n",
       "    <tr>\n",
       "      <th>15</th>\n",
       "      <td>Ten Minutes To Midnight</td>\n",
       "      <td>82%</td>\n",
       "      <td>Available Jan 19</td>\n",
       "      <td>data/img_basic/poster-16.jpg</td>\n",
       "    </tr>\n",
       "    <tr>\n",
       "      <th>21</th>\n",
       "      <td>Redemption Day</td>\n",
       "      <td>15%</td>\n",
       "      <td>Available Jan 12</td>\n",
       "      <td>data/img_basic/poster-22.jpg</td>\n",
       "    </tr>\n",
       "    <tr>\n",
       "      <th>9</th>\n",
       "      <td>Assassins</td>\n",
       "      <td>97%</td>\n",
       "      <td>Available Jan 15</td>\n",
       "      <td>data/img_basic/poster-10.jpg</td>\n",
       "    </tr>\n",
       "    <tr>\n",
       "      <th>22</th>\n",
       "      <td>Yearly Departed</td>\n",
       "      <td>80%</td>\n",
       "      <td>Available Dec 30</td>\n",
       "      <td>data/img_basic/poster-23.jpg</td>\n",
       "    </tr>\n",
       "    <tr>\n",
       "      <th>11</th>\n",
       "      <td>One Night In Miami</td>\n",
       "      <td>98%</td>\n",
       "      <td>Available Jan 15</td>\n",
       "      <td>data/img_basic/poster-12.jpg</td>\n",
       "    </tr>\n",
       "  </tbody>\n",
       "</table>\n",
       "</div>"
      ],
      "text/plain": [
       "                      title rating         available  \\\n",
       "15  Ten Minutes To Midnight    82%  Available Jan 19   \n",
       "21           Redemption Day    15%  Available Jan 12   \n",
       "9                 Assassins    97%  Available Jan 15   \n",
       "22          Yearly Departed    80%  Available Dec 30   \n",
       "11       One Night In Miami    98%  Available Jan 15   \n",
       "\n",
       "                             img  \n",
       "15  data/img_basic/poster-16.jpg  \n",
       "21  data/img_basic/poster-22.jpg  \n",
       "9   data/img_basic/poster-10.jpg  \n",
       "22  data/img_basic/poster-23.jpg  \n",
       "11  data/img_basic/poster-12.jpg  "
      ]
     },
     "execution_count": 7,
     "metadata": {},
     "output_type": "execute_result"
    }
   ],
   "source": [
    "#Previewing 5 random rows from my dataframe\n",
    "AllStreamingTitles.sample(5)"
   ]
  },
  {
   "cell_type": "markdown",
   "metadata": {},
   "source": [
    "**Step 6: Export dataframe to csv**"
   ]
  },
  {
   "cell_type": "code",
   "execution_count": 8,
   "metadata": {},
   "outputs": [],
   "source": [
    "# Check the 'data' subfolder after executing this cell to see the file.\n",
    "AllStreamingTitles.to_csv('data/titlesDataRaw.csv', sep=',')"
   ]
  },
  {
   "cell_type": "markdown",
   "metadata": {},
   "source": [
    "### Iterating on page's elements"
   ]
  },
  {
   "cell_type": "markdown",
   "metadata": {},
   "source": [
    "What if we need to scrape more than what is visible on the first page? Currently we are getting titles only from the initial screen. \n",
    "Instead we want to keep going: our script should be able to proceed down the page and do something everytime new titles need to be loaded. To approach this problem we need to go back to the source website. At the bottom of the page it's possible to spot a yellow \"Show More\" button, if we click on it new movies are loaded. \n",
    "\n",
    "**Positive aspects**\n",
    "- We have a distinct element, the yellow button with fairly easy interaction\n",
    "- We have a stable pattern and everything is happening on one single page, we don't need to touch the page URL\n",
    "- We can adopt a similar procedure to the previous one.\n",
    "\n",
    "**Negative aspects**\n",
    "- The page indefinitely loads new content, the button does not change and/or disappear at some point\n",
    "\n",
    "This calls for a fairly simple strategy. We will modify only one step of our procedure: step 3. Instead of creating a variable with the first page results, we will create a while loop that keeps loading content up to a certain point, while getting all the movies. This particular case does not require that we access individual URLs, for an example of cross-page scraping see the Advanced Dynamic Scraper notebook."
   ]
  },
  {
   "cell_type": "markdown",
   "metadata": {},
   "source": [
    "**Step 1 and 2 stay the same!**"
   ]
  },
  {
   "cell_type": "markdown",
   "metadata": {},
   "source": [
    "**Step 3: automate clicking of the \"Show More\" button**"
   ]
  },
  {
   "cell_type": "markdown",
   "metadata": {},
   "source": [
    "Websites generally don't like to be scraped (on some websites it's explicitly forbidden, so be careful). It can happen that if we are interacting with the page too quickly we might get blocked or throttled (slowed down). We will fake interactions with the \"Show More\" button every 5 seconds to avoid throttle."
   ]
  },
  {
   "cell_type": "code",
   "execution_count": 15,
   "metadata": {
    "scrolled": true
   },
   "outputs": [
    {
     "name": "stdout",
     "output_type": "stream",
     "text": [
      "I clicked \"show more\" 0 times\n",
      "I clicked \"show more\" 1 times\n",
      "I clicked \"show more\" 2 times\n",
      "I clicked \"show more\" 3 times\n",
      "I clicked \"show more\" 4 times\n",
      "I clicked \"show more\" 5 times\n",
      "I clicked \"show more\" 6 times\n",
      "I clicked \"show more\" 7 times\n",
      "I clicked \"show more\" 8 times\n",
      "I clicked \"show more\" 9 times\n",
      "I clicked \"show more\" 10 times\n",
      "started movies collection\n",
      "1 / Promising Young Woman\n",
      "2 / Yellow Rose\n",
      "3 / American Skin\n",
      "4 / Sing Me A Song\n",
      "5 / The Changin' Times Of Ike White\n",
      "6 / Born To Be\n",
      "7 / Savage\n",
      "8 / The Delivered (Fanny Lye Deliver'D)\n",
      "9 / Pieces Of A Woman\n",
      "10 / Assassins\n",
      "11 / Love Sarah\n",
      "12 / One Night In Miami\n",
      "13 / Notturno\n",
      "14 / MLK/FBI\n",
      "15 / Shadow In The Cloud\n",
      "16 / Ten Minutes To Midnight\n",
      "17 / I Am Lisa\n",
      "18 / PG: Psycho Goreman\n",
      "19 / Baby, Done\n",
      "20 / We Can Be Heroes\n",
      "21 / Don'T Tell A Soul\n",
      "22 / Redemption Day\n",
      "23 / Yearly Departed\n",
      "24 / The One You Feed\n",
      "25 / Stallone: Frank, That Is\n",
      "26 / Stars Fell On Alabama\n",
      "27 / Gun And A Hotel Bible\n",
      "28 / If Not Now, When?\n",
      "29 / Caged\n",
      "30 / Finding 'Ohana\n",
      "31 / Locked Down\n",
      "32 / The Dig\n",
      "33 / Koko-Di Koko-Da\n",
      "34 / Princess Of The Row\n",
      "35 / Billie\n",
      "36 / 18 To Party\n",
      "37 / The Planters\n",
      "38 / Lupin III: The First\n",
      "39 / Luxor\n",
      "40 / Wander Darkly\n",
      "41 / Beast Mode\n",
      "42 / Black Bear\n",
      "43 / Beasts Clawing At Straws\n",
      "44 / Train To Busan Presents: Peninsula\n",
      "45 / Comfort Farms\n",
      "46 / Stardust\n",
      "47 / Survival Skills\n",
      "48 / The Walrus And The Whistleblower\n",
      "49 / Ammonite\n",
      "50 / Minor Premise\n",
      "51 / Crock Of Gold: A Few Rounds With Shane MacGowan\n",
      "52 / Archenemy\n",
      "53 / Love, Weddings & Other Disasters\n",
      "54 / What Lies Below\n",
      "55 / Knuckledust\n",
      "56 / Smiley Face Killers\n",
      "57 / Dear Santa\n",
      "58 / I Hate New Year'S\n",
      "59 / Wild Mountain Thyme\n",
      "60 / King Of Knives\n",
      "61 / Elyse\n",
      "62 / The Stand In\n",
      "63 / Ip Man: Kung Fu Master\n",
      "64 / The Mystery Of The Pink Flamingo\n",
      "65 / Creem: America'S Only Rock 'N' Roll Magazine\n",
      "66 / Honey Bee\n",
      "67 / Hearts And Bones\n",
      "68 / The Shock Of The Future (Le Choc Du Futur)\n",
      "69 / A Rainy Day In New York\n",
      "70 / Collective (Colectiv)\n",
      "71 / Jungleland\n",
      "72 / The Giant\n",
      "73 / Iron Mask\n",
      "74 / The Nest\n",
      "75 / Lie Exposed\n",
      "76 / The Donut King\n",
      "77 / Dating Amber\n",
      "78 / Mortal (Torden)\n",
      "79 / Kindred\n",
      "80 / Run\n",
      "81 / A Chef'S Voyage\n",
      "82 / Major Arcana\n",
      "83 / The Dark And The Wicked\n",
      "84 / Triggered\n",
      "85 / Chick Fight\n",
      "86 / The Dark Divide\n",
      "87 / Echo Boomers\n",
      "88 / Embattled\n",
      "89 / Team Marco\n",
      "90 / Jiu Jitsu\n",
      "91 / Where She Lies\n",
      "92 / The Orange Years: The Nickelodeon Story\n",
      "93 / My Summer As A Goth\n",
      "94 / Sleepless Beauty\n",
      "95 / Truth Is The Only Client: The Official Investigation Of The Murder Of John F. Kennedy\n",
      "96 / That Good Night\n",
      "97 / Ryuichi Sakamoto: Coda\n",
      "98 / The Sounding\n",
      "99 / The Devil Has A Name\n",
      "100 / Wolfman'S Got Nards\n",
      "101 / The Informer\n",
      "102 / J.R. 'Bob' Dobbs & The Church Of The SubGenius\n",
      "103 / The Place Of No Words\n",
      "104 / Nomad: In The Footsteps Of Bruce Chatwin\n",
      "105 / Terra Willy: Unexplored Planet (Astro Kid)\n",
      "106 / The True Adventures Of Wolfboy\n",
      "107 / The Antenna (Bina)\n",
      "108 / Love And Monsters\n",
      "109 / Shithouse\n",
      "110 / After We Collided\n",
      "111 / The Craft: Legacy\n",
      "112 / Spell\n",
      "113 / Over The Moon\n",
      "114 / White Noise\n",
      "115 / Represent\n",
      "116 / Alone\n",
      "117 / The Opening Act\n",
      "118 / Friendsgiving\n",
      "119 / Tar\n",
      "120 / Harry Chapin: When In Doubt, Do Something\n",
      "121 / Chop Chop\n",
      "122 / Tremors: Shrieker Island\n",
      "123 / One Man And His Shoes\n",
      "124 / Greatland\n",
      "125 / Cup Of Cheer\n",
      "126 / They Reach\n",
      "127 / Love In Dangerous Times\n",
      "128 / The More You Ignore Me\n",
      "129 / Eternal Beauty\n",
      "130 / Ms. White Light\n",
      "131 / The Wall Of Mexico\n",
      "132 / Sibyl\n",
      "133 / Bullets Of Justice\n",
      "134 / Halloween Party\n",
      "135 / Aggie\n",
      "136 / Save Yourselves!\n",
      "137 / Tapeworm\n",
      "138 / 12 Hour Shift\n",
      "139 / Broil\n",
      "140 / The Ringmaster\n",
      "141 / Jimmy Carter: Rock & Roll President\n",
      "142 / From The Vine\n",
      "143 / Death Of Me\n",
      "144 / The Curse Of Audrey Earnshaw\n",
      "145 / Spontaneous\n",
      "146 / Hosts\n",
      "147 / The Doorman\n",
      "148 / Then Came You\n",
      "149 / Totally Under Control\n",
      "150 / 2067\n",
      "151 / The Devil To Pay\n",
      "152 / The Phenomenon\n",
      "153 / The Wolf Of Snow Hollow\n",
      "154 / The Disrupted\n",
      "155 / Let'S Scare Julie\n",
      "156 / Rom Boys: 40 Years Of Rad\n",
      "157 / Batman: Death In The Family\n",
      "158 / Buddies\n",
      "159 / Lost Girls & Love Hotels\n",
      "160 / Red, White & Wasted\n",
      "161 / Blackbird\n",
      "162 / H Is For Happiness\n",
      "163 / House Of Cardin\n",
      "164 / Luz: The Flower Of Evil\n",
      "165 / The Swerve\n",
      "166 / Alive\n",
      "167 / Antebellum\n",
      "168 / The Glorias\n",
      "169 / Scare Me\n",
      "170 / Toss It\n",
      "171 / She'S In Portland\n",
      "172 / The Racer\n",
      "173 / All Roads To Pearla (Sleeping In Plastic)\n",
      "174 / The Artist'S Wife\n",
      "175 / Teenage Badass\n",
      "176 / Misbehaviour\n",
      "177 / Red Shoes And The Seven Dwarfs\n",
      "178 / Ottolenghi And The Cakes Of Versailles\n",
      "179 / No Escape (Follow Me)\n",
      "180 / All In: The Fight For Democracy\n",
      "181 / Sno Babies\n",
      "182 / Murder In The Woods\n",
      "183 / Stuntwomen: The Untold Hollywood Story\n",
      "184 / Resisterhood\n",
      "185 / LX 2048\n",
      "186 / Herb Alpert Is...\n",
      "187 / Sightless\n",
      "188 / Mulan\n",
      "189 / Buoyancy\n",
      "190 / The Garden Left Behind\n",
      "191 / Heimat Is A Space In Time (Heimat Ist Ein Raum Aus Zeit)\n",
      "192 / Children Of The Sea (Kaijû No Kodomo)\n",
      "193 / Measure For Measure\n",
      "194 / I Am Woman\n",
      "195 / Entwined\n",
      "196 / Nail In The Coffin: The Fall And Rise Of Vampiro\n",
      "197 / Bloody Nose, Empty Pockets\n",
      "198 / Feels Good Man\n",
      "199 / The Mole Agent\n",
      "200 / Critical Thinking\n",
      "201 / Followed\n",
      "202 / The Surrogate\n",
      "203 / Rent-A-Pal\n",
      "204 / I'Ve Got Issues\n",
      "205 / The Argument\n",
      "206 / Up On The Glass\n",
      "207 / DTF\n",
      "208 / Guest House\n",
      "209 / The 2nd\n",
      "210 / Range Runners\n",
      "211 / The Owners\n",
      "212 / Cats & Dogs 3: Paws Unite!\n",
      "213 / Still Here\n",
      "214 / Robin'S Wish\n",
      "215 / #Unfit: The Psychology Of Donald Trump\n",
      "216 / Immortal\n",
      "217 / First One In\n",
      "218 / Summerland\n",
      "219 / Gather\n",
      "220 / American Street Kid\n",
      "221 / Ravage\n",
      "222 / Bill & Ted Face The Music\n",
      "223 / Love Express: The Disappearance Of Walerian Borowczyk\n",
      "224 / The Prey\n",
      "225 / Benjamin\n",
      "226 / Cane River\n",
      "227 / Pariah Dog\n",
      "228 / Desert One\n",
      "229 / Matthias & Maxime\n",
      "230 / Tesla\n",
      "231 / Epicentro\n",
      "232 / Fatima\n",
      "233 / Emperor\n",
      "234 / The 24th\n",
      "235 / Darkness Falls\n",
      "236 / You Cannot Kill David Arquette\n",
      "237 / The Lawyer (Advokatas)\n",
      "238 / Centigrade\n",
      "239 / One Night In Bangkok\n",
      "240 / The Pale Door\n",
      "241 / The Honeymoon Phase\n",
      "242 / Rogue\n",
      "243 / The Vanished\n",
      "244 / Hard Kill\n",
      "245 / Driven To Abstraction\n",
      "246 / The Blech Effect\n",
      "247 / Coronation\n",
      "248 / Skin: A History Of Nudity In The Movies\n",
      "249 / Jazz On A Summer'S Day\n",
      "250 / Le Week-End\n",
      "251 / Sweet Bean (An)\n",
      "252 / Carmen & Lola (Carmen Y Lola)\n",
      "253 / Sometimes Always Never (Triple Word Score)\n",
      "254 / Out Stealing Horses (Ut Og Stjæle Hester)\n",
      "255 / Waiting For The Barbarians\n",
      "256 / Fagara (Huajiao Zhiwei)\n",
      "257 / The Secret Garden\n",
      "258 / Spree\n",
      "259 / Happy Happy Joy Joy: The Ren & Stimpy Story\n",
      "260 / A Thousand Cuts\n",
      "261 / Big Fur\n",
      "262 / I Used To Go Here\n",
      "263 / She Dies Tomorrow\n",
      "264 / Martin Margiela: In His Own Words\n",
      "265 / Sputnik\n",
      "266 / Made In Italy\n",
      "267 / Psychomagic, A Healing Art (Psychomagie, Un Art Pour Guérir)\n",
      "268 / Max Reload And The Nether Blasters\n",
      "269 / Endless\n",
      "270 / Paydirt\n",
      "271 / IRL\n",
      "272 / Uncle Peckerhead\n",
      "273 / The Bay Of Silence\n",
      "274 / Pearl\n",
      "275 / Kat And The Band\n",
      "276 / Monstrous\n",
      "277 / Northwood Pie\n",
      "278 / Pretending I'M A Superman: The Tony Hawk Video Game Story\n",
      "279 / Cut And Chop\n",
      "280 / The American Nurse\n",
      "281 / Retaliation (Romans)\n",
      "282 / House Of Hummingbird (Beolsae)\n",
      "283 / Yes, God, Yes\n",
      "284 / Around The Sun\n",
      "285 / Promare\n",
      "286 / Ride Your Wave\n",
      "287 / Dead Dicks\n",
      "288 / Lake Michigan Monster\n",
      "289 / Red Penguins\n",
      "290 / Gundala\n",
      "291 / Calm With Horses (The Shadow Of Violence)\n",
      "292 / The Secret: Dare To Dream\n",
      "293 / Rebuilding Paradise\n",
      "294 / The Fight\n",
      "295 / Skin Walker\n",
      "296 / Tijuana Jackson: Purpose Over Prison\n",
      "297 / Legacy Of Lies\n",
      "298 / The Big Ugly\n",
      "299 / SamSam\n",
      "300 / The Tax Collector\n",
      "301 / Stockton On My Mind\n",
      "302 / Deep Blue Sea 3\n",
      "303 / Nothing But The Blood\n",
      "304 / Senior Love Triangle\n",
      "305 / Deathstroke: Knights & Dragons\n",
      "306 / What We Found\n",
      "307 / The Swamp\n",
      "308 / Host\n",
      "309 / Stars And Strife\n",
      "310 / Busman'S Holiday\n"
     ]
    }
   ],
   "source": [
    "# I am creating a variable holding the number of times I want to click on the 'Show More' button. \n",
    "# Alternatively I could code my script to stop when a certain point in data is reached, \n",
    "#for example a particular title\n",
    "pageExpandLimit = 0\n",
    "# I am also creating a variable to store movie pictures correctly\n",
    "count = 0\n",
    "# An empty list to store my webelements\n",
    "moreMovies = []\n",
    "# And an empty list that will be filled with my data.\n",
    "dataList = []\n",
    "\n",
    "while True:\n",
    "    # Add 1 to counter so we can artificially stop the loop\n",
    "    print('I clicked \"show more\" {0} times'.format(pageExpandLimit))\n",
    "    pageExpandLimit = pageExpandLimit + 1 \n",
    "    \n",
    "    # Taking a screenshot everytime we click on the button (to check where my browser's at)\n",
    "    # This can be remove if it ends up taking too much space.\n",
    "    driver.save_screenshot(\"screenshots/screenshot{0}.png\".format(pageExpandLimit))\n",
    "    \n",
    "    if pageExpandLimit < 10:\n",
    "        \n",
    "        # Generic asleep time to avoid throttle\n",
    "        time.sleep(5)\n",
    "        # Find the button element and click on it to keep loading movies\n",
    "        driver.find_element_by_class_name('mb-load-btn').click()  \n",
    "        # Dump all the elements in one list\n",
    "        moreMovies = driver.find_elements_by_class_name('mb-movie')\n",
    "        \n",
    "    # It will set the condition to False if counter is greater than 10, this will break the while loop\n",
    "    if pageExpandLimit > 10:\n",
    "        \n",
    "        # Before breaking the loop I will go through the data as I did in the example above\n",
    "        print('started movies collection')\n",
    "        for movie in moreMovies:\n",
    "            count = count + 1\n",
    "            try:\n",
    "                title = movie.find_element_by_class_name('movieTitle').text\n",
    "                rating = movie.find_element_by_class_name('tMeterIcon').text\n",
    "                available = movie.find_element_by_class_name('release-date').text\n",
    "                image = movie.find_element_by_tag_name('img')\n",
    "            \n",
    "                print(count, '/', title)\n",
    "\n",
    "                source = image.get_attribute(\"src\")\n",
    "\n",
    "                imgdestination = \"data/img_basic/poster-{0}.jpg\".format(count)\n",
    "                urllib.request.urlretrieve(source, imgdestination)\n",
    "\n",
    "                # Appending data\n",
    "                dataList.append([title, rating, available, imgdestination])\n",
    "            except:\n",
    "                print('an exception occurred for', count)\n",
    "            \n",
    "        # Breaking and exiting the loop\n",
    "        break"
   ]
  },
  {
   "cell_type": "code",
   "execution_count": 18,
   "metadata": {},
   "outputs": [
    {
     "name": "stdout",
     "output_type": "stream",
     "text": [
      "[['Promising Young Woman', ' 91%', 'Available Jan 15', 'data/img_basic/poster-1.jpg'], ['Yellow Rose', ' 87%', 'Available Jan 5', 'data/img_basic/poster-2.jpg'], ['American Skin', ' 29%', 'Available Jan 15', 'data/img_basic/poster-3.jpg'], ['Sing Me A Song', ' 89%', 'Available Jan 1', 'data/img_basic/poster-4.jpg'], [\"The Changin' Times Of Ike White\", ' 100%', 'Available Jan 26', 'data/img_basic/poster-5.jpg'], ['Born To Be', ' 100%', 'Available Jan 19', 'data/img_basic/poster-6.jpg'], ['Savage', ' 75%', 'Available Jan 29', 'data/img_basic/poster-7.jpg'], [\"The Delivered (Fanny Lye Deliver'D)\", ' 93%', 'Available Jan 15', 'data/img_basic/poster-8.jpg'], ['Pieces Of A Woman', ' 76%', 'Available Jan 7', 'data/img_basic/poster-9.jpg'], ['Assassins', ' 97%', 'Available Jan 15', 'data/img_basic/poster-10.jpg'], ['Love Sarah', ' 56%', 'Available Jan 15', 'data/img_basic/poster-11.jpg'], ['One Night In Miami', ' 98%', 'Available Jan 15', 'data/img_basic/poster-12.jpg'], ['Notturno', ' 80%', 'Available Jan 29', 'data/img_basic/poster-13.jpg'], ['MLK/FBI', ' 99%', 'Available Jan 15', 'data/img_basic/poster-14.jpg'], ['Shadow In The Cloud', ' 77%', 'Available Jan 1', 'data/img_basic/poster-15.jpg'], ['Ten Minutes To Midnight', ' 82%', 'Available Jan 19', 'data/img_basic/poster-16.jpg'], ['I Am Lisa', ' 91%', 'Available Jan 5', 'data/img_basic/poster-17.jpg'], ['PG: Psycho Goreman', ' 90%', 'Available Jan 22', 'data/img_basic/poster-18.jpg'], ['Baby, Done', ' 93%', 'Available Jan 21', 'data/img_basic/poster-19.jpg'], ['We Can Be Heroes', ' 73%', 'Available Jan 1', 'data/img_basic/poster-20.jpg'], [\"Don'T Tell A Soul\", ' 69%', 'Available Jan 15', 'data/img_basic/poster-21.jpg'], ['Redemption Day', ' 15%', 'Available Jan 12', 'data/img_basic/poster-22.jpg'], ['Yearly Departed', ' 80%', 'Available Dec 30', 'data/img_basic/poster-23.jpg'], ['The One You Feed', ' 33%', 'Available Dec 29', 'data/img_basic/poster-24.jpg'], ['Stallone: Frank, That Is', ' 50%', 'Available Jan 19', 'data/img_basic/poster-25.jpg'], ['Stars Fell On Alabama', ' 64%', 'Available Jan 8', 'data/img_basic/poster-26.jpg'], ['Gun And A Hotel Bible', ' 60%', 'Available Jan 5', 'data/img_basic/poster-27.jpg'], ['If Not Now, When?', ' 53%', 'Available Jan 8', 'data/img_basic/poster-28.jpg'], ['Caged', ' 40%', 'Available Jan 26', 'data/img_basic/poster-29.jpg'], [\"Finding 'Ohana\", ' 81%', 'Available Jan 29', 'data/img_basic/poster-30.jpg'], ['Locked Down', ' 44%', 'Available Jan 14', 'data/img_basic/poster-31.jpg'], ['The Dig', ' 87%', 'Available Jan 29', 'data/img_basic/poster-32.jpg'], ['Koko-Di Koko-Da', ' 82%', 'Available Dec 8', 'data/img_basic/poster-33.jpg'], ['Princess Of The Row', ' 88%', 'Available Nov 27', 'data/img_basic/poster-34.jpg'], ['Billie', ' 97%', 'Available Dec 4', 'data/img_basic/poster-35.jpg'], ['18 To Party', ' 57%', 'Available Dec 1', 'data/img_basic/poster-36.jpg'], ['The Planters', ' 95%', 'Available Dec 8', 'data/img_basic/poster-37.jpg'], ['Lupin III: The First', ' 95%', 'Available Dec 15', 'data/img_basic/poster-38.jpg'], ['Luxor', ' 91%', 'Available Dec 4', 'data/img_basic/poster-39.jpg'], ['Wander Darkly', ' 76%', 'Available Dec 11', 'data/img_basic/poster-40.jpg'], ['Beast Mode', ' 57%', 'Available Dec 1', 'data/img_basic/poster-41.jpg'], ['Black Bear', ' 88%', 'Available Dec 4', 'data/img_basic/poster-42.jpg'], ['Beasts Clawing At Straws', ' 96%', 'Available Dec 15', 'data/img_basic/poster-43.jpg'], ['Train To Busan Presents: Peninsula', ' 53%', 'Available Nov 24', 'data/img_basic/poster-44.jpg'], ['Comfort Farms', ' 67%', 'Available Dec 8', 'data/img_basic/poster-45.jpg'], ['Stardust', ' 17%', 'Available Nov 25', 'data/img_basic/poster-46.jpg'], ['Survival Skills', ' 86%', 'Available Dec 4', 'data/img_basic/poster-47.jpg'], ['The Walrus And The Whistleblower', ' 40%', 'Available Nov 24', 'data/img_basic/poster-48.jpg'], ['Ammonite', ' 67%', 'Available Dec 4', 'data/img_basic/poster-49.jpg'], ['Minor Premise', ' 93%', 'Available Dec 4', 'data/img_basic/poster-50.jpg'], ['Crock Of Gold: A Few Rounds With Shane MacGowan', ' 96%', 'Available Dec 4', 'data/img_basic/poster-51.jpg'], ['Archenemy', ' 73%', 'Available Dec 11', 'data/img_basic/poster-52.jpg'], ['Love, Weddings & Other Disasters', ' 4%', 'Available Dec 4', 'data/img_basic/poster-53.jpg'], ['What Lies Below', ' 63%', 'Available Dec 4', 'data/img_basic/poster-54.jpg'], ['Knuckledust', ' 67%', 'Available Dec 8', 'data/img_basic/poster-55.jpg'], ['Smiley Face Killers', ' 43%', 'Available Dec 8', 'data/img_basic/poster-56.jpg'], ['Dear Santa', ' 92%', 'Available Dec 4', 'data/img_basic/poster-57.jpg'], [\"I Hate New Year'S\", ' 60%', 'Available Dec 4', 'data/img_basic/poster-58.jpg'], ['Wild Mountain Thyme', ' 29%', 'Available Dec 11', 'data/img_basic/poster-59.jpg'], ['King Of Knives', ' 78%', 'Available Dec 1', 'data/img_basic/poster-60.jpg'], ['Elyse', ' 50%', 'Available Dec 4', 'data/img_basic/poster-61.jpg'], ['The Stand In', ' 31%', 'Available Dec 11', 'data/img_basic/poster-62.jpg'], ['Ip Man: Kung Fu Master', ' 44%', 'Available Dec 11', 'data/img_basic/poster-63.jpg'], ['The Mystery Of The Pink Flamingo', ' 100%', 'Available Dec 1', 'data/img_basic/poster-64.jpg'], [\"Creem: America'S Only Rock 'N' Roll Magazine\", ' 96%', 'Available Nov 10', 'data/img_basic/poster-65.jpg'], ['Honey Bee', ' 100%', 'Available Nov 10', 'data/img_basic/poster-66.jpg'], ['Hearts And Bones', ' 81%', 'Available Nov 20', 'data/img_basic/poster-67.jpg'], ['The Shock Of The Future (Le Choc Du Futur)', ' 80%', 'Available Nov 10', 'data/img_basic/poster-68.jpg'], ['A Rainy Day In New York', ' 46%', 'Available Nov 10', 'data/img_basic/poster-69.jpg'], ['Collective (Colectiv)', ' 99%', 'Available Nov 20', 'data/img_basic/poster-70.jpg'], ['Jungleland', ' 74%', 'Available Nov 10', 'data/img_basic/poster-71.jpg'], ['The Giant', ' 50%', 'Available Nov 13', 'data/img_basic/poster-72.jpg'], ['Iron Mask', ' 20%', 'Available Nov 20', 'data/img_basic/poster-73.jpg'], ['The Nest', ' 88%', 'Available Nov 17', 'data/img_basic/poster-74.jpg'], ['Lie Exposed', ' 0%', 'Available Nov 20', 'data/img_basic/poster-75.jpg'], ['The Donut King', ' 97%', 'Available Nov 20', 'data/img_basic/poster-76.jpg'], ['Dating Amber', ' 96%', 'Available Nov 10', 'data/img_basic/poster-77.jpg'], ['Mortal (Torden)', ' 55%', 'Available Nov 6', 'data/img_basic/poster-78.jpg'], ['Kindred', ' 70%', 'Available Nov 6', 'data/img_basic/poster-79.jpg'], ['Run', ' 91%', 'Available Nov 20', 'data/img_basic/poster-80.jpg'], [\"A Chef'S Voyage\", ' 67%', 'Available Nov 24', 'data/img_basic/poster-81.jpg'], ['Major Arcana', ' 88%', 'Available Nov 6', 'data/img_basic/poster-82.jpg'], ['The Dark And The Wicked', ' 91%', 'Available Nov 6', 'data/img_basic/poster-83.jpg'], ['Triggered', ' 48%', 'Available Nov 6', 'data/img_basic/poster-84.jpg'], ['Chick Fight', ' 37%', 'Available Nov 13', 'data/img_basic/poster-85.jpg'], ['The Dark Divide', ' 92%', 'Available Nov 10', 'data/img_basic/poster-86.jpg'], ['Echo Boomers', ' 35%', 'Available Nov 13', 'data/img_basic/poster-87.jpg'], ['Embattled', ' 70%', 'Available Nov 20', 'data/img_basic/poster-88.jpg'], ['Team Marco', ' 63%', 'Available Nov 20', 'data/img_basic/poster-89.jpg'], ['Jiu Jitsu', ' 26%', 'Available Nov 20', 'data/img_basic/poster-90.jpg'], ['Where She Lies', ' 100%', 'Available Nov 10', 'data/img_basic/poster-91.jpg'], ['The Orange Years: The Nickelodeon Story', ' 88%', 'Available Nov 17', 'data/img_basic/poster-92.jpg'], ['My Summer As A Goth', ' 20%', 'Available Nov 11', 'data/img_basic/poster-93.jpg'], ['Sleepless Beauty', ' 40%', 'Available Nov 10', 'data/img_basic/poster-94.jpg'], ['Truth Is The Only Client: The Official Investigation Of The Murder Of John F. Kennedy', ' 100%', 'Available Nov 17', 'data/img_basic/poster-95.jpg'], ['That Good Night', ' 52%', 'Available Nov 3', 'data/img_basic/poster-96.jpg'], ['Ryuichi Sakamoto: Coda', ' 98%', 'Available Nov 3', 'data/img_basic/poster-97.jpg'], ['The Sounding', ' 71%', 'Available Oct 20', 'data/img_basic/poster-98.jpg'], ['The Devil Has A Name', ' 33%', 'Available Oct 16', 'data/img_basic/poster-99.jpg'], [\"Wolfman'S Got Nards\", ' 100%', 'Available Oct 27', 'data/img_basic/poster-100.jpg'], ['The Informer', ' 62%', 'Available Nov 6', 'data/img_basic/poster-101.jpg'], [\"J.R. 'Bob' Dobbs & The Church Of The SubGenius\", ' 100%', 'Available Oct 20', 'data/img_basic/poster-102.jpg'], ['The Place Of No Words', ' 69%', 'Available Oct 23', 'data/img_basic/poster-103.jpg'], ['Nomad: In The Footsteps Of Bruce Chatwin', ' 92%', 'Available Oct 27', 'data/img_basic/poster-104.jpg'], ['Terra Willy: Unexplored Planet (Astro Kid)', ' 100%', 'Available Oct 27', 'data/img_basic/poster-105.jpg'], ['The True Adventures Of Wolfboy', ' 78%', 'Available Oct 30', 'data/img_basic/poster-106.jpg'], ['The Antenna (Bina)', ' 55%', 'Available Oct 20', 'data/img_basic/poster-107.jpg'], ['Love And Monsters', ' 92%', 'Available Oct 16', 'data/img_basic/poster-108.jpg'], ['Shithouse', ' 96%', 'Available Oct 16', 'data/img_basic/poster-109.jpg'], ['After We Collided', ' 14%', 'Available Oct 23', 'data/img_basic/poster-110.jpg'], ['The Craft: Legacy', ' 49%', 'Available Oct 28', 'data/img_basic/poster-111.jpg'], ['Spell', ' 46%', 'Available Oct 30', 'data/img_basic/poster-112.jpg'], ['Over The Moon', ' 80%', 'Available Oct 23', 'data/img_basic/poster-113.jpg'], ['White Noise', ' 86%', 'Available Oct 21', 'data/img_basic/poster-114.jpg'], ['Represent', ' 100%', 'Available Nov 3', 'data/img_basic/poster-115.jpg'], ['Alone', ' 40%', 'Available Oct 16', 'data/img_basic/poster-116.jpg'], ['The Opening Act', ' 82%', 'Available Oct 16', 'data/img_basic/poster-117.jpg'], ['Friendsgiving', ' 19%', 'Available Oct 23', 'data/img_basic/poster-118.jpg'], ['Tar', ' 25%', 'Available Oct 20', 'data/img_basic/poster-119.jpg'], ['Harry Chapin: When In Doubt, Do Something', ' 100%', 'Available Oct 30', 'data/img_basic/poster-120.jpg'], ['Chop Chop', ' 17%', 'Available Oct 20', 'data/img_basic/poster-121.jpg'], ['Tremors: Shrieker Island', ' 38%', 'Available Oct 20', 'data/img_basic/poster-122.jpg'], ['One Man And His Shoes', ' 77%', 'Available Oct 26', 'data/img_basic/poster-123.jpg'], ['Greatland', ' 40%', 'Available Nov 1', 'data/img_basic/poster-124.jpg'], ['Cup Of Cheer', ' 64%', 'Available Nov 5', 'data/img_basic/poster-125.jpg'], ['They Reach', ' 43%', 'Available Nov 3', 'data/img_basic/poster-126.jpg'], ['Love In Dangerous Times', ' 80%', 'Available Nov 3', 'data/img_basic/poster-127.jpg'], ['The More You Ignore Me', ' 78%', 'Available Oct 13', 'data/img_basic/poster-128.jpg'], ['Eternal Beauty', ' 77%', 'Available Oct 2', 'data/img_basic/poster-129.jpg'], ['Ms. White Light', ' 57%', 'Available Oct 6', 'data/img_basic/poster-130.jpg'], ['The Wall Of Mexico', ' 70%', 'Available Oct 13', 'data/img_basic/poster-131.jpg'], ['Sibyl', ' 56%', 'Available Oct 13', 'data/img_basic/poster-132.jpg'], ['Bullets Of Justice', ' 57%', 'Available Oct 15', 'data/img_basic/poster-133.jpg'], ['Halloween Party', ' 60%', 'Available Oct 2', 'data/img_basic/poster-134.jpg'], ['Aggie', ' 75%', 'Available Oct 9', 'data/img_basic/poster-135.jpg'], ['Save Yourselves!', ' 88%', 'Available Oct 6', 'data/img_basic/poster-136.jpg'], ['Tapeworm', ' 75%', 'Available Oct 13', 'data/img_basic/poster-137.jpg'], ['12 Hour Shift', ' 77%', 'Available Oct 2', 'data/img_basic/poster-138.jpg'], ['Broil', ' 40%', 'Available Oct 13', 'data/img_basic/poster-139.jpg'], ['The Ringmaster', ' 95%', 'Available Oct 6', 'data/img_basic/poster-140.jpg'], ['Jimmy Carter: Rock & Roll President', ' 95%', 'Available Oct 2', 'data/img_basic/poster-141.jpg'], ['From The Vine', ' 82%', 'Available Oct 9', 'data/img_basic/poster-142.jpg'], ['Death Of Me', ' 32%', 'Available Oct 2', 'data/img_basic/poster-143.jpg'], ['The Curse Of Audrey Earnshaw', ' 76%', 'Available Oct 6', 'data/img_basic/poster-144.jpg'], ['Spontaneous', ' 98%', 'Available Oct 6', 'data/img_basic/poster-145.jpg'], ['Hosts', ' 83%', 'Available Oct 2', 'data/img_basic/poster-146.jpg'], ['The Doorman', ' 22%', 'Available Oct 9', 'data/img_basic/poster-147.jpg'], ['Then Came You', ' 50%', 'Available Oct 2', 'data/img_basic/poster-148.jpg'], ['Totally Under Control', ' 99%', 'Available Oct 13', 'data/img_basic/poster-149.jpg'], ['2067', ' 31%', 'Available Oct 2', 'data/img_basic/poster-150.jpg'], ['The Devil To Pay', ' 100%', 'Available Oct 6', 'data/img_basic/poster-151.jpg'], ['The Phenomenon', ' 88%', 'Available Oct 6', 'data/img_basic/poster-152.jpg'], ['The Wolf Of Snow Hollow', ' 89%', 'Available Oct 9', 'data/img_basic/poster-153.jpg'], ['The Disrupted', ' 100%', 'Available Oct 13', 'data/img_basic/poster-154.jpg'], [\"Let'S Scare Julie\", ' 40%', 'Available Oct 2', 'data/img_basic/poster-155.jpg'], ['Rom Boys: 40 Years Of Rad', ' 100%', 'Available Oct 13', 'data/img_basic/poster-156.jpg'], ['Batman: Death In The Family', ' 71%', 'Available Oct 13', 'data/img_basic/poster-157.jpg'], ['Buddies', ' 100%', 'Available Sep 29', 'data/img_basic/poster-158.jpg'], ['Lost Girls & Love Hotels', ' 48%', 'Available Sep 18', 'data/img_basic/poster-159.jpg'], ['Red, White & Wasted', ' 79%', 'Available Sep 22', 'data/img_basic/poster-160.jpg'], ['Blackbird', ' 61%', 'Available Sep 18', 'data/img_basic/poster-161.jpg'], ['H Is For Happiness', ' 76%', 'Available Sep 18', 'data/img_basic/poster-162.jpg'], ['House Of Cardin', ' 92%', 'Available Sep 15', 'data/img_basic/poster-163.jpg'], ['Luz: The Flower Of Evil', ' 100%', 'Available Sep 15', 'data/img_basic/poster-164.jpg'], ['The Swerve', ' 98%', 'Available Sep 22', 'data/img_basic/poster-165.jpg'], ['Alive', ' 82%', 'Available Sep 18', 'data/img_basic/poster-166.jpg'], ['Antebellum', ' 28%', 'Available Sep 18', 'data/img_basic/poster-167.jpg'], ['The Glorias', ' 69%', 'Available Sep 30', 'data/img_basic/poster-168.jpg'], ['Scare Me', ' 83%', 'Available Oct 1', 'data/img_basic/poster-169.jpg'], ['Toss It', ' 71%', 'Available Sep 17', 'data/img_basic/poster-170.jpg'], [\"She'S In Portland\", ' 67%', 'Available Sep 25', 'data/img_basic/poster-171.jpg'], ['The Racer', ' 83%', 'Available Sep 18', 'data/img_basic/poster-172.jpg'], ['All Roads To Pearla (Sleeping In Plastic)', ' 60%', 'Available Sep 25', 'data/img_basic/poster-173.jpg'], [\"The Artist'S Wife\", ' 66%', 'Available Sep 25', 'data/img_basic/poster-174.jpg'], ['Teenage Badass', ' 67%', 'Available Sep 18', 'data/img_basic/poster-175.jpg'], ['Misbehaviour', ' 86%', 'Available Sep 25', 'data/img_basic/poster-176.jpg'], ['Red Shoes And The Seven Dwarfs', ' 40%', 'Available Sep 18', 'data/img_basic/poster-177.jpg'], ['Ottolenghi And The Cakes Of Versailles', ' 71%', 'Available Sep 25', 'data/img_basic/poster-178.jpg'], ['No Escape (Follow Me)', ' 27%', 'Available Sep 18', 'data/img_basic/poster-179.jpg'], ['All In: The Fight For Democracy', ' 100%', 'Available Sep 18', 'data/img_basic/poster-180.jpg'], ['Sno Babies', ' 25%', 'Available Sep 29', 'data/img_basic/poster-181.jpg'], ['Murder In The Woods', ' 82%', 'Available Sep 18', 'data/img_basic/poster-182.jpg'], ['Stuntwomen: The Untold Hollywood Story', ' 100%', 'Available Sep 20', 'data/img_basic/poster-183.jpg'], ['Resisterhood', ' 100%', 'Available Sep 22', 'data/img_basic/poster-184.jpg'], ['LX 2048', ' 45%', 'Available Sep 25', 'data/img_basic/poster-185.jpg'], ['Herb Alpert Is...', ' 82%', 'Available Oct 1', 'data/img_basic/poster-186.jpg'], ['Sightless', ' 40%', 'Available Sep 29', 'data/img_basic/poster-187.jpg'], ['Mulan', ' 73%', 'Available Sep 4', 'data/img_basic/poster-188.jpg'], ['Buoyancy', ' 97%', 'Available Sep 11', 'data/img_basic/poster-189.jpg'], ['The Garden Left Behind', ' 92%', 'Available Sep 8', 'data/img_basic/poster-190.jpg'], ['Heimat Is A Space In Time (Heimat Ist Ein Raum Aus Zeit)', ' 100%', 'Available Sep 8', 'data/img_basic/poster-191.jpg'], ['Children Of The Sea (Kaijû No Kodomo)', ' 61%', 'Available Sep 1', 'data/img_basic/poster-192.jpg'], ['Measure For Measure', ' 35%', 'Available Sep 4', 'data/img_basic/poster-193.jpg'], ['I Am Woman', ' 67%', 'Available Sep 11', 'data/img_basic/poster-194.jpg'], ['Entwined', ' 65%', 'Available Sep 8', 'data/img_basic/poster-195.jpg'], ['Nail In The Coffin: The Fall And Rise Of Vampiro', ' 100%', 'Available Sep 8', 'data/img_basic/poster-196.jpg'], ['Bloody Nose, Empty Pockets', ' 93%', 'Available Sep 1', 'data/img_basic/poster-197.jpg'], ['Feels Good Man', ' 96%', 'Available Sep 4', 'data/img_basic/poster-198.jpg'], ['The Mole Agent', ' 94%', 'Available Sep 1', 'data/img_basic/poster-199.jpg'], ['Critical Thinking', ' 94%', 'Available Sep 4', 'data/img_basic/poster-200.jpg'], ['Followed', ' 71%', 'Available Sep 1', 'data/img_basic/poster-201.jpg'], ['The Surrogate', ' 92%', 'Available Sep 1', 'data/img_basic/poster-202.jpg'], ['Rent-A-Pal', ' 68%', 'Available Sep 11', 'data/img_basic/poster-203.jpg'], [\"I'Ve Got Issues\", ' 67%', 'Available Sep 15', 'data/img_basic/poster-204.jpg'], ['The Argument', ' 72%', 'Available Sep 4', 'data/img_basic/poster-205.jpg'], ['Up On The Glass', ' 50%', 'Available Sep 8', 'data/img_basic/poster-206.jpg'], ['DTF', ' 67%', 'Available Sep 15', 'data/img_basic/poster-207.jpg'], ['Guest House', ' 0%', 'Available Sep 4', 'data/img_basic/poster-208.jpg'], ['The 2nd', ' 0%', 'Available Sep 1', 'data/img_basic/poster-209.jpg'], ['Range Runners', ' 20%', 'Available Sep 8', 'data/img_basic/poster-210.jpg'], ['The Owners', ' 65%', 'Available Sep 4', 'data/img_basic/poster-211.jpg'], ['Cats & Dogs 3: Paws Unite!', ' 11%', 'Available Sep 15', 'data/img_basic/poster-212.jpg'], ['Still Here', ' 29%', 'Available Sep 4', 'data/img_basic/poster-213.jpg'], [\"Robin'S Wish\", ' 89%', 'Available Sep 1', 'data/img_basic/poster-214.jpg'], ['#Unfit: The Psychology Of Donald Trump', ' 81%', 'Available Sep 1', 'data/img_basic/poster-215.jpg'], ['Immortal', ' 88%', 'Available Sep 1', 'data/img_basic/poster-216.jpg'], ['First One In', ' 100%', 'Available Sep 8', 'data/img_basic/poster-217.jpg'], ['Summerland', ' 88%', 'Available Sep 14', 'data/img_basic/poster-218.jpg'], ['Gather', ' 80%', 'Available Sep 8', 'data/img_basic/poster-219.jpg'], ['American Street Kid', ' 86%', 'Available Aug 21', 'data/img_basic/poster-220.jpg'], ['Ravage', ' 57%', 'Available Aug 21', 'data/img_basic/poster-221.jpg'], ['Bill & Ted Face The Music', ' 82%', 'Available Aug 28', 'data/img_basic/poster-222.jpg'], ['Love Express: The Disappearance Of Walerian Borowczyk', ' 56%', 'Available Aug 21', 'data/img_basic/poster-223.jpg'], ['The Prey', ' 73%', 'Available Aug 25', 'data/img_basic/poster-224.jpg'], ['Benjamin', ' 89%', 'Available Aug 25', 'data/img_basic/poster-225.jpg'], ['Cane River', ' 100%', 'Available Aug 18', 'data/img_basic/poster-226.jpg'], ['Pariah Dog', ' 100%', 'Available Aug 18', 'data/img_basic/poster-227.jpg'], ['Desert One', ' 90%', 'Available Aug 21', 'data/img_basic/poster-228.jpg'], ['Matthias & Maxime', ' 66%', 'Available Aug 28', 'data/img_basic/poster-229.jpg'], ['Tesla', ' 59%', 'Available Aug 21', 'data/img_basic/poster-230.jpg'], ['Epicentro', ' 93%', 'Available Aug 28', 'data/img_basic/poster-231.jpg'], ['Fatima', ' 62%', 'Available Aug 28', 'data/img_basic/poster-232.jpg'], ['Emperor', ' 71%', 'Available Aug 18', 'data/img_basic/poster-233.jpg'], ['The 24th', ' 78%', 'Available Aug 21', 'data/img_basic/poster-234.jpg'], ['Darkness Falls', ' 13%', 'Available Aug 18', 'data/img_basic/poster-235.jpg'], ['You Cannot Kill David Arquette', ' 83%', 'Available Aug 28', 'data/img_basic/poster-236.jpg'], ['The Lawyer (Advokatas)', ' 100%', 'Available Aug 18', 'data/img_basic/poster-237.jpg'], ['Centigrade', ' 40%', 'Available Aug 28', 'data/img_basic/poster-238.jpg'], ['One Night In Bangkok', ' 33%', 'Available Aug 25', 'data/img_basic/poster-239.jpg'], ['The Pale Door', ' 49%', 'Available Aug 21', 'data/img_basic/poster-240.jpg'], ['The Honeymoon Phase', ' 75%', 'Available Aug 21', 'data/img_basic/poster-241.jpg'], ['Rogue', ' 67%', 'Available Aug 28', 'data/img_basic/poster-242.jpg'], ['The Vanished', ' 21%', 'Available Aug 21', 'data/img_basic/poster-243.jpg'], ['Hard Kill', ' 0%', 'Available Aug 25', 'data/img_basic/poster-244.jpg'], ['Driven To Abstraction', ' 67%', 'Available Aug 28', 'data/img_basic/poster-245.jpg'], ['The Blech Effect', ' 60%', 'Available Aug 25', 'data/img_basic/poster-246.jpg'], ['Coronation', ' 100%', 'Available Aug 20', 'data/img_basic/poster-247.jpg'], ['Skin: A History Of Nudity In The Movies', ' 84%', 'Available Aug 18', 'data/img_basic/poster-248.jpg'], [\"Jazz On A Summer'S Day\", ' 100%', 'Available Aug 12', 'data/img_basic/poster-249.jpg'], ['Le Week-End', ' 89%', 'Available Aug 7', 'data/img_basic/poster-250.jpg'], ['Sweet Bean (An)', ' 85%', 'Available Aug 7', 'data/img_basic/poster-251.jpg'], ['Carmen & Lola (Carmen Y Lola)', ' 89%', 'Available Aug 14', 'data/img_basic/poster-252.jpg'], ['Sometimes Always Never (Triple Word Score)', ' 82%', 'Available Aug 18', 'data/img_basic/poster-253.jpg'], ['Out Stealing Horses (Ut Og Stjæle Hester)', ' 76%', 'Available Aug 7', 'data/img_basic/poster-254.jpg'], ['Waiting For The Barbarians', ' 53%', 'Available Aug 7', 'data/img_basic/poster-255.jpg'], ['Fagara (Huajiao Zhiwei)', ' 100%', 'Available Aug 8', 'data/img_basic/poster-256.jpg'], ['The Secret Garden', ' 66%', 'Available Aug 7', 'data/img_basic/poster-257.jpg'], ['Spree', ' 65%', 'Available Aug 14', 'data/img_basic/poster-258.jpg'], ['Happy Happy Joy Joy: The Ren & Stimpy Story', ' 82%', 'Available Aug 14', 'data/img_basic/poster-259.jpg'], ['A Thousand Cuts', ' 100%', 'Available Aug 7', 'data/img_basic/poster-260.jpg'], ['Big Fur', ' 100%', 'Available Aug 11', 'data/img_basic/poster-261.jpg'], ['I Used To Go Here', ' 85%', 'Available Aug 7', 'data/img_basic/poster-262.jpg'], ['She Dies Tomorrow', ' 84%', 'Available Aug 7', 'data/img_basic/poster-263.jpg'], ['Martin Margiela: In His Own Words', ' 78%', 'Available Aug 14', 'data/img_basic/poster-264.jpg'], ['Sputnik', ' 89%', 'Available Aug 14', 'data/img_basic/poster-265.jpg'], ['Made In Italy', ' 49%', 'Available Aug 7', 'data/img_basic/poster-266.jpg'], ['Psychomagic, A Healing Art (Psychomagie, Un Art Pour Guérir)', ' 77%', 'Available Aug 7', 'data/img_basic/poster-267.jpg'], ['Max Reload And The Nether Blasters', ' 82%', 'Available Aug 11', 'data/img_basic/poster-268.jpg'], ['Endless', ' 19%', 'Available Aug 14', 'data/img_basic/poster-269.jpg'], ['Paydirt', ' 22%', 'Available Aug 7', 'data/img_basic/poster-270.jpg'], ['IRL', ' 100%', 'Available Aug 11', 'data/img_basic/poster-271.jpg'], ['Uncle Peckerhead', ' 100%', 'Available Aug 11', 'data/img_basic/poster-272.jpg'], ['The Bay Of Silence', ' 52%', 'Available Aug 14', 'data/img_basic/poster-273.jpg'], ['Pearl', ' 57%', 'Available Aug 11', 'data/img_basic/poster-274.jpg'], ['Kat And The Band', ' 60%', 'Available Aug 11', 'data/img_basic/poster-275.jpg'], ['Monstrous', ' 60%', 'Available Aug 11', 'data/img_basic/poster-276.jpg'], ['Northwood Pie', ' 93%', 'Available Aug 14', 'data/img_basic/poster-277.jpg'], [\"Pretending I'M A Superman: The Tony Hawk Video Game Story\", ' 93%', 'Available Aug 18', 'data/img_basic/poster-278.jpg'], ['Cut And Chop', ' 80%', 'Available Aug 14', 'data/img_basic/poster-279.jpg'], ['The American Nurse', ' 100%', 'Available Jul 28', 'data/img_basic/poster-280.jpg'], ['Retaliation (Romans)', ' 80%', 'Available Jul 24', 'data/img_basic/poster-281.jpg'], ['House Of Hummingbird (Beolsae)', ' 100%', 'Available Aug 4', 'data/img_basic/poster-282.jpg'], ['Yes, God, Yes', ' 93%', 'Available Jul 28', 'data/img_basic/poster-283.jpg'], ['Around The Sun', ' 93%', 'Available Aug 4', 'data/img_basic/poster-284.jpg'], ['Promare', ' 97%', 'Available Aug 4', 'data/img_basic/poster-285.jpg'], ['Ride Your Wave', ' 93%', 'Available Aug 4', 'data/img_basic/poster-286.jpg'], ['Dead Dicks', ' 100%', 'Available Jul 28', 'data/img_basic/poster-287.jpg'], ['Lake Michigan Monster', ' 84%', 'Available Aug 3', 'data/img_basic/poster-288.jpg'], ['Red Penguins', ' 96%', 'Available Aug 4', 'data/img_basic/poster-289.jpg'], ['Gundala', ' 83%', 'Available Jul 28', 'data/img_basic/poster-290.jpg'], ['Calm With Horses (The Shadow Of Violence)', ' 94%', 'Available Jul 31', 'data/img_basic/poster-291.jpg'], ['The Secret: Dare To Dream', ' 29%', 'Available Jul 31', 'data/img_basic/poster-292.jpg'], ['Rebuilding Paradise', ' 92%', 'Available Jul 31', 'data/img_basic/poster-293.jpg'], ['The Fight', ' 98%', 'Available Jul 31', 'data/img_basic/poster-294.jpg'], ['Skin Walker', ' 60%', 'Available Aug 4', 'data/img_basic/poster-295.jpg'], ['Tijuana Jackson: Purpose Over Prison', ' 67%', 'Available Jul 31', 'data/img_basic/poster-296.jpg'], ['Legacy Of Lies', ' 86%', 'Available Jul 28', 'data/img_basic/poster-297.jpg'], ['The Big Ugly', ' 41%', 'Available Jul 31', 'data/img_basic/poster-298.jpg'], ['SamSam', ' 20%', 'Available Aug 7', 'data/img_basic/poster-299.jpg'], ['The Tax Collector', ' 19%', 'Available Aug 7', 'data/img_basic/poster-300.jpg'], ['Stockton On My Mind', ' 83%', 'Available Jul 28', 'data/img_basic/poster-301.jpg'], ['Deep Blue Sea 3', ' 71%', 'Available Jul 28', 'data/img_basic/poster-302.jpg'], ['Nothing But The Blood', ' 0%', 'Available Aug 4', 'data/img_basic/poster-303.jpg'], ['Senior Love Triangle', ' 88%', 'Available Aug 4', 'data/img_basic/poster-304.jpg'], ['Deathstroke: Knights & Dragons', ' 80%', 'Available Aug 4', 'data/img_basic/poster-305.jpg'], ['What We Found', ' 56%', 'Available Aug 4', 'data/img_basic/poster-306.jpg'], ['The Swamp', ' 67%', 'Available Aug 4', 'data/img_basic/poster-307.jpg'], ['Host', ' 100%', 'Available Jul 30', 'data/img_basic/poster-308.jpg'], ['Stars And Strife', ' 90%', 'Available Aug 4', 'data/img_basic/poster-309.jpg'], [\"Busman'S Holiday\", ' 86%', 'Available Jul 25', 'data/img_basic/poster-310.jpg']]\n"
     ]
    }
   ],
   "source": [
    "print(dataList)"
   ]
  },
  {
   "cell_type": "code",
   "execution_count": 19,
   "metadata": {},
   "outputs": [],
   "source": [
    "MoreStreamingTitles = pd.DataFrame(dataList, columns=[\"title\", \"rating\", \"available\", \"img\"])"
   ]
  },
  {
   "cell_type": "code",
   "execution_count": 20,
   "metadata": {},
   "outputs": [
    {
     "data": {
      "text/html": [
       "<div>\n",
       "<style scoped>\n",
       "    .dataframe tbody tr th:only-of-type {\n",
       "        vertical-align: middle;\n",
       "    }\n",
       "\n",
       "    .dataframe tbody tr th {\n",
       "        vertical-align: top;\n",
       "    }\n",
       "\n",
       "    .dataframe thead th {\n",
       "        text-align: right;\n",
       "    }\n",
       "</style>\n",
       "<table border=\"1\" class=\"dataframe\">\n",
       "  <thead>\n",
       "    <tr style=\"text-align: right;\">\n",
       "      <th></th>\n",
       "      <th>title</th>\n",
       "      <th>rating</th>\n",
       "      <th>available</th>\n",
       "      <th>img</th>\n",
       "    </tr>\n",
       "  </thead>\n",
       "  <tbody>\n",
       "    <tr>\n",
       "      <th>84</th>\n",
       "      <td>Chick Fight</td>\n",
       "      <td>37%</td>\n",
       "      <td>Available Nov 13</td>\n",
       "      <td>data/img_basic/poster-85.jpg</td>\n",
       "    </tr>\n",
       "    <tr>\n",
       "      <th>175</th>\n",
       "      <td>Misbehaviour</td>\n",
       "      <td>86%</td>\n",
       "      <td>Available Sep 25</td>\n",
       "      <td>data/img_basic/poster-176.jpg</td>\n",
       "    </tr>\n",
       "    <tr>\n",
       "      <th>252</th>\n",
       "      <td>Sometimes Always Never (Triple Word Score)</td>\n",
       "      <td>82%</td>\n",
       "      <td>Available Aug 18</td>\n",
       "      <td>data/img_basic/poster-253.jpg</td>\n",
       "    </tr>\n",
       "    <tr>\n",
       "      <th>101</th>\n",
       "      <td>J.R. 'Bob' Dobbs &amp; The Church Of The SubGenius</td>\n",
       "      <td>100%</td>\n",
       "      <td>Available Oct 20</td>\n",
       "      <td>data/img_basic/poster-102.jpg</td>\n",
       "    </tr>\n",
       "    <tr>\n",
       "      <th>121</th>\n",
       "      <td>Tremors: Shrieker Island</td>\n",
       "      <td>38%</td>\n",
       "      <td>Available Oct 20</td>\n",
       "      <td>data/img_basic/poster-122.jpg</td>\n",
       "    </tr>\n",
       "  </tbody>\n",
       "</table>\n",
       "</div>"
      ],
      "text/plain": [
       "                                              title rating         available  \\\n",
       "84                                      Chick Fight    37%  Available Nov 13   \n",
       "175                                    Misbehaviour    86%  Available Sep 25   \n",
       "252      Sometimes Always Never (Triple Word Score)    82%  Available Aug 18   \n",
       "101  J.R. 'Bob' Dobbs & The Church Of The SubGenius   100%  Available Oct 20   \n",
       "121                        Tremors: Shrieker Island    38%  Available Oct 20   \n",
       "\n",
       "                               img  \n",
       "84    data/img_basic/poster-85.jpg  \n",
       "175  data/img_basic/poster-176.jpg  \n",
       "252  data/img_basic/poster-253.jpg  \n",
       "101  data/img_basic/poster-102.jpg  \n",
       "121  data/img_basic/poster-122.jpg  "
      ]
     },
     "execution_count": 20,
     "metadata": {},
     "output_type": "execute_result"
    }
   ],
   "source": [
    "MoreStreamingTitles.sample(5)"
   ]
  },
  {
   "cell_type": "code",
   "execution_count": 21,
   "metadata": {},
   "outputs": [],
   "source": [
    "MoreStreamingTitles.to_csv('data/titlesDataRaw_extended.csv', sep=',')"
   ]
  },
  {
   "cell_type": "markdown",
   "metadata": {},
   "source": [
    "**Steps 4, 5 and 6 are identical to the \"one page simple scraping\" example**"
   ]
  },
  {
   "cell_type": "code",
   "execution_count": 23,
   "metadata": {},
   "outputs": [],
   "source": [
    "#Ultimately, once we got everything we were interested in, we need to quit our WebDriver to avoid sessions piling up\n",
    "driver.quit()"
   ]
  },
  {
   "cell_type": "markdown",
   "metadata": {},
   "source": [
    "### Conclusion\n",
    "\n",
    "Each website is different, therefore scraping is often a tailored activity that requires some coding and strategizing effort. This tutorial presented some simple features and a couple of useful patterns if you need to scrape a relatively contained amount of data. There are more complex and articulated tasks that require more savviness, time and computing effort. One example are social media. For special or recurring cases there's a useful collection of tools that can be found [here](https://wiki.digitalmethods.net/Dmi/ToolDatabase)."
   ]
  },
  {
   "cell_type": "markdown",
   "metadata": {},
   "source": [
    "### References\n",
    "\n",
    "1. Guide to Selenium basic functions for scraping: https://www.scrapingbee.com/blog/selenium-python/\n",
    "2. Including WebDriver location in MacOS System Path: https://www.kenst.com/2015/03/including-the-chromedriver-location-in-macos-system-path/\n",
    "3. Data Science Skills Set: https://francesco-ai.medium.com/data-science-skills-list-9f38863adab5\n",
    "4. DMI Tools Database: https://wiki.digitalmethods.net/Dmi/ToolDatabase"
   ]
  },
  {
   "cell_type": "code",
   "execution_count": null,
   "metadata": {},
   "outputs": [],
   "source": []
  }
 ],
 "metadata": {
  "kernelspec": {
   "display_name": "my_env",
   "language": "python",
   "name": "my_env"
  },
  "language_info": {
   "codemirror_mode": {
    "name": "ipython",
    "version": 3
   },
   "file_extension": ".py",
   "mimetype": "text/x-python",
   "name": "python",
   "nbconvert_exporter": "python",
   "pygments_lexer": "ipython3",
   "version": "3.8.5"
  }
 },
 "nbformat": 4,
 "nbformat_minor": 4
}
