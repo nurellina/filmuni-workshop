{
 "cells": [
  {
   "cell_type": "markdown",
   "metadata": {},
   "source": [
    "# Making basic visualizations using Rawgraphs"
   ]
  },
  {
   "cell_type": "markdown",
   "metadata": {},
   "source": [
    "Rawgraphs is an online data visualization tool that allows you to quickly visualize your data from TSV, CSV, DSV, JSON and Excel files. It also allows you to paste data (see below), or connect to data hosted online.\n",
    "\n",
    "We will quickly see how you can create a visualization using the data you have scraped over a few basic steps."
   ]
  },
  {
   "cell_type": "markdown",
   "metadata": {},
   "source": [
    "Go to: https://rawgraphs.io/\n",
    "\n",
    "You can either simply copy and paste your data in csv format (there is the example data from this mornins's session below) or upload your data."
   ]
  },
  {
   "cell_type": "markdown",
   "metadata": {},
   "source": [
    "title,critic rating(%),audience rating(%),genres,available_date,img_path,genre1,genre2,genre3,genre4,genre5,genre6\n",
    "THE EMOJI STORY,91.0,0.0,Documentary,2020-12-22,data/img/poster-1.jpg,Documentary,NaN,NaN,NaN,NaN,NaN\n",
    "PROMISING YOUNG WOMAN,91.0,87.0,\"Comedy, Mystery And Thriller\",2020-12-25,data/img/poster-2.jpg,Comedy, Mystery And Thriller,NaN,NaN,NaN,NaN\n",
    "YELLOW ROSE,86.0,82.0,\"Drama, Music\",2020-10-09,data/img/poster-3.jpg,Drama, Music,NaN,NaN,NaN,NaN\n",
    "AMERICAN SKIN,31.0,97.0,Drama,2021-01-15,data/img/poster-4.jpg,Drama,NaN,NaN,NaN,NaN,NaN\n",
    "SOUL,96.0,88.0,\"Comedy, Animation, Adventure, Kids And Family\",2020-12-25,data/img/poster-5.jpg,Comedy, Animation, Adventure, Kids And Family,NaN,NaN\n",
    "SING ME A SONG,88.0,0.0,Documentary,2020-12-04,data/img/poster-6.jpg,Documentary,NaN,NaN,NaN,NaN,NaN\n",
    "BORN TO BE,100.0,0.0,Documentary,2020-11-18,data/img/poster-7.jpg,Documentary,NaN,NaN,NaN,NaN,NaN\n",
    "THE DELIVERED,93.0,0.0,\"Drama, Horror\",2021-01-15,data/img/poster-8.jpg,Drama, Horror,NaN,NaN,NaN,NaN\n",
    "PIECES OF A WOMAN,76.0,89.0,Drama,2020-12-30,data/img/poster-9.jpg,Drama,NaN,NaN,NaN,NaN,NaN\n",
    "ASSASSINS,100.0,100.0,Documentary,2020-12-11,data/img/poster-10.jpg,Documentary,NaN,NaN,NaN,NaN,NaN\n",
    "SYLVIE'S LOVE,92.0,79.0,\"Romance, Drama, Music\",2020-12-23,data/img/poster-11.jpg,Romance, Drama, Music,NaN,NaN,NaN\n",
    "LOVE SARAH,55.0,68.0,Romance,2021-01-15,data/img/poster-12.jpg,Romance,NaN,NaN,NaN,NaN,NaN\n",
    "ONE NIGHT IN MIAMI,98.0,83.0,Drama,2020-12-25,data/img/poster-13.jpg,Drama,NaN,NaN,NaN,NaN,NaN\n",
    "SHADOW IN THE CLOUD,78.0,31.0,\"War, Action, Horror\",2021-01-01,data/img/poster-15.jpg,War, Action, Horror,NaN,NaN,NaN\n",
    "TEN MINUTES TO MIDNIGHT,88.0,57.0,\"Mystery And Thriller, Horror\",2020-09-17,data/img/poster-16.jpg,Mystery And Thriller, Horror,NaN,NaN,NaN,NaN\n",
    "SHORTCUT,58.0,24.0,\"Horror, Mystery And Thriller\",2020-09-25,data/img/poster-18.jpg,Horror, Mystery And Thriller,NaN,NaN,NaN,NaN\n",
    "THE MIDNIGHT SKY,50.0,26.0,\"Sci Fi, Drama\",2020-12-11,data/img/poster-19.jpg,Sci Fi, Drama,NaN,NaN,NaN,NaN\n",
    "PG: PSYCHO GOREMAN,89.0,66.0,\"Horror, Comedy\",2021-01-22,data/img/poster-20.jpg,Horror, Comedy,NaN,NaN,NaN,NaN\n",
    "BABY DONE,96.0,33.0,Comedy,2021-01-22,data/img/poster-21.jpg,Comedy,NaN,NaN,NaN,NaN,NaN\n",
    "WE CAN BE HEROES,73.0,45.0,\"Adventure, Sci Fi, Fantasy, Action\",2020-12-25,data/img/poster-22.jpg,Adventure, Sci Fi, Fantasy, Action,NaN,NaN\n",
    "DON'T TELL A SOUL,75.0,63.0,Mystery And Thriller,2021-01-15,data/img/poster-23.jpg,Mystery And Thriller,NaN,NaN,NaN,NaN,NaN\n",
    "REDEMPTION DAY,16.0,61.0,\"Mystery And Thriller, Action\",2021-01-08,data/img/poster-24.jpg,Mystery And Thriller, Action,NaN,NaN,NaN,NaN\n",
    "YEARLY DEPARTED,80.0,58.0,\"Comedy, Stand Up\",2020-12-30,data/img/poster-25.jpg,Comedy, Stand Up,NaN,NaN,NaN,NaN\n",
    "THE ONE YOU FEED,33.0,0.0,\"Mystery And Thriller, Drama\",2020-12-29,data/img/poster-26.jpg,Mystery And Thriller, Drama,NaN,NaN,NaN,NaN\n",
    "\"STALLONE: FRANK, THAT IS\",57.0,0.0,Documentary,2021-01-05,data/img/poster-27.jpg,Documentary,NaN,NaN,NaN,NaN,NaN\n",
    "STARS FELL ON ALABAMA,64.0,67.0,Romance,2021-01-08,data/img/poster-28.jpg,Romance,NaN,NaN,NaN,NaN,NaN\n",
    "GUN AND A HOTEL BIBLE,60.0,100.0,Drama,2021-01-05,data/img/poster-29.jpg,Drama,NaN,NaN,NaN,NaN,NaN\n",
    "\"IF NOT NOW, WHEN?\",53.0,0.0,Drama,2021-01-08,data/img/poster-30.jpg,Drama,NaN,NaN,NaN,NaN,NaN\n",
    "\"ARIANA GRANDE: EXCUSE ME, I LOVE YOU\",50.0,91.0,\"Documentary, Music\",2020-12-21,data/img/poster-31.jpg,Documentary, Music,NaN,NaN,NaN,NaN\n",
    "LOCKED DOWN,45.0,33.0,\"Comedy, Romance\",2021-01-14,data/img/poster-32.jpg,Comedy, Romance,NaN,NaN,NaN,NaN\n",
    "KOKO-DI KOKO-DA,81.0,54.0,\"Comedy, Horror\",2020-11-06,data/img/poster-33.jpg,Comedy, Horror,NaN,NaN,NaN,NaN\n",
    "PRINCESS OF THE ROW,88.0,100.0,Drama,2020-11-27,data/img/poster-34.jpg,Drama,NaN,NaN,NaN,NaN,NaN\n",
    "BILLIE,97.0,81.0,\"Music, Documentary\",2020-12-04,data/img/poster-35.jpg,Music, Documentary,NaN,NaN,NaN,NaN\n",
    "18 TO PARTY,57.0,0.0,Comedy,2020-11-06,data/img/poster-36.jpg,Comedy,NaN,NaN,NaN,NaN,NaN\n",
    "LUXOR,91.0,38.0,\"Romance, Drama\",2020-12-04,data/img/poster-38.jpg,Romance, Drama,NaN,NaN,NaN,NaN\n",
    "WANDER DARKLY,76.0,77.0,Drama,2020-12-11,data/img/poster-39.jpg,Drama,NaN,NaN,NaN,NaN,NaN\n",
    "BEAST MODE,57.0,0.0,\"Comedy, Horror\",2020-12-01,data/img/poster-40.jpg,Comedy, Horror,NaN,NaN,NaN,NaN\n",
    "BLACK BEAR,87.0,60.0,Drama,2020-12-04,data/img/poster-41.jpg,Drama,NaN,NaN,NaN,NaN,NaN\n",
    "TRAIN TO BUSAN PRESENTS: PENINSULA,53.0,76.0,\"Horror, Action, Mystery And Thriller\",2020-08-21,data/img/poster-42.jpg,Horror, Action, Mystery And Thriller,NaN,NaN,NaN\n",
    "COMFORT FARMS,67.0,0.0,Documentary,2020-12-08,data/img/poster-43.jpg,Documentary,NaN,NaN,NaN,NaN,NaN\n",
    "STARDUST,16.0,33.0,\"Biography, Drama, Music\",2020-11-25,data/img/poster-44.jpg,Biography, Drama, Music,NaN,NaN,NaN\n",
    "SURVIVAL SKILLS,86.0,83.0,Comedy,2020-11-13,data/img/poster-45.jpg,Comedy,NaN,NaN,NaN,NaN,NaN\n",
    "THE WALRUS AND THE WHISTLEBLOWER,40.0,0.0,Documentary,2020-10-09,data/img/poster-46.jpg,Documentary,NaN,NaN,NaN,NaN,NaN\n",
    "AMMONITE,67.0,85.0,\"Romance, Drama\",2020-11-13,data/img/poster-47.jpg,Romance, Drama,NaN,NaN,NaN,NaN\n",
    "RUN,91.0,76.0,Mystery And Thriller,2020-11-20,data/img/poster-48.jpg,Mystery And Thriller,NaN,NaN,NaN,NaN,NaN\n",
    "A CHEF'S VOYAGE,67.0,0.0,Documentary,2020-09-18,data/img/poster-49.jpg,Documentary,NaN,NaN,NaN,NaN,NaN\n",
    "MINOR PREMISE,92.0,79.0,\"Mystery And Thriller, Sci Fi\",2020-12-04,data/img/poster-50.jpg,Mystery And Thriller, Sci Fi,NaN,NaN,NaN,NaN\n",
    "EMBATTLED,68.0,79.0,Drama,2020-11-20,data/img/poster-51.jpg,Drama,NaN,NaN,NaN,NaN,NaN\n",
    "CROCK OF GOLD: A FEW ROUNDS WITH SHANE MACGOWAN,95.0,96.0,\"Music, Documentary\",2020-12-04,data/img/poster-52.jpg,Music, Documentary,NaN,NaN,NaN,NaN\n",
    "FATMAN,46.0,84.0,\"Other, Fantasy, Mystery And Thriller, Comedy\",2020-11-13,data/img/poster-53.jpg,Other, Fantasy, Mystery And Thriller, Comedy,NaN,NaN\n",
    "ARCHENEMY,73.0,52.0,\"Mystery And Thriller, Action\",2020-12-11,data/img/poster-54.jpg,Mystery And Thriller, Action,NaN,NaN,NaN,NaN\n",
    "\"LOVE, WEDDINGS & OTHER DISASTERS\",4.0,25.0,Romance,2020-12-04,data/img/poster-55.jpg,Romance,NaN,NaN,NaN,NaN,NaN\n",
    "WHAT LIES BELOW,43.0,57.0,Mystery And Thriller,2020-12-04,data/img/poster-56.jpg,Mystery And Thriller,NaN,NaN,NaN,NaN,NaN\n",
    "KNUCKLEDUST,67.0,0.0,\"Action, Mystery And Thriller\",2020-12-11,data/img/poster-57.jpg,Action, Mystery And Thriller,NaN,NaN,NaN,NaN\n",
    "DEAR SANTA,92.0,0.0,\"Other, Documentary\",2020-12-04,data/img/poster-59.jpg,Other, Documentary,NaN,NaN,NaN,NaN\n",
    "I HATE NEW YEAR'S,60.0,75.0,\"Other, Romance, Gay And Lesbian\",2020-12-04,data/img/poster-60.jpg,Other, Romance, Gay And Lesbian,NaN,NaN,NaN\n",
    "KING OF KNIVES,78.0,100.0,\"Comedy, Drama\",2020-12-01,data/img/poster-61.jpg,Comedy, Drama,NaN,NaN,NaN,NaN\n",
    "ELYSE,50.0,17.0,Drama,2020-12-04,data/img/poster-62.jpg,Drama,NaN,NaN,NaN,NaN,NaN\n",
    "IP MAN: KUNG FU MASTER,44.0,50.0,\"Sports And Fitness, Action\",2020-12-11,data/img/poster-63.jpg,Sports And Fitness, Action,NaN,NaN,NaN,NaN\n",
    "THE MYSTERY OF THE PINK FLAMINGO,100.0,0.0,Documentary,2020-12-01,data/img/poster-64.jpg,Documentary,NaN,NaN,NaN,NaN,NaN\n",
    "THE INFORMER,62.0,63.0,\"Mystery And Thriller, Crime, Drama\",2020-11-06,data/img/poster-65.jpg,Mystery And Thriller, Crime, Drama,NaN,NaN,NaN\n",
    "CREEM: AMERICA'S ONLY ROCK 'N' ROLL MAGAZINE,96.0,100.0,\"Music, Documentary\",2020-08-07,data/img/poster-66.jpg,Music, Documentary,NaN,NaN,NaN,NaN\n",
    "HONEY BEE,100.0,0.0,Drama,2020-11-10,data/img/poster-67.jpg,Drama,NaN,NaN,NaN,NaN,NaN\n",
    "HEARTS AND BONES,81.0,60.0,Drama,2020-11-20,data/img/poster-68.jpg,Drama,NaN,NaN,NaN,NaN,NaN\n",
    "LE CHOC DU FUTUR,79.0,0.0,\"Comedy, Drama\",2020-11-10,data/img/poster-69.jpg,Comedy, Drama,NaN,NaN,NaN,NaN\n",
    "A RAINY DAY IN NEW YORK,46.0,58.0,Comedy,2020-10-09,data/img/poster-70.jpg,Comedy,NaN,NaN,NaN,NaN,NaN\n",
    "COLLECTIVE,99.0,95.0,Documentary,2020-11-20,data/img/poster-71.jpg,Documentary,NaN,NaN,NaN,NaN,NaN\n",
    "JUNGLELAND,74.0,52.0,Drama,2020-11-06,data/img/poster-72.jpg,Drama,NaN,NaN,NaN,NaN,NaN\n",
    "THE GIANT,50.0,0.0,Mystery And Thriller,2020-11-13,data/img/poster-73.jpg,Mystery And Thriller,NaN,NaN,NaN,NaN,NaN\n",
    "IRON MASK,20.0,22.0,\"Fantasy, Adventure, Action\",2020-11-20,data/img/poster-74.jpg,Fantasy, Adventure, Action,NaN,NaN,NaN\n",
    "THE NEST,88.0,48.0,\"Mystery And Thriller, Drama\",2020-09-18,data/img/poster-75.jpg,Mystery And Thriller, Drama,NaN,NaN,NaN,NaN\n",
    "LIE EXPOSED,0.0,0.0,Drama,2020-09-25,data/img/poster-76.jpg,Drama,NaN,NaN,NaN,NaN,NaN\n",
    "THE DONUT KING,97.0,90.0,Documentary,2020-10-30,data/img/poster-77.jpg,Documentary,NaN,NaN,NaN,NaN,NaN\n",
    "DATING AMBER,96.0,85.0,\"Comedy, Drama\",2020-11-10,data/img/poster-78.jpg,Comedy, Drama,NaN,NaN,NaN,NaN\n",
    "REPRESENT,100.0,0.0,Documentary,2020-08-14,data/img/poster-79.jpg,Documentary,NaN,NaN,NaN,NaN,NaN\n",
    "MORTAL,53.0,0.0,\"Fantasy, Mystery And Thriller\",2020-11-06,data/img/poster-80.jpg,Fantasy, Mystery And Thriller,NaN,NaN,NaN,NaN\n",
    "KINDRED,69.0,33.0,Mystery And Thriller,2020-11-06,data/img/poster-81.jpg,Mystery And Thriller,NaN,NaN,NaN,NaN,NaN\n",
    "THE DARK AND THE WICKED,90.0,63.0,\"Mystery And Thriller, Horror\",2020-11-06,data/img/poster-83.jpg,Mystery And Thriller, Horror,NaN,NaN,NaN,NaN\n",
    "TRIGGERED,48.0,0.0,\"Mystery And Thriller, Action, Horror\",2020-11-06,data/img/poster-84.jpg,Mystery And Thriller, Action, Horror,NaN,NaN,NaN\n",
    "CHICK FIGHT,36.0,32.0,\"Comedy, Action, Sports And Fitness\",2020-11-13,data/img/poster-85.jpg,Comedy, Action, Sports And Fitness,NaN,NaN,NaN\n",
    "THE DARK DIVIDE,92.0,80.0,\"Adventure, Drama\",2020-09-18,data/img/poster-86.jpg,Adventure, Drama,NaN,NaN,NaN,NaN\n",
    "ECHO BOOMERS,37.0,96.0,\"Mystery And Thriller, Crime, Drama\",2020-11-13,data/img/poster-87.jpg,Mystery And Thriller, Crime, Drama,NaN,NaN,NaN\n",
    "TEAM MARCO,63.0,0.0,\"Comedy, Drama\",2020-11-20,data/img/poster-88.jpg,Comedy, Drama,NaN,NaN,NaN,NaN\n",
    "JIU JITSU,28.0,72.0,\"Fantasy, Action, Sci Fi\",2020-11-20,data/img/poster-89.jpg,Fantasy, Action, Sci Fi,NaN,NaN,NaN\n",
    "WHERE SHE LIES,100.0,0.0,Documentary,2020-11-10,data/img/poster-90.jpg,Documentary,NaN,NaN,NaN,NaN,NaN\n",
    "THE ORANGE YEARS: THE NICKELODEON STORY,86.0,91.0,Documentary,2020-11-17,data/img/poster-91.jpg,Documentary,NaN,NaN,NaN,NaN,NaN\n",
    "MY SUMMER AS A GOTH,20.0,0.0,Drama,2020-11-11,data/img/poster-92.jpg,Drama,NaN,NaN,NaN,NaN,NaN\n",
    "SLEEPLESS BEAUTY,40.0,0.0,Horror,2020-11-10,data/img/poster-93.jpg,Horror,NaN,NaN,NaN,NaN,NaN\n",
    "THEY REACH,43.0,86.0,\"Mystery And Thriller, Horror\",2020-11-03,data/img/poster-95.jpg,Mystery And Thriller, Horror,NaN,NaN,NaN,NaN\n",
    "TRUTH IS THE ONLY CLIENT: THE OFFICIAL INVESTIGATION OF THE MURDER OF JOHN F. KENNEDY,100.0,0.0,Documentary,2020-11-17,data/img/poster-96.jpg,Documentary,NaN,NaN,NaN,NaN,NaN\n",
    "THE SOUNDING,71.0,0.0,\"Mystery And Thriller, Drama\",2020-10-10,data/img/poster-97.jpg,Mystery And Thriller, Drama,NaN,NaN,NaN,NaN\n",
    "THE DEVIL HAS A NAME,33.0,64.0,\"Comedy, Drama\",2020-10-16,data/img/poster-98.jpg,Comedy, Drama,NaN,NaN,NaN,NaN\n",
    "WOLFMAN'S GOT NARDS,100.0,60.0,\"Horror, Documentary\",2020-10-27,data/img/poster-99.jpg,Horror, Documentary,NaN,NaN,NaN,NaN\n",
    "\"J.R. \"\"BOB\"\" DOBBS & THE CHURCH OF THE SUBGENIUS\",100.0,35.0,\"Comedy, Documentary\",2020-10-16,data/img/poster-100.jpg,Comedy, Documentary,NaN,NaN,NaN,NaN\n",
    "THE WALL OF MEXICO,70.0,0.0,\"Comedy, Drama\",2020-09-18,data/img/poster-101.jpg,Comedy, Drama,NaN,NaN,NaN,NaN\n",
    "NOMAD: IN THE FOOTSTEPS OF BRUCE CHATWIN,92.0,50.0,Documentary,2020-04-08,data/img/poster-103.jpg,Documentary,NaN,NaN,NaN,NaN,NaN\n",
    "TERRA WILLY,100.0,85.0,\"Adventure, Sci Fi, Kids And Family, Comedy, Animation\",2020-10-23,data/img/poster-104.jpg,Adventure, Sci Fi, Kids And Family, Comedy, Animation,NaN\n",
    "THE TRUE ADVENTURES OF WOLFBOY,78.0,60.0,Drama,2020-10-30,data/img/poster-105.jpg,Drama,NaN,NaN,NaN,NaN,NaN\n",
    "BULLETS OF JUSTICE,57.0,0.0,\"Action, Comedy, Horror\",2020-10-15,data/img/poster-106.jpg,Action, Comedy, Horror,NaN,NaN,NaN\n",
    "THE ANTENNA,55.0,0.0,\"Mystery And Thriller, Horror\",2020-10-02,data/img/poster-107.jpg,Mystery And Thriller, Horror,NaN,NaN,NaN,NaN\n",
    "LOVE AND MONSTERS,92.0,89.0,\"Comedy, Fantasy, Adventure\",2020-10-16,data/img/poster-108.jpg,Comedy, Fantasy, Adventure,NaN,NaN,NaN"
   ]
  },
  {
   "cell_type": "markdown",
   "metadata": {},
   "source": [
    "If the data is in the correct format RawGraphs will tell you that: \"101 records in your data have been successfully parsed!\""
   ]
  },
  {
   "cell_type": "markdown",
   "metadata": {},
   "source": [
    "We can now see the further steps required to make a data visualization in RawGrapjs\n",
    "You will see 'Choose a Chart' below your data.\n",
    "\n",
    "In this example we will have a look at a scatterplot and a contour plot.\n",
    "\n",
    "When you have selected the chart you wish to creat you will now have the option of mapping the data onto the different dimensions.\n",
    "\n",
    "Simply drag the apropriate data on to the appropriate dimension. RawGraphs creates the visualisation in real time as you map the data.\n",
    "\n",
    "You can export your data visualzation within the 'download' section at the bottom of the page.\n",
    "\n",
    "Exporting as an svg allows for you to continue adding details or further customizing the visualization in software such as Illustrator, Sketch, Figma and so on."
   ]
  }
 ],
 "metadata": {
  "kernelspec": {
   "display_name": "Python 3",
   "language": "python",
   "name": "python3"
  },
  "language_info": {
   "codemirror_mode": {
    "name": "ipython",
    "version": 3
   },
   "file_extension": ".py",
   "mimetype": "text/x-python",
   "name": "python",
   "nbconvert_exporter": "python",
   "pygments_lexer": "ipython3",
   "version": "3.7.6"
  }
 },
 "nbformat": 4,
 "nbformat_minor": 4
}
