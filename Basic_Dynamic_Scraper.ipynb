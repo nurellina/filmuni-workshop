{
 "cells": [
  {
   "cell_type": "markdown",
   "metadata": {},
   "source": [
    "## Dynamic Scraping with Selenium and Chrome webdriver"
   ]
  },
  {
   "cell_type": "markdown",
   "metadata": {},
   "source": [
    "This is a simple notebook to work with Selenium and Chrome Webdriver in order to scrape a dynamic website. While for static websites we can use [Beautiful Soup](https://pypi.org/project/beautifulsoup4/), when we are working with dynamic ones we need Selenium. The key aspect of [Selenium](https://pypi.org/project/selenium/) is that it executes javascript when loading a page request, this allows for dynamic websites to be scraped easily. To complete our exercise we will also use [pandas](https://pypi.org/project/pandas/), the data science and data analysis library, in order to create a dataframe and export our data to our local machine.\n",
    "\n",
    "**Tutorial sections:**\n",
    "- **Headless browsers**: Start a WebDriver session with Selenium\n",
    "- **One page simple scraping**: retrieve all the content from one page and create a dataframe\n",
    "- **Scraping across pages**: Continously load new content, then create a dataframe"
   ]
  },
  {
   "cell_type": "markdown",
   "metadata": {},
   "source": [
    "**Step 1: import**"
   ]
  },
  {
   "cell_type": "code",
   "execution_count": 73,
   "metadata": {},
   "outputs": [],
   "source": [
    "# Will make scraping possible\n",
    "from selenium import webdriver\n",
    "from selenium.webdriver.chrome.options import Options\n",
    "from webdriver_manager.chrome import ChromeDriverManager\n",
    "from selenium.common.exceptions import NoSuchElementException\n",
    "import time\n",
    "\n",
    "# Will allow to request, access and write urls of images and other links\n",
    "import urllib.request\n",
    "import requests\n",
    "\n",
    "# Will provide structure to data\n",
    "import pandas as pd"
   ]
  },
  {
   "cell_type": "markdown",
   "metadata": {},
   "source": [
    "Initialize Selenium and driver instance using Chrome WebDriver. To properly install ChromeDriver you can manually set the path following [this guide](https://www.kenst.com/2015/03/including-the-chromedriver-location-in-macos-system-path/) or use `pip install webdriver-manager` to manage it."
   ]
  },
  {
   "cell_type": "markdown",
   "metadata": {},
   "source": [
    "**Step 2: start Chrome webdriver session**"
   ]
  },
  {
   "cell_type": "markdown",
   "metadata": {},
   "source": [
    "For the purpose of this exercise we will get some movies from [Rotten Tomatoes](https://www.rottentomatoes.com/browse/dvd-streaming-all). We are interested in creating a dataset of titles with their ranking, date of release and cover."
   ]
  },
  {
   "cell_type": "code",
   "execution_count": 112,
   "metadata": {
    "scrolled": true
   },
   "outputs": [
    {
     "name": "stderr",
     "output_type": "stream",
     "text": [
      "[WDM] - Current google-chrome version is 87.0.4280\n",
      "[WDM] - Get LATEST driver version for 87.0.4280\n",
      "[WDM] - Driver [/Users/francescamorini/.wdm/drivers/chromedriver/mac64/87.0.4280.88/chromedriver] found in cache\n"
     ]
    },
    {
     "name": "stdout",
     "output_type": "stream",
     "text": [
      " \n",
      "done\n"
     ]
    }
   ],
   "source": [
    "# We start an headless Chrome session. (Headless means that we don't open a visual browser window)\n",
    "options = Options()\n",
    "options.headless = True\n",
    "options.add_argument(\"--window-size=1920,1200\")\n",
    "\n",
    "# instead of setting path manually (still possible but a bit annoying) we use DriverManager\n",
    "driver = webdriver.Chrome(executable_path=ChromeDriverManager().install(), options=options)\n",
    "driver.get(\"https://www.rottentomatoes.com/browse/dvd-streaming-all\")\n",
    "\n",
    "# print(driver.page_source)\n",
    "print('done')"
   ]
  },
  {
   "cell_type": "markdown",
   "metadata": {},
   "source": [
    "### One time simple scraping"
   ]
  },
  {
   "cell_type": "markdown",
   "metadata": {},
   "source": [
    "The concept behind scraping is quite easy to grasp. We are creating a script that behaves like a human. By using the correct methods we can fake human interactions on webpage. While usually scripts \"see\" different things than us, Selenium, Beautiful Soup and WebDrivers are built to see pages as we would do. Scripts are obviously faster, they don't get to go to the toilet and they do everything very enthusiastically."
   ]
  },
  {
   "cell_type": "markdown",
   "metadata": {},
   "source": [
    "**Step 3: Get movies**"
   ]
  },
  {
   "cell_type": "code",
   "execution_count": 49,
   "metadata": {},
   "outputs": [],
   "source": [
    "# Only getting first page results\n",
    "movies = driver.find_elements_by_class_name('mb-movie')"
   ]
  },
  {
   "cell_type": "markdown",
   "metadata": {},
   "source": [
    "**Step 4: loop through movies and build a list of lists containing our data**"
   ]
  },
  {
   "cell_type": "code",
   "execution_count": 114,
   "metadata": {},
   "outputs": [
    {
     "name": "stdout",
     "output_type": "stream",
     "text": [
      "1\n",
      "2\n",
      "3\n",
      "4\n",
      "5\n",
      "6\n",
      "7\n",
      "8\n",
      "9\n",
      "10\n",
      "11\n",
      "12\n",
      "13\n",
      "14\n",
      "15\n",
      "16\n",
      "17\n",
      "18\n",
      "19\n",
      "20\n",
      "21\n",
      "22\n",
      "23\n",
      "24\n",
      "25\n",
      "26\n",
      "27\n",
      "28\n",
      "29\n",
      "30\n",
      "31\n",
      "32\n",
      "33\n",
      "34\n",
      "35\n",
      "36\n",
      "37\n",
      "38\n",
      "39\n",
      "40\n",
      "41\n",
      "42\n",
      "43\n",
      "44\n",
      "45\n",
      "46\n",
      "47\n",
      "48\n",
      "49\n",
      "50\n",
      "51\n",
      "52\n",
      "53\n",
      "54\n",
      "55\n",
      "56\n",
      "57\n",
      "58\n",
      "59\n",
      "60\n",
      "61\n",
      "62\n",
      "63\n",
      "64\n",
      "65\n",
      "66\n",
      "67\n",
      "68\n",
      "69\n",
      "70\n",
      "71\n",
      "72\n",
      "73\n",
      "74\n",
      "75\n",
      "76\n",
      "77\n",
      "78\n",
      "79\n",
      "80\n",
      "81\n",
      "82\n",
      "83\n",
      "84\n",
      "85\n",
      "86\n",
      "87\n",
      "88\n",
      "89\n",
      "90\n",
      "91\n",
      "92\n",
      "93\n",
      "94\n",
      "95\n",
      "96\n",
      "97\n",
      "98\n",
      "99\n",
      "100\n",
      "101\n",
      "102\n",
      "103\n",
      "104\n",
      "105\n",
      "106\n",
      "107\n",
      "108\n",
      "109\n",
      "110\n",
      "111\n",
      "112\n",
      "113\n",
      "114\n",
      "115\n",
      "116\n",
      "117\n",
      "118\n",
      "119\n",
      "120\n",
      "121\n",
      "122\n",
      "123\n",
      "124\n",
      "125\n",
      "126\n",
      "127\n",
      "128\n",
      "129\n",
      "130\n",
      "131\n",
      "132\n",
      "133\n",
      "134\n",
      "135\n",
      "136\n",
      "137\n",
      "138\n",
      "139\n",
      "140\n",
      "141\n",
      "142\n",
      "143\n",
      "144\n",
      "145\n",
      "146\n",
      "147\n",
      "148\n",
      "149\n",
      "150\n",
      "151\n",
      "152\n",
      "153\n",
      "154\n",
      "155\n",
      "156\n",
      "157\n",
      "158\n",
      "159\n",
      "160\n",
      "161\n",
      "162\n",
      "163\n",
      "164\n",
      "165\n",
      "166\n",
      "167\n",
      "168\n",
      "169\n",
      "170\n",
      "171\n",
      "172\n",
      "173\n",
      "174\n",
      "175\n",
      "176\n",
      "177\n",
      "178\n",
      "179\n",
      "180\n",
      "181\n",
      "182\n",
      "183\n",
      "184\n",
      "185\n",
      "186\n",
      "187\n",
      "188\n",
      "189\n",
      "190\n",
      "191\n",
      "192\n",
      "193\n",
      "194\n",
      "195\n",
      "196\n",
      "197\n",
      "198\n",
      "199\n",
      "200\n",
      "201\n",
      "202\n",
      "203\n",
      "204\n",
      "205\n",
      "206\n",
      "207\n",
      "208\n",
      "209\n",
      "210\n",
      "211\n",
      "212\n",
      "213\n",
      "214\n",
      "215\n",
      "216\n",
      "217\n",
      "218\n",
      "219\n",
      "220\n",
      "221\n",
      "222\n",
      "223\n",
      "224\n",
      "225\n",
      "226\n",
      "227\n",
      "228\n",
      "229\n",
      "230\n",
      "231\n",
      "232\n",
      "233\n",
      "234\n",
      "235\n",
      "236\n",
      "237\n",
      "238\n",
      "239\n",
      "240\n",
      "241\n",
      "242\n",
      "243\n",
      "244\n",
      "245\n",
      "246\n",
      "247\n",
      "248\n",
      "249\n",
      "250\n",
      "251\n",
      "252\n",
      "253\n",
      "254\n",
      "255\n",
      "256\n",
      "257\n",
      "258\n",
      "259\n",
      "260\n",
      "261\n",
      "262\n",
      "263\n",
      "264\n",
      "265\n",
      "266\n",
      "267\n",
      "268\n",
      "269\n",
      "270\n",
      "271\n",
      "272\n",
      "273\n",
      "274\n",
      "275\n",
      "276\n",
      "277\n",
      "278\n",
      "279\n",
      "280\n",
      "281\n",
      "282\n",
      "283\n",
      "284\n",
      "285\n",
      "286\n",
      "287\n",
      "288\n",
      "289\n",
      "290\n",
      "291\n",
      "292\n",
      "293\n",
      "294\n",
      "295\n",
      "296\n",
      "297\n",
      "298\n",
      "299\n",
      "300\n",
      "301\n",
      "302\n",
      "303\n",
      "304\n",
      "305\n",
      "306\n",
      "307\n",
      "308\n",
      "309\n",
      "310\n",
      "311\n",
      "312\n",
      "313\n",
      "314\n",
      "[['The Emoji Story (Picture Character)', ' 91%', 'Available Dec 22', 'data/img/poster-1.jpg'], ['Yellow Rose', ' 86%', 'Available Jan 5', 'data/img/poster-2.jpg'], ['Soul', ' 96%', 'Available Dec 25', 'data/img/poster-3.jpg'], ['Sing Me A Song', ' 88%', 'Available Jan 1', 'data/img/poster-4.jpg'], ['Pieces Of A Woman', ' 77%', 'Available Jan 7', 'data/img/poster-5.jpg'], [\"I'M Your Woman\", ' 81%', 'Available Dec 11', 'data/img/poster-6.jpg'], ['Lupin III: The First', ' 94%', 'Available Dec 15', 'data/img/poster-7.jpg'], [\"Sylvie'S Love\", ' 92%', 'Available Dec 23', 'data/img/poster-8.jpg'], ['Beasts Clawing At Straws', ' 96%', 'Available Dec 15', 'data/img/poster-9.jpg'], ['Shadow In The Cloud', ' 76%', 'Available Jan 1', 'data/img/poster-10.jpg'], ['I Am Lisa', ' 91%', 'Available Jan 5', 'data/img/poster-11.jpg'], ['Shortcut', ' 58%', 'Available Dec 22', 'data/img/poster-12.jpg'], ['The Midnight Sky', ' 51%', 'Available Dec 23', 'data/img/poster-13.jpg'], [\"Ma Rainey'S Black Bottom\", ' 98%', 'Available Dec 18', 'data/img/poster-14.jpg'], ['Archenemy', ' 71%', 'Available Dec 11', 'data/img/poster-15.jpg'], ['Skylines', ' 52%', 'Available Dec 18', 'data/img/poster-16.jpg'], ['Hunter Hunter', ' 93%', 'Available Dec 18', 'data/img/poster-17.jpg'], ['The Prom', ' 57%', 'Available Dec 11', 'data/img/poster-18.jpg'], ['Wild Mountain Thyme', ' 27%', 'Available Dec 11', 'data/img/poster-19.jpg'], ['The Stand In', ' 29%', 'Available Dec 11', 'data/img/poster-20.jpg'], ['Sister Of The Groom', ' 47%', 'Available Dec 18', 'data/img/poster-21.jpg'], ['Max Cloud', ' 50%', 'Available Dec 18', 'data/img/poster-22.jpg'], ['Breach', ' 20%', 'Available Dec 18', 'data/img/poster-23.jpg'], ['Ip Man: Kung Fu Master', ' 44%', 'Available Dec 11', 'data/img/poster-24.jpg'], ['We Can Be Heroes', ' 71%', 'Available Jan 1', 'data/img/poster-25.jpg'], ['Redemption Day', ' 6%', 'Available Jan 12', 'data/img/poster-26.jpg'], ['Yearly Departed', ' 80%', 'Available Dec 30', 'data/img/poster-27.jpg'], ['Modern Persuasion', ' 50%', 'Available Dec 18', 'data/img/poster-28.jpg'], ['The One You Feed', ' 40%', 'Available Dec 29', 'data/img/poster-29.jpg'], ['Stars Fell On Alabama', ' 56%', 'Available Jan 8', 'data/img/poster-30.jpg'], ['If Not Now, When?', ' 43%', 'Available Jan 8', 'data/img/poster-31.jpg'], ['Ariana Grande: Excuse Me, I Love You', ' 50%', 'Available Dec 21', 'data/img/poster-32.jpg'], ['Princess Of The Row', ' 88%', 'Available Nov 27', 'data/img/poster-33.jpg'], ['Hearts And Bones', ' 81%', 'Available Nov 20', 'data/img/poster-34.jpg'], ['Collective (Colectiv)', ' 99%', 'Available Nov 20', 'data/img/poster-35.jpg'], ['The Giant', ' 50%', 'Available Nov 13', 'data/img/poster-36.jpg'], ['Iron Mask', ' 21%', 'Available Nov 20', 'data/img/poster-37.jpg'], ['18 To Party', ' 57%', 'Available Dec 1', 'data/img/poster-38.jpg'], ['The Nest', ' 88%', 'Available Nov 17', 'data/img/poster-39.jpg'], ['Beast Mode', ' 57%', 'Available Dec 1', 'data/img/poster-40.jpg'], ['Train To Busan Presents: Peninsula', ' 53%', 'Available Nov 24', 'data/img/poster-41.jpg'], ['Lie Exposed', ' 0%', 'Available Nov 20', 'data/img/poster-42.jpg'], ['The Donut King', ' 97%', 'Available Nov 20', 'data/img/poster-43.jpg'], ['Stardust', ' 17%', 'Available Nov 25', 'data/img/poster-44.jpg'], ['Survival Skills', ' 85%', 'Available Dec 4', 'data/img/poster-45.jpg'], ['The Walrus And The Whistleblower', ' 40%', 'Available Nov 24', 'data/img/poster-46.jpg'], ['Ammonite', ' 67%', 'Available Dec 4', 'data/img/poster-47.jpg'], ['Run', ' 90%', 'Available Nov 20', 'data/img/poster-48.jpg'], [\"A Chef'S Voyage\", ' 67%', 'Available Nov 24', 'data/img/poster-49.jpg'], ['Chick Fight', ' 36%', 'Available Nov 13', 'data/img/poster-50.jpg'], ['Echo Boomers', ' 38%', 'Available Nov 13', 'data/img/poster-51.jpg'], ['Embattled', ' 68%', 'Available Nov 20', 'data/img/poster-52.jpg'], ['Team Marco', ' 63%', 'Available Nov 20', 'data/img/poster-53.jpg'], ['Fatman', ' 46%', 'Available Nov 24', 'data/img/poster-54.jpg'], ['Jiu Jitsu', ' 30%', 'Available Nov 20', 'data/img/poster-55.jpg'], ['Love, Weddings & Other Disasters', ' 4%', 'Available Dec 4', 'data/img/poster-56.jpg'], ['What Lies Below', ' 50%', 'Available Dec 4', 'data/img/poster-57.jpg'], ['The Orange Years: The Nickelodeon Story', ' 86%', 'Available Nov 17', 'data/img/poster-58.jpg'], ['Dear Santa', ' 92%', 'Available Dec 4', 'data/img/poster-59.jpg'], [\"I Hate New Year'S\", ' 60%', 'Available Dec 4', 'data/img/poster-60.jpg'], ['King Of Knives', ' 75%', 'Available Dec 1', 'data/img/poster-61.jpg'], ['Elyse', ' 50%', 'Available Dec 4', 'data/img/poster-62.jpg'], ['The Mystery Of The Pink Flamingo', ' 100%', 'Available Dec 1', 'data/img/poster-63.jpg'], ['Truth Is The Only Client: The Official Investigation Of The Murder Of John F. Kennedy', ' 100%', 'Available Nov 17', 'data/img/poster-64.jpg'], ['That Good Night', ' 52%', 'Available Nov 3', 'data/img/poster-65.jpg'], ['Ryuichi Sakamoto: Coda', ' 98%', 'Available Nov 3', 'data/img/poster-66.jpg'], [\"Wolfman'S Got Nards\", ' 100%', 'Available Oct 27', 'data/img/poster-67.jpg'], ['The Informer', ' 62%', 'Available Nov 6', 'data/img/poster-68.jpg'], [\"Creem: America'S Only Rock 'N' Roll Magazine\", ' 96%', 'Available Nov 10', 'data/img/poster-69.jpg'], ['Honey Bee', ' 100%', 'Available Nov 10', 'data/img/poster-70.jpg'], ['The Place Of No Words', ' 69%', 'Available Oct 23', 'data/img/poster-71.jpg'], ['Nomad: In The Footsteps Of Bruce Chatwin', ' 92%', 'Available Oct 27', 'data/img/poster-72.jpg'], ['Terra Willy: Unexplored Planet (Astro Kid)', ' 100%', 'Available Oct 27', 'data/img/poster-73.jpg'], ['The True Adventures Of Wolfboy', ' 78%', 'Available Oct 30', 'data/img/poster-74.jpg'], ['The Shock Of The Future (Le Choc Du Futur)', ' 79%', 'Available Nov 10', 'data/img/poster-75.jpg'], ['A Rainy Day In New York', ' 46%', 'Available Nov 10', 'data/img/poster-76.jpg'], ['Jungleland', ' 74%', 'Available Nov 10', 'data/img/poster-77.jpg'], ['The Craft: Legacy', ' 47%', 'Available Oct 28', 'data/img/poster-78.jpg'], ['Spell', ' 47%', 'Available Oct 30', 'data/img/poster-79.jpg'], ['Dating Amber', ' 96%', 'Available Nov 10', 'data/img/poster-80.jpg'], ['Represent', ' 100%', 'Available Nov 3', 'data/img/poster-81.jpg'], ['Mortal (Torden)', ' 53%', 'Available Nov 6', 'data/img/poster-82.jpg'], ['Kindred', ' 69%', 'Available Nov 6', 'data/img/poster-83.jpg'], ['Major Arcana', ' 88%', 'Available Nov 6', 'data/img/poster-84.jpg'], ['The Dark And The Wicked', ' 90%', 'Available Nov 6', 'data/img/poster-85.jpg'], ['Triggered', ' 48%', 'Available Nov 6', 'data/img/poster-86.jpg'], ['The Dark Divide', ' 92%', 'Available Nov 10', 'data/img/poster-87.jpg'], ['Harry Chapin: When In Doubt, Do Something', ' 100%', 'Available Oct 30', 'data/img/poster-88.jpg'], ['Where She Lies', ' 100%', 'Available Nov 10', 'data/img/poster-89.jpg'], ['One Man And His Shoes', ' 77%', 'Available Oct 26', 'data/img/poster-90.jpg'], ['My Summer As A Goth', ' 20%', 'Available Nov 11', 'data/img/poster-91.jpg'], ['Sleepless Beauty', ' 40%', 'Available Nov 10', 'data/img/poster-92.jpg'], ['Greatland', ' 40%', 'Available Nov 1', 'data/img/poster-93.jpg'], ['Cup Of Cheer', ' 64%', 'Available Nov 5', 'data/img/poster-94.jpg'], ['They Reach', ' 43%', 'Available Nov 3', 'data/img/poster-95.jpg'], ['Love In Dangerous Times', ' 80%', 'Available Nov 3', 'data/img/poster-96.jpg'], ['The Sounding', ' 69%', 'Available Oct 20', 'data/img/poster-97.jpg'], ['The More You Ignore Me', ' 78%', 'Available Oct 13', 'data/img/poster-98.jpg'], ['The Devil Has A Name', ' 33%', 'Available Oct 16', 'data/img/poster-99.jpg'], [\"J.R. 'Bob' Dobbs & The Church Of The SubGenius\", ' 100%', 'Available Oct 20', 'data/img/poster-100.jpg'], ['Ms. White Light', ' 57%', 'Available Oct 6', 'data/img/poster-101.jpg'], ['The Wall Of Mexico', ' 70%', 'Available Oct 13', 'data/img/poster-102.jpg'], ['Sibyl', ' 56%', 'Available Oct 13', 'data/img/poster-103.jpg'], ['Bullets Of Justice', ' 57%', 'Available Oct 15', 'data/img/poster-104.jpg'], ['The Antenna (Bina)', ' 55%', 'Available Oct 20', 'data/img/poster-105.jpg'], ['Aggie', ' 75%', 'Available Oct 9', 'data/img/poster-106.jpg'], ['Love And Monsters', ' 92%', 'Available Oct 16', 'data/img/poster-107.jpg'], ['Shithouse', ' 96%', 'Available Oct 16', 'data/img/poster-108.jpg'], ['Tapeworm', ' 86%', 'Available Oct 13', 'data/img/poster-109.jpg'], ['After We Collided', ' 14%', 'Available Oct 23', 'data/img/poster-110.jpg'], ['Broil', ' 40%', 'Available Oct 13', 'data/img/poster-111.jpg'], ['Over The Moon', ' 81%', 'Available Oct 23', 'data/img/poster-112.jpg'], ['White Noise', ' 86%', 'Available Oct 21', 'data/img/poster-113.jpg'], ['The Secrets We Keep', ' 64%', 'Available Oct 16', 'data/img/poster-114.jpg'], ['From The Vine', ' 81%', 'Available Oct 9', 'data/img/poster-115.jpg'], ['Alone', ' 40%', 'Available Oct 16', 'data/img/poster-116.jpg'], ['The Doorman', ' 16%', 'Available Oct 9', 'data/img/poster-117.jpg'], ['The Opening Act', ' 86%', 'Available Oct 16', 'data/img/poster-118.jpg'], ['Friendsgiving', ' 20%', 'Available Oct 23', 'data/img/poster-119.jpg'], ['Tar', ' 25%', 'Available Oct 20', 'data/img/poster-120.jpg'], ['Totally Under Control', ' 99%', 'Available Oct 13', 'data/img/poster-121.jpg'], ['The Wolf Of Snow Hollow', ' 89%', 'Available Oct 9', 'data/img/poster-122.jpg'], [\"Don'T Look Back\", ' 61%', 'Available Oct 16', 'data/img/poster-123.jpg'], ['The Disrupted', ' 100%', 'Available Oct 13', 'data/img/poster-124.jpg'], ['Chop Chop', ' 17%', 'Available Oct 20', 'data/img/poster-125.jpg'], ['Rom Boys: 40 Years Of Rad', ' 100%', 'Available Oct 13', 'data/img/poster-126.jpg'], ['Tremors: Shrieker Island', ' 38%', 'Available Oct 20', 'data/img/poster-127.jpg'], ['Batman: Death In The Family', ' 71%', 'Available Oct 13', 'data/img/poster-128.jpg'], ['Buddies', ' 100%', 'Available Sep 29', 'data/img/poster-129.jpg'], ['Eternal Beauty', ' 78%', 'Available Oct 2', 'data/img/poster-130.jpg'], ['Red, White & Wasted', ' 79%', 'Available Sep 22', 'data/img/poster-131.jpg'], ['H Is For Happiness', ' 76%', 'Available Sep 18', 'data/img/poster-132.jpg'], ['Halloween Party', ' 60%', 'Available Oct 2', 'data/img/poster-133.jpg'], ['The Swerve', ' 98%', 'Available Sep 22', 'data/img/poster-134.jpg'], ['The Glorias', ' 68%', 'Available Sep 30', 'data/img/poster-135.jpg'], ['Scare Me', ' 83%', 'Available Oct 1', 'data/img/poster-136.jpg'], ['Save Yourselves!', ' 88%', 'Available Oct 6', 'data/img/poster-137.jpg'], [\"She'S In Portland\", ' 67%', 'Available Sep 25', 'data/img/poster-138.jpg'], ['A Call To Spy', ' 73%', 'Available Oct 2', 'data/img/poster-139.jpg'], ['All Roads To Pearla (Sleeping In Plastic)', ' 60%', 'Available Sep 25', 'data/img/poster-140.jpg'], [\"The Artist'S Wife\", ' 68%', 'Available Sep 25', 'data/img/poster-141.jpg'], ['Misbehaviour', ' 85%', 'Available Sep 25', 'data/img/poster-142.jpg'], ['12 Hour Shift', ' 77%', 'Available Oct 2', 'data/img/poster-143.jpg'], ['The Ringmaster', ' 92%', 'Available Oct 6', 'data/img/poster-144.jpg'], ['Jimmy Carter: Rock & Roll President', ' 94%', 'Available Oct 2', 'data/img/poster-145.jpg'], ['Ottolenghi And The Cakes Of Versailles', ' 71%', 'Available Sep 25', 'data/img/poster-146.jpg'], ['Sno Babies', ' 25%', 'Available Sep 29', 'data/img/poster-147.jpg'], ['Death Of Me', ' 32%', 'Available Oct 2', 'data/img/poster-148.jpg'], ['The Curse Of Audrey Earnshaw', ' 76%', 'Available Oct 6', 'data/img/poster-149.jpg'], ['Stuntwomen: The Untold Hollywood Story', ' 100%', 'Available Sep 20', 'data/img/poster-150.jpg'], ['Spontaneous', ' 98%', 'Available Oct 6', 'data/img/poster-151.jpg'], ['Hosts', ' 82%', 'Available Oct 2', 'data/img/poster-152.jpg'], ['Resisterhood', ' 100%', 'Available Sep 22', 'data/img/poster-153.jpg'], ['LX 2048', ' 43%', 'Available Sep 25', 'data/img/poster-154.jpg'], ['Then Came You', ' 50%', 'Available Oct 2', 'data/img/poster-155.jpg'], ['2067', ' 31%', 'Available Oct 2', 'data/img/poster-156.jpg'], ['The Devil To Pay', ' 100%', 'Available Oct 6', 'data/img/poster-157.jpg'], ['The Phenomenon', ' 88%', 'Available Oct 6', 'data/img/poster-158.jpg'], [\"Let'S Scare Julie\", ' 40%', 'Available Oct 2', 'data/img/poster-159.jpg'], ['Herb Alpert Is...', ' 82%', 'Available Oct 1', 'data/img/poster-160.jpg'], ['Lost Girls & Love Hotels', ' 48%', 'Available Sep 18', 'data/img/poster-161.jpg'], ['Buoyancy', ' 97%', 'Available Sep 11', 'data/img/poster-162.jpg'], ['The Garden Left Behind', ' 92%', 'Available Sep 8', 'data/img/poster-163.jpg'], ['Heimat Is A Space In Time (Heimat Ist Ein Raum Aus Zeit)', ' 100%', 'Available Sep 8', 'data/img/poster-164.jpg'], ['Measure For Measure', ' 36%', 'Available Sep 4', 'data/img/poster-165.jpg'], ['I Am Woman', ' 67%', 'Available Sep 11', 'data/img/poster-166.jpg'], ['House Of Cardin', ' 92%', 'Available Sep 15', 'data/img/poster-167.jpg'], ['Entwined', ' 65%', 'Available Sep 8', 'data/img/poster-168.jpg'], ['Nail In The Coffin: The Fall And Rise Of Vampiro', ' 100%', 'Available Sep 8', 'data/img/poster-169.jpg'], ['Luz: The Flower Of Evil', ' 100%', 'Available Sep 15', 'data/img/poster-170.jpg'], ['Alive', ' 78%', 'Available Sep 18', 'data/img/poster-171.jpg'], ['Antebellum', ' 28%', 'Available Sep 18', 'data/img/poster-172.jpg'], ['Feels Good Man', ' 96%', 'Available Sep 4', 'data/img/poster-173.jpg'], ['Toss It', ' 71%', 'Available Sep 17', 'data/img/poster-174.jpg'], ['The Racer', ' 82%', 'Available Sep 18', 'data/img/poster-175.jpg'], ['Critical Thinking', ' 94%', 'Available Sep 4', 'data/img/poster-176.jpg'], ['Teenage Badass', ' 67%', 'Available Sep 18', 'data/img/poster-177.jpg'], ['Rent-A-Pal', ' 68%', 'Available Sep 11', 'data/img/poster-178.jpg'], ['Red Shoes And The Seven Dwarfs', ' 40%', 'Available Sep 18', 'data/img/poster-179.jpg'], [\"I'Ve Got Issues\", ' 67%', 'Available Sep 15', 'data/img/poster-180.jpg'], ['The Argument', ' 72%', 'Available Sep 4', 'data/img/poster-181.jpg'], ['Up On The Glass', ' 50%', 'Available Sep 8', 'data/img/poster-182.jpg'], ['DTF', ' 67%', 'Available Sep 15', 'data/img/poster-183.jpg'], ['Range Runners', ' 20%', 'Available Sep 8', 'data/img/poster-184.jpg'], ['No Escape (Follow Me)', ' 20%', 'Available Sep 18', 'data/img/poster-185.jpg'], ['All In: The Fight For Democracy', ' 100%', 'Available Sep 18', 'data/img/poster-186.jpg'], ['Cats & Dogs 3: Paws Unite!', ' 11%', 'Available Sep 15', 'data/img/poster-187.jpg'], ['Murder In The Woods', ' 82%', 'Available Sep 18', 'data/img/poster-188.jpg'], ['First One In', ' 100%', 'Available Sep 8', 'data/img/poster-189.jpg'], ['Summerland', ' 88%', 'Available Sep 14', 'data/img/poster-190.jpg'], ['American Street Kid', ' 86%', 'Available Aug 21', 'data/img/poster-191.jpg'], ['Ravage', ' 67%', 'Available Aug 21', 'data/img/poster-192.jpg'], ['Bill & Ted Face The Music', ' 82%', 'Available Aug 28', 'data/img/poster-193.jpg'], ['Love Express: The Disappearance Of Walerian Borowczyk', ' 56%', 'Available Aug 21', 'data/img/poster-194.jpg'], ['The Prey', ' 73%', 'Available Aug 25', 'data/img/poster-195.jpg'], ['Benjamin', ' 89%', 'Available Aug 25', 'data/img/poster-196.jpg'], ['I Hate New York', ' 100%', 'Available Sep 1', 'data/img/poster-197.jpg'], ['Children Of The Sea (KaijÛ No Kodomo)', ' 61%', 'Available Sep 1', 'data/img/poster-198.jpg'], ['Desert One', ' 90%', 'Available Aug 21', 'data/img/poster-199.jpg'], ['Watch List', ' 100%', 'Available Sep 1', 'data/img/poster-200.jpg'], ['Matthias & Maxime', ' 66%', 'Available Aug 28', 'data/img/poster-201.jpg'], ['Bloody Nose, Empty Pockets', ' 92%', 'Available Sep 1', 'data/img/poster-202.jpg'], ['The Mole Agent', ' 94%', 'Available Sep 1', 'data/img/poster-203.jpg'], ['Fatima', ' 62%', 'Available Aug 28', 'data/img/poster-204.jpg'], ['Followed', ' 71%', 'Available Sep 1', 'data/img/poster-205.jpg'], ['The 24th', ' 78%', 'Available Aug 21', 'data/img/poster-206.jpg'], ['You Cannot Kill David Arquette', ' 83%', 'Available Aug 28', 'data/img/poster-207.jpg'], ['The Surrogate', ' 92%', 'Available Sep 1', 'data/img/poster-208.jpg'], ['Centigrade', ' 41%', 'Available Aug 28', 'data/img/poster-209.jpg'], ['One Night In Bangkok', ' 33%', 'Available Aug 25', 'data/img/poster-210.jpg'], ['Tom Of Your Life', ' 67%', 'Available Sep 1', 'data/img/poster-211.jpg'], ['Rogue', ' 67%', 'Available Aug 28', 'data/img/poster-212.jpg'], ['Hard Kill', ' 0%', 'Available Aug 25', 'data/img/poster-213.jpg'], ['Guest House', ' 0%', 'Available Sep 4', 'data/img/poster-214.jpg'], ['Driven To Abstraction', ' 67%', 'Available Aug 28', 'data/img/poster-215.jpg'], ['The Owners', ' 65%', 'Available Sep 4', 'data/img/poster-216.jpg'], ['Still Here', ' 29%', 'Available Sep 4', 'data/img/poster-217.jpg'], ['The Blech Effect', ' 60%', 'Available Aug 25', 'data/img/poster-218.jpg'], [\"Robin'S Wish\", ' 89%', 'Available Sep 1', 'data/img/poster-219.jpg'], ['#Unfit: The Psychology Of Donald Trump', ' 81%', 'Available Sep 1', 'data/img/poster-220.jpg'], ['Immortal', ' 88%', 'Available Sep 1', 'data/img/poster-221.jpg'], [\"Jazz On A Summer'S Day\", ' 100%', 'Available Aug 12', 'data/img/poster-222.jpg'], ['Carmen & Lola (Carmen Y Lola)', ' 89%', 'Available Aug 14', 'data/img/poster-223.jpg'], ['Open 24 Hours', ' 40%', 'Available Aug 18', 'data/img/poster-224.jpg'], ['Sometimes Always Never (Triple Word Score)', ' 82%', 'Available Aug 18', 'data/img/poster-225.jpg'], ['Cane River', ' 100%', 'Available Aug 18', 'data/img/poster-226.jpg'], ['Pariah Dog', ' 100%', 'Available Aug 18', 'data/img/poster-227.jpg'], ['Fagara (Huajiao Zhiwei)', ' 100%', 'Available Aug 8', 'data/img/poster-228.jpg'], ['Spree', ' 65%', 'Available Aug 14', 'data/img/poster-229.jpg'], ['Happy Happy Joy Joy: The Ren & Stimpy Story', ' 81%', 'Available Aug 14', 'data/img/poster-230.jpg'], ['Big Fur', ' 100%', 'Available Aug 11', 'data/img/poster-231.jpg'], ['Emperor', ' 71%', 'Available Aug 18', 'data/img/poster-232.jpg'], ['Darkness Falls', ' 13%', 'Available Aug 18', 'data/img/poster-233.jpg'], ['The Lawyer (Advokatas)', ' 100%', 'Available Aug 18', 'data/img/poster-234.jpg'], ['Martin Margiela: In His Own Words', ' 78%', 'Available Aug 14', 'data/img/poster-235.jpg'], ['Sputnik', ' 89%', 'Available Aug 14', 'data/img/poster-236.jpg'], ['Max Reload And The Nether Blasters', ' 82%', 'Available Aug 11', 'data/img/poster-237.jpg'], ['Endless', ' 19%', 'Available Aug 14', 'data/img/poster-238.jpg'], ['IRL', ' 100%', 'Available Aug 11', 'data/img/poster-239.jpg'], ['Uncle Peckerhead', ' 100%', 'Available Aug 11', 'data/img/poster-240.jpg'], ['The Bay Of Silence', ' 52%', 'Available Aug 14', 'data/img/poster-241.jpg'], ['Pearl', ' 57%', 'Available Aug 11', 'data/img/poster-242.jpg'], ['The Honeymoon Phase', ' 75%', 'Available Aug 21', 'data/img/poster-243.jpg'], ['The Vanished', ' 15%', 'Available Aug 21', 'data/img/poster-244.jpg'], ['Kat And The Band', ' 60%', 'Available Aug 11', 'data/img/poster-245.jpg'], ['Monstrous', ' 60%', 'Available Aug 11', 'data/img/poster-246.jpg'], ['Northwood Pie', ' 93%', 'Available Aug 14', 'data/img/poster-247.jpg'], [\"Pretending I'M A Superman: The Tony Hawk Video Game Story\", ' 100%', 'Available Aug 18', 'data/img/poster-248.jpg'], ['Coronation', ' 100%', 'Available Aug 20', 'data/img/poster-249.jpg'], ['Cut And Chop', ' 80%', 'Available Aug 14', 'data/img/poster-250.jpg'], ['Skin: A History Of Nudity In The Movies', ' 83%', 'Available Aug 18', 'data/img/poster-251.jpg'], ['Le Week-End', ' 89%', 'Available Aug 7', 'data/img/poster-252.jpg'], ['Sweet Bean (An)', ' 85%', 'Available Aug 7', 'data/img/poster-253.jpg'], ['House Of Hummingbird (Beolsae)', ' 100%', 'Available Aug 4', 'data/img/poster-254.jpg'], ['Out Stealing Horses (Ut Og StjÆLe Hester)', ' 79%', 'Available Aug 7', 'data/img/poster-255.jpg'], ['Around The Sun', ' 93%', 'Available Aug 4', 'data/img/poster-256.jpg'], ['Promare', ' 97%', 'Available Aug 4', 'data/img/poster-257.jpg'], ['Ride Your Wave', ' 93%', 'Available Aug 4', 'data/img/poster-258.jpg'], ['Lake Michigan Monster', ' 84%', 'Available Aug 3', 'data/img/poster-259.jpg'], ['Waiting For The Barbarians', ' 53%', 'Available Aug 7', 'data/img/poster-260.jpg'], ['Red Penguins', ' 96%', 'Available Aug 4', 'data/img/poster-261.jpg'], ['Calm With Horses (The Shadow Of Violence)', ' 94%', 'Available Jul 31', 'data/img/poster-262.jpg'], ['The Secret Garden', ' 67%', 'Available Aug 7', 'data/img/poster-263.jpg'], ['The Secret: Dare To Dream', ' 27%', 'Available Jul 31', 'data/img/poster-264.jpg'], ['Rebuilding Paradise', ' 92%', 'Available Jul 31', 'data/img/poster-265.jpg'], ['A Thousand Cuts', ' 100%', 'Available Aug 7', 'data/img/poster-266.jpg'], ['The Fight', ' 98%', 'Available Jul 31', 'data/img/poster-267.jpg'], ['I Used To Go Here', ' 85%', 'Available Aug 7', 'data/img/poster-268.jpg'], ['She Dies Tomorrow', ' 84%', 'Available Aug 7', 'data/img/poster-269.jpg'], ['Skin Walker', ' 60%', 'Available Aug 4', 'data/img/poster-270.jpg'], ['Made In Italy', ' 49%', 'Available Aug 7', 'data/img/poster-271.jpg'], ['Tijuana Jackson: Purpose Over Prison', ' 67%', 'Available Jul 31', 'data/img/poster-272.jpg'], ['The Big Ugly', ' 41%', 'Available Jul 31', 'data/img/poster-273.jpg'], ['Psychomagic, A Healing Art (Psychomagie, Un Art Pour GuÉRir)', ' 75%', 'Available Aug 7', 'data/img/poster-274.jpg'], ['Paydirt', ' 22%', 'Available Aug 7', 'data/img/poster-275.jpg'], ['SamSam', ' 20%', 'Available Aug 7', 'data/img/poster-276.jpg'], ['The Tax Collector', ' 19%', 'Available Aug 7', 'data/img/poster-277.jpg'], ['Nothing But The Blood', ' 0%', 'Available Aug 4', 'data/img/poster-278.jpg'], ['Senior Love Triangle', ' 88%', 'Available Aug 4', 'data/img/poster-279.jpg'], ['Deathstroke: Knights & Dragons', ' 80%', 'Available Aug 4', 'data/img/poster-280.jpg'], ['What We Found', ' 56%', 'Available Aug 4', 'data/img/poster-281.jpg'], ['Stars And Strife', ' 90%', 'Available Aug 4', 'data/img/poster-282.jpg'], ['The American Nurse', ' 100%', 'Available Jul 28', 'data/img/poster-283.jpg'], ['Game Of Death', ' 57%', 'Available Jul 14', 'data/img/poster-284.jpg'], ['Retaliation (Romans)', ' 80%', 'Available Jul 24', 'data/img/poster-285.jpg'], [\"Fisherman'S Friends\", ' 66%', 'Available Jul 24', 'data/img/poster-286.jpg'], ['The Sunlit Night', ' 35%', 'Available Jul 17', 'data/img/poster-287.jpg'], ['Babysplitters', ' 69%', 'Available Jul 24', 'data/img/poster-288.jpg'], ['Yes, God, Yes', ' 94%', 'Available Jul 28', 'data/img/poster-289.jpg'], ['Tito', ' 80%', 'Available Jul 10', 'data/img/poster-290.jpg'], ['Samurai Marathon', ' 75%', 'Available Jul 21', 'data/img/poster-291.jpg'], ['Carmilla', ' 71%', 'Available Jul 17', 'data/img/poster-292.jpg'], ['Dead Dicks', ' 100%', 'Available Jul 28', 'data/img/poster-293.jpg'], ['Guest Of Honour', ' 42%', 'Available Jul 10', 'data/img/poster-294.jpg'], ['The Painted Bird', ' 82%', 'Available Jul 17', 'data/img/poster-295.jpg'], [\"Don'T Be Nice\", ' 100%', 'Available Jul 21', 'data/img/poster-296.jpg'], ['Dirt Music', ' 30%', 'Available Jul 17', 'data/img/poster-297.jpg'], ['Gundala', ' 83%', 'Available Jul 28', 'data/img/poster-298.jpg'], ['Blessed Child', ' 91%', 'Available Jul 17', 'data/img/poster-299.jpg'], ['Amulet', ' 70%', 'Available Jul 24', 'data/img/poster-300.jpg'], ['Enter The Fat Dragon', ' 64%', 'Available Jul 14', 'data/img/poster-301.jpg'], ['Animation Outlaws', ' 100%', 'Available Jul 14', 'data/img/poster-302.jpg'], ['Blood Vessel', ' 71%', 'Available Jul 21', 'data/img/poster-303.jpg'], ['The Rental', ' 75%', 'Available Jul 24', 'data/img/poster-304.jpg'], ['Most Wanted', ' 68%', 'Available Jul 24', 'data/img/poster-305.jpg'], ['Legacy Of Lies', ' 86%', 'Available Jul 28', 'data/img/poster-306.jpg'], ['Useless Humans', ' 40%', 'Available Jul 14', 'data/img/poster-307.jpg'], ['Easy Does It', ' 29%', 'Available Jul 17', 'data/img/poster-308.jpg'], ['A Nice Girl Like You', ' 11%', 'Available Jul 17', 'data/img/poster-309.jpg'], ['The Silencing', ' 17%', 'Available Jul 16', 'data/img/poster-310.jpg'], ['Showbiz Kids', ' 96%', 'Available Jul 14', 'data/img/poster-311.jpg'], ['Deep Blue Sea 3', ' 71%', 'Available Jul 28', 'data/img/poster-312.jpg'], ['Helmut Newton: The Bad And The Beautiful', ' 69%', 'Available Jul 24', 'data/img/poster-313.jpg'], ['Host', ' 100%', 'Available Jul 30', 'data/img/poster-314.jpg']]\n"
     ]
    }
   ],
   "source": [
    "# This empty list will later contain my precious data\n",
    "moviesData = []\n",
    "# I am creating a counter, this will print the parser status and generate filenames for images\n",
    "count = 0\n",
    "for movie in movies:\n",
    "    \n",
    "    count = count + 1\n",
    "    print(count)\n",
    "    \n",
    "    # we can get precise elements by using css selectors, classes, tag names and xpaths\n",
    "    title = movie.find_element_by_class_name('movieTitle').text\n",
    "    rating = movie.find_element_by_class_name('tMeterIcon').text\n",
    "    available = movie.find_element_by_class_name('release-date').text\n",
    "    image = movie.find_element_by_tag_name('img')\n",
    "    \n",
    "    # it is also possible to get accessory information from collected elements, \n",
    "    # in this case we are interested in the src attribute\n",
    "    source = image.get_attribute(\"src\")\n",
    "    \n",
    "    # We use urllib to read the poster images and save them locally in a special folder. In order to avoid\n",
    "    # overwriting we use the {0}.format('dynamic variable') to save all of them\n",
    "    imgdestination = \"data/img/poster-{0}.jpg\".format(count)\n",
    "    urllib.request.urlretrieve(source, imgdestination)\n",
    "    \n",
    "    # We append a shorter list to the initial list\n",
    "    moviesData.append([title, rating, available, imgdestination])\n",
    "\n",
    "# Safety print to check everything is fine!\n",
    "print(moviesData)"
   ]
  },
  {
   "cell_type": "markdown",
   "metadata": {},
   "source": [
    "**Step 5: Move list of lists content to a pandas dataframe**"
   ]
  },
  {
   "cell_type": "markdown",
   "metadata": {},
   "source": [
    "We use pandas to create a dataframe holding the information we gathered from Rotten Tomatoes. This is the gateway to data analysis and data cleaning. From pandas we can export a `.csv` file that can later be cleaned, loaded in various applications and finally used to code our prototype."
   ]
  },
  {
   "cell_type": "code",
   "execution_count": 115,
   "metadata": {},
   "outputs": [],
   "source": [
    "AllStreamingTitles = pd.DataFrame(moviesData, columns=[\"title\", \"rating\", \"available\", \"img\"])"
   ]
  },
  {
   "cell_type": "code",
   "execution_count": 116,
   "metadata": {},
   "outputs": [
    {
     "data": {
      "text/html": [
       "<div>\n",
       "<style scoped>\n",
       "    .dataframe tbody tr th:only-of-type {\n",
       "        vertical-align: middle;\n",
       "    }\n",
       "\n",
       "    .dataframe tbody tr th {\n",
       "        vertical-align: top;\n",
       "    }\n",
       "\n",
       "    .dataframe thead th {\n",
       "        text-align: right;\n",
       "    }\n",
       "</style>\n",
       "<table border=\"1\" class=\"dataframe\">\n",
       "  <thead>\n",
       "    <tr style=\"text-align: right;\">\n",
       "      <th></th>\n",
       "      <th>title</th>\n",
       "      <th>rating</th>\n",
       "      <th>available</th>\n",
       "      <th>img</th>\n",
       "    </tr>\n",
       "  </thead>\n",
       "  <tbody>\n",
       "    <tr>\n",
       "      <th>271</th>\n",
       "      <td>Tijuana Jackson: Purpose Over Prison</td>\n",
       "      <td>67%</td>\n",
       "      <td>Available Jul 31</td>\n",
       "      <td>data/img/poster-272.jpg</td>\n",
       "    </tr>\n",
       "    <tr>\n",
       "      <th>292</th>\n",
       "      <td>Dead Dicks</td>\n",
       "      <td>100%</td>\n",
       "      <td>Available Jul 28</td>\n",
       "      <td>data/img/poster-293.jpg</td>\n",
       "    </tr>\n",
       "    <tr>\n",
       "      <th>167</th>\n",
       "      <td>Entwined</td>\n",
       "      <td>65%</td>\n",
       "      <td>Available Sep 8</td>\n",
       "      <td>data/img/poster-168.jpg</td>\n",
       "    </tr>\n",
       "    <tr>\n",
       "      <th>212</th>\n",
       "      <td>Hard Kill</td>\n",
       "      <td>0%</td>\n",
       "      <td>Available Aug 25</td>\n",
       "      <td>data/img/poster-213.jpg</td>\n",
       "    </tr>\n",
       "    <tr>\n",
       "      <th>113</th>\n",
       "      <td>The Secrets We Keep</td>\n",
       "      <td>64%</td>\n",
       "      <td>Available Oct 16</td>\n",
       "      <td>data/img/poster-114.jpg</td>\n",
       "    </tr>\n",
       "  </tbody>\n",
       "</table>\n",
       "</div>"
      ],
      "text/plain": [
       "                                    title rating         available  \\\n",
       "271  Tijuana Jackson: Purpose Over Prison    67%  Available Jul 31   \n",
       "292                            Dead Dicks   100%  Available Jul 28   \n",
       "167                              Entwined    65%   Available Sep 8   \n",
       "212                             Hard Kill     0%  Available Aug 25   \n",
       "113                   The Secrets We Keep    64%  Available Oct 16   \n",
       "\n",
       "                         img  \n",
       "271  data/img/poster-272.jpg  \n",
       "292  data/img/poster-293.jpg  \n",
       "167  data/img/poster-168.jpg  \n",
       "212  data/img/poster-213.jpg  \n",
       "113  data/img/poster-114.jpg  "
      ]
     },
     "execution_count": 116,
     "metadata": {},
     "output_type": "execute_result"
    }
   ],
   "source": [
    "#Previewing 5 random rows from my dataframe\n",
    "AllStreamingTitles.sample(5)"
   ]
  },
  {
   "cell_type": "markdown",
   "metadata": {},
   "source": [
    "**Step 6: Export dataframe to csv**"
   ]
  },
  {
   "cell_type": "code",
   "execution_count": 117,
   "metadata": {},
   "outputs": [],
   "source": [
    "# Check the 'data' subfolder after executing this cell to see the file.\n",
    "AllStreamingTitles.to_csv('data/titlesDataRaw.csv', sep=',')"
   ]
  },
  {
   "cell_type": "markdown",
   "metadata": {},
   "source": [
    "### Scraping across multiple pages "
   ]
  },
  {
   "cell_type": "markdown",
   "metadata": {},
   "source": [
    "What if we need to scrape more than the first page? Currently we are getting titles only from the initial screen. \n",
    "Instead we want to keep going: our script should be able to proceed down the page and do something everytime new titles need to be loaded. To approach this problem we need to go back to the source website. At the bottom of the page it's possible to spot a yellow \"Show More\" button, if we click on it new movies are loaded. \n",
    "\n",
    "**Positive aspects**\n",
    "- We have a distinct element, the yellow button with fairly easy interaction\n",
    "- We have a stable pattern and everything is happening on one single page, we don't need to touch the page URL\n",
    "- We can adopt a similar procedure to the previous one.\n",
    "\n",
    "**Negative aspects**\n",
    "- The page indefinitely loads new content, the button does not change and/or disappear at some point\n",
    "\n",
    "This calls for a fairly simple strategy. We will to modify only one step of our procedure: step 3. Instead of creating a variable with the first page results, we will create a while loop that keeps loading content up to a certain point, while getting all the movies. "
   ]
  },
  {
   "cell_type": "markdown",
   "metadata": {},
   "source": [
    "**Step 1 and 2 stay the same!**"
   ]
  },
  {
   "cell_type": "markdown",
   "metadata": {},
   "source": [
    "**Step 3: automate clicking of the \"Show More\" button**"
   ]
  },
  {
   "cell_type": "markdown",
   "metadata": {},
   "source": [
    "Websites generally don't like to be scraped (on some websites it's explicitly forbidden, so be careful). It can happen that if we are requesting too many pages or if we are interacting with the page too quickly we might get blocked or throttled (slowed). We will fake interactions with the \"Show More\" button every 10 seconds to avoid throttle."
   ]
  },
  {
   "cell_type": "code",
   "execution_count": 119,
   "metadata": {
    "scrolled": true
   },
   "outputs": [
    {
     "name": "stdout",
     "output_type": "stream",
     "text": [
      "0\n",
      "1\n",
      "2\n",
      "3\n",
      "4\n",
      "5\n",
      "6\n",
      "7\n",
      "8\n",
      "9\n",
      "10\n"
     ]
    }
   ],
   "source": [
    "pageExpandLimit = 0\n",
    "\n",
    "while True:\n",
    "    # Add 1 to counter so we can artificially stop the loop\n",
    "    print(pageExpandLimit)\n",
    "    pageExpandLimit = pageExpandLimit + 1 \n",
    "    \n",
    "    # Taking a screenshot everytime we click on the button (to check where my browser's at)\n",
    "    driver.save_screenshot(\"screenshot{0}.png\".format(pageExpandLimit))\n",
    "    \n",
    "    if pageExpandLimit < 10:\n",
    "        \n",
    "        # Generic asleep time to avoid throttle\n",
    "        time.sleep(5)\n",
    "        # Find the button element and click on it to keep loading movies\n",
    "        driver.find_element_by_class_name('mb-load-btn').click()  \n",
    "        # Dump all the elements in one list\n",
    "        moreMovies = driver.find_elements_by_class_name('mb-movie')\n",
    "        \n",
    "    # It will set the condition to False if counter is greater than 5, this will break the while loop\n",
    "    if pageExpandLimit > 10:\n",
    "        break"
   ]
  },
  {
   "cell_type": "markdown",
   "metadata": {},
   "source": [
    "**Steps 4, 5 and 6 are identical to the \"one page simple scraping\" example**"
   ]
  },
  {
   "cell_type": "code",
   "execution_count": 120,
   "metadata": {},
   "outputs": [],
   "source": [
    "#Ultimately, once we got everything we were interested in, we need to quit our WebDriver to avoid sessions piling up\n",
    "driver.quit()"
   ]
  },
  {
   "cell_type": "markdown",
   "metadata": {},
   "source": [
    "### Conclusion\n",
    "\n",
    "Each website is different, therefore scraping is often a tailored activity that requires some coding and strategizing effort. This tutorial presented some simple features and a couple of useful patterns if you need to scrape a relatively contained amount of data. There are more complex and articulated tasks that require more savviness, time and computing effort. One example are social media. For special or recurring cases there's a useful collection of tools that can be found [here](https://wiki.digitalmethods.net/Dmi/ToolDatabase)."
   ]
  },
  {
   "cell_type": "markdown",
   "metadata": {},
   "source": [
    "### References\n",
    "\n",
    "1. Guide to Selenium basic functions for scraping: https://www.scrapingbee.com/blog/selenium-python/\n",
    "2. Including WebDriver location in MacOS System Path: https://www.kenst.com/2015/03/including-the-chromedriver-location-in-macos-system-path/\n",
    "3. Data Science Skills Set: https://francesco-ai.medium.com/data-science-skills-list-9f38863adab5\n",
    "4. DMI Tools Database: https://wiki.digitalmethods.net/Dmi/ToolDatabase"
   ]
  },
  {
   "cell_type": "code",
   "execution_count": null,
   "metadata": {},
   "outputs": [],
   "source": []
  }
 ],
 "metadata": {
  "kernelspec": {
   "display_name": "my_env",
   "language": "python",
   "name": "my_env"
  },
  "language_info": {
   "codemirror_mode": {
    "name": "ipython",
    "version": 3
   },
   "file_extension": ".py",
   "mimetype": "text/x-python",
   "name": "python",
   "nbconvert_exporter": "python",
   "pygments_lexer": "ipython3",
   "version": "3.8.5"
  }
 },
 "nbformat": 4,
 "nbformat_minor": 4
}
