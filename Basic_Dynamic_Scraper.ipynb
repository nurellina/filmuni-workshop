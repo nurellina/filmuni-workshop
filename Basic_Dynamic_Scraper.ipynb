{
 "cells": [
  {
   "cell_type": "markdown",
   "metadata": {},
   "source": [
    "### Dynamic Scraping with Selenium and Chrome webdriver"
   ]
  },
  {
   "cell_type": "markdown",
   "metadata": {},
   "source": [
    "This is a work in progress notebook. The idea is to create a basic tutorial to work with Selenium and Chrome Webdriver in order to scrape a dynamic website. I am also planning for a tutorial based on BeautifulSoup for static websites, the useful thing about Selenium is that it executes javascript when loading a request, this allows for dynamic websites to be scraped easily.\n",
    "\n",
    "Tutorial steps:\n",
    "- Importing Selenium and basic rules of webdrivers\n",
    "- First scraping: get all elements on one page\n",
    "- Create a temporized click function to keep scrolling down and repeat scraping"
   ]
  },
  {
   "cell_type": "code",
   "execution_count": 20,
   "metadata": {},
   "outputs": [],
   "source": [
    "from selenium import webdriver\n",
    "from selenium.webdriver.chrome.options import Options\n",
    "import time\n",
    "import pandas as pd"
   ]
  },
  {
   "cell_type": "markdown",
   "metadata": {},
   "source": [
    "Initialize Selenium and driver instance using Chrome WebDriver. To properly install Ch"
   ]
  },
  {
   "cell_type": "code",
   "execution_count": 21,
   "metadata": {},
   "outputs": [],
   "source": [
    "# Starting headless Chrome session and getting page\n",
    "options = Options()\n",
    "options.headless = True\n",
    "options.add_argument(\"--window-size=1920,1200\")\n",
    "\n",
    "driver = webdriver.Chrome(options=options, executable_path=DRIVER_PATH)\n",
    "driver.get(\"https://www.rottentomatoes.com/browse/dvd-streaming-all\")\n",
    "# print(driver.page_source)"
   ]
  },
  {
   "cell_type": "code",
   "execution_count": 10,
   "metadata": {},
   "outputs": [],
   "source": [
    "# Only getting first page results\n",
    "movies = driver.find_elements_by_class_name('mb-movie')"
   ]
  },
  {
   "cell_type": "code",
   "execution_count": 12,
   "metadata": {
    "scrolled": true
   },
   "outputs": [
    {
     "name": "stdout",
     "output_type": "stream",
     "text": [
      "Parallel\n",
      " 78%\n",
      "Available Dec 11\n",
      "The Emoji Story (Picture Character)\n",
      " 91%\n",
      "Available Dec 22\n",
      "Soul\n",
      " 96%\n",
      "Available Dec 25\n",
      "Sing Me A Song\n",
      " 88%\n",
      "Available Jan 1\n",
      "Pieces Of A Woman\n",
      " 77%\n",
      "Available Jan 7\n",
      "I'M Your Woman\n",
      " 81%\n",
      "Available Dec 11\n",
      "Lupin III: The First\n",
      " 93%\n",
      "Available Dec 15\n",
      "Wander Darkly\n",
      " 75%\n",
      "Available Dec 11\n",
      "Sylvie'S Love\n",
      " 92%\n",
      "Available Dec 23\n",
      "Safety\n",
      " 82%\n",
      "Available Dec 11\n",
      "Beasts Clawing At Straws\n",
      " 96%\n",
      "Available Dec 15\n",
      "Wolfwalkers\n",
      " 99%\n",
      "Available Dec 11\n",
      "Shadow In The Cloud\n",
      " 76%\n",
      "Available Jan 1\n",
      "I Am Lisa\n",
      " 91%\n",
      "Available Jan 5\n",
      "Shortcut\n",
      " 56%\n",
      "Available Dec 22\n",
      "The Midnight Sky\n",
      " 51%\n",
      "Available Dec 23\n",
      "Ma Rainey'S Black Bottom\n",
      " 98%\n",
      "Available Dec 18\n",
      "Archenemy\n",
      " 71%\n",
      "Available Dec 11\n",
      "Skylines\n",
      " 52%\n",
      "Available Dec 18\n",
      "Hunter Hunter\n",
      " 93%\n",
      "Available Dec 18\n",
      "The Prom\n",
      " 57%\n",
      "Available Dec 11\n",
      "Wild Mountain Thyme\n",
      " 27%\n",
      "Available Dec 11\n",
      "Rose Island\n",
      " 78%\n",
      "Available Dec 9\n",
      "The Stand In\n",
      " 29%\n",
      "Available Dec 11\n",
      "Sister Of The Groom\n",
      " 44%\n",
      "Available Dec 18\n",
      "Max Cloud\n",
      " 53%\n",
      "Available Dec 18\n",
      "Breach\n",
      " 20%\n",
      "Available Dec 18\n",
      "Ip Man: Kung Fu Master\n",
      " 44%\n",
      "Available Dec 11\n",
      "We Can Be Heroes\n",
      " 68%\n",
      "Available Jan 1\n",
      "Yearly Departed\n",
      " 80%\n",
      "Available Dec 30\n",
      "Modern Persuasion\n",
      " 53%\n",
      "Available Dec 18\n",
      "Ariana Grande: Excuse Me, I Love You\n",
      " 50%\n",
      "Available Dec 21\n"
     ]
    }
   ],
   "source": [
    "# Looping and printing text\n",
    "for movie in movies:\n",
    "#   Maybe here some exercises on how to get specific elements or images and throw them in a Dataframe\n",
    "    print(movie.text)"
   ]
  },
  {
   "cell_type": "code",
   "execution_count": 17,
   "metadata": {},
   "outputs": [],
   "source": [
    "#Clicking on the button at the end of the page to load more movies\n",
    "more_button = driver.find_element_by_class_name(\"mb-load-btn\")\n",
    "more_button.click()"
   ]
  },
  {
   "cell_type": "code",
   "execution_count": 18,
   "metadata": {},
   "outputs": [],
   "source": [
    "# Getting all elements again\n",
    "movies = driver.find_elements_by_class_name('mb-movie')\n",
    "\n",
    "for movie in movies:\n",
    "    print(movie.text)"
   ]
  },
  {
   "cell_type": "code",
   "execution_count": null,
   "metadata": {},
   "outputs": [],
   "source": []
  }
 ],
 "metadata": {
  "kernelspec": {
   "display_name": "my_env",
   "language": "python",
   "name": "my_env"
  },
  "language_info": {
   "codemirror_mode": {
    "name": "ipython",
    "version": 3
   },
   "file_extension": ".py",
   "mimetype": "text/x-python",
   "name": "python",
   "nbconvert_exporter": "python",
   "pygments_lexer": "ipython3",
   "version": "3.8.5"
  }
 },
 "nbformat": 4,
 "nbformat_minor": 4
}
